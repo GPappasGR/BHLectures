{
 "cells": [
  {
   "cell_type": "markdown",
   "metadata": {},
   "source": [
    "# Kerr spacetime in 3+1 Kerr coordinates"
   ]
  },
  {
   "cell_type": "code",
   "execution_count": 1,
   "metadata": {
    "collapsed": true
   },
   "outputs": [],
   "source": [
    "%display latex"
   ]
  },
  {
   "cell_type": "code",
   "execution_count": 2,
   "metadata": {
    "collapsed": false
   },
   "outputs": [
    {
     "name": "stdout",
     "output_type": "stream",
     "text": [
      "4-dimensional differentiable manifold M\n"
     ]
    }
   ],
   "source": [
    "M = Manifold(4, 'M')\n",
    "print(M)"
   ]
  },
  {
   "cell_type": "code",
   "execution_count": 3,
   "metadata": {
    "collapsed": false
   },
   "outputs": [
    {
     "data": {
      "text/html": [
       "<html><script type=\"math/tex; mode=display\">\\newcommand{\\Bold}[1]{\\mathbf{#1}}\\left(M,(t, r, {\\theta}, {\\phi})\\right)</script></html>"
      ],
      "text/plain": [
       "Chart (M, (t, r, th, ph))"
      ]
     },
     "execution_count": 3,
     "metadata": {},
     "output_type": "execute_result"
    }
   ],
   "source": [
    "X.<t,r,th,ph> = M.chart(r't r th:(0,pi):\\theta ph:(0,2*pi):\\phi')\n",
    "X"
   ]
  },
  {
   "cell_type": "code",
   "execution_count": 4,
   "metadata": {
    "collapsed": false
   },
   "outputs": [
    {
     "data": {
      "text/html": [
       "<html><script type=\"math/tex; mode=display\">\\newcommand{\\Bold}[1]{\\mathbf{#1}}t :\\ \\left( -\\infty, +\\infty \\right) ;\\quad r :\\ \\left( -\\infty, +\\infty \\right) ;\\quad {\\theta} :\\ \\left( 0 , \\pi \\right) ;\\quad {\\phi} :\\ \\left( 0 , 2 \\, \\pi \\right)</script></html>"
      ],
      "text/plain": [
       "t: (-oo, +oo); r: (-oo, +oo); th: (0, pi); ph: (0, 2*pi)"
      ]
     },
     "execution_count": 4,
     "metadata": {},
     "output_type": "execute_result"
    }
   ],
   "source": [
    "X.coord_range()"
   ]
  },
  {
   "cell_type": "code",
   "execution_count": 5,
   "metadata": {
    "collapsed": true
   },
   "outputs": [],
   "source": [
    "m = var('m', domain='real')\n",
    "assume(m>0)\n",
    "a = var('a', domain='real')\n",
    "assume(a>=0)"
   ]
  },
  {
   "cell_type": "code",
   "execution_count": 6,
   "metadata": {
    "collapsed": false
   },
   "outputs": [
    {
     "data": {
      "text/html": [
       "<html><script type=\"math/tex; mode=display\">\\newcommand{\\Bold}[1]{\\mathbf{#1}}g = \\left( -\\frac{a^{2} \\cos\\left({\\theta}\\right)^{2} - 2 \\, m r + r^{2}}{a^{2} \\cos\\left({\\theta}\\right)^{2} + r^{2}} \\right) \\mathrm{d} t\\otimes \\mathrm{d} t + \\left( \\frac{2 \\, m r}{a^{2} \\cos\\left({\\theta}\\right)^{2} + r^{2}} \\right) \\mathrm{d} t\\otimes \\mathrm{d} r + \\left( -\\frac{2 \\, a m r \\sin\\left({\\theta}\\right)^{2}}{a^{2} \\cos\\left({\\theta}\\right)^{2} + r^{2}} \\right) \\mathrm{d} t\\otimes \\mathrm{d} {\\phi} + \\left( \\frac{2 \\, m r}{a^{2} \\cos\\left({\\theta}\\right)^{2} + r^{2}} \\right) \\mathrm{d} r\\otimes \\mathrm{d} t + \\left( \\frac{a^{2} \\cos\\left({\\theta}\\right)^{2} + 2 \\, m r + r^{2}}{a^{2} \\cos\\left({\\theta}\\right)^{2} + r^{2}} \\right) \\mathrm{d} r\\otimes \\mathrm{d} r + \\left( -\\frac{{\\left(a^{3} \\cos\\left({\\theta}\\right)^{2} + 2 \\, a m r + a r^{2}\\right)} \\sin\\left({\\theta}\\right)^{2}}{a^{2} \\cos\\left({\\theta}\\right)^{2} + r^{2}} \\right) \\mathrm{d} r\\otimes \\mathrm{d} {\\phi} + \\left( a^{2} \\cos\\left({\\theta}\\right)^{2} + r^{2} \\right) \\mathrm{d} {\\theta}\\otimes \\mathrm{d} {\\theta} + \\left( -\\frac{2 \\, a m r \\sin\\left({\\theta}\\right)^{2}}{a^{2} \\cos\\left({\\theta}\\right)^{2} + r^{2}} \\right) \\mathrm{d} {\\phi}\\otimes \\mathrm{d} t + \\left( -\\frac{{\\left(a^{3} \\cos\\left({\\theta}\\right)^{2} + 2 \\, a m r + a r^{2}\\right)} \\sin\\left({\\theta}\\right)^{2}}{a^{2} \\cos\\left({\\theta}\\right)^{2} + r^{2}} \\right) \\mathrm{d} {\\phi}\\otimes \\mathrm{d} r + \\left( \\frac{2 \\, a^{2} m r \\sin\\left({\\theta}\\right)^{4} + {\\left(a^{2} r^{2} + r^{4} + {\\left(a^{4} + a^{2} r^{2}\\right)} \\cos\\left({\\theta}\\right)^{2}\\right)} \\sin\\left({\\theta}\\right)^{2}}{a^{2} \\cos\\left({\\theta}\\right)^{2} + r^{2}} \\right) \\mathrm{d} {\\phi}\\otimes \\mathrm{d} {\\phi}</script></html>"
      ],
      "text/plain": [
       "g = -(a^2*cos(th)^2 - 2*m*r + r^2)/(a^2*cos(th)^2 + r^2) dt*dt + 2*m*r/(a^2*cos(th)^2 + r^2) dt*dr - 2*a*m*r*sin(th)^2/(a^2*cos(th)^2 + r^2) dt*dph + 2*m*r/(a^2*cos(th)^2 + r^2) dr*dt + (a^2*cos(th)^2 + 2*m*r + r^2)/(a^2*cos(th)^2 + r^2) dr*dr - (a^3*cos(th)^2 + 2*a*m*r + a*r^2)*sin(th)^2/(a^2*cos(th)^2 + r^2) dr*dph + (a^2*cos(th)^2 + r^2) dth*dth - 2*a*m*r*sin(th)^2/(a^2*cos(th)^2 + r^2) dph*dt - (a^3*cos(th)^2 + 2*a*m*r + a*r^2)*sin(th)^2/(a^2*cos(th)^2 + r^2) dph*dr + (2*a^2*m*r*sin(th)^4 + (a^2*r^2 + r^4 + (a^4 + a^2*r^2)*cos(th)^2)*sin(th)^2)/(a^2*cos(th)^2 + r^2) dph*dph"
      ]
     },
     "execution_count": 6,
     "metadata": {},
     "output_type": "execute_result"
    }
   ],
   "source": [
    "g = M.lorentzian_metric('g')\n",
    "rho2 = r^2 + (a*cos(th))^2\n",
    "g[0,0] = -(1 - 2*m*r/rho2)\n",
    "g[0,1] = 2*m*r/rho2\n",
    "g[0,3] = -2*a*m*r*sin(th)^2/rho2\n",
    "g[1,1] = 1 + 2*m*r/rho2\n",
    "g[1,3] = -a*(1 + 2*m*r/rho2)*sin(th)^2\n",
    "g[2,2] = rho2\n",
    "g[3,3] = (r^2+a^2+2*m*r*(a*sin(th))^2/rho2)*sin(th)^2\n",
    "g.display()"
   ]
  },
  {
   "cell_type": "code",
   "execution_count": 7,
   "metadata": {
    "collapsed": false
   },
   "outputs": [
    {
     "data": {
      "text/html": [
       "<html><script type=\"math/tex; mode=display\">\\newcommand{\\Bold}[1]{\\mathbf{#1}}\\begin{array}{lcl} g_{ \\, t \\, t }^{ \\phantom{\\, t } \\phantom{\\, t } } & = & -\\frac{a^{2} \\cos\\left({\\theta}\\right)^{2} - 2 \\, m r + r^{2}}{a^{2} \\cos\\left({\\theta}\\right)^{2} + r^{2}} \\\\ g_{ \\, t \\, r }^{ \\phantom{\\, t } \\phantom{\\, r } } & = & \\frac{2 \\, m r}{a^{2} \\cos\\left({\\theta}\\right)^{2} + r^{2}} \\\\ g_{ \\, t \\, {\\phi} }^{ \\phantom{\\, t } \\phantom{\\, {\\phi} } } & = & -\\frac{2 \\, a m r \\sin\\left({\\theta}\\right)^{2}}{a^{2} \\cos\\left({\\theta}\\right)^{2} + r^{2}} \\\\ g_{ \\, r \\, t }^{ \\phantom{\\, r } \\phantom{\\, t } } & = & \\frac{2 \\, m r}{a^{2} \\cos\\left({\\theta}\\right)^{2} + r^{2}} \\\\ g_{ \\, r \\, r }^{ \\phantom{\\, r } \\phantom{\\, r } } & = & \\frac{a^{2} \\cos\\left({\\theta}\\right)^{2} + 2 \\, m r + r^{2}}{a^{2} \\cos\\left({\\theta}\\right)^{2} + r^{2}} \\\\ g_{ \\, r \\, {\\phi} }^{ \\phantom{\\, r } \\phantom{\\, {\\phi} } } & = & -\\frac{{\\left(a^{3} \\cos\\left({\\theta}\\right)^{2} + 2 \\, a m r + a r^{2}\\right)} \\sin\\left({\\theta}\\right)^{2}}{a^{2} \\cos\\left({\\theta}\\right)^{2} + r^{2}} \\\\ g_{ \\, {\\theta} \\, {\\theta} }^{ \\phantom{\\, {\\theta} } \\phantom{\\, {\\theta} } } & = & a^{2} \\cos\\left({\\theta}\\right)^{2} + r^{2} \\\\ g_{ \\, {\\phi} \\, t }^{ \\phantom{\\, {\\phi} } \\phantom{\\, t } } & = & -\\frac{2 \\, a m r \\sin\\left({\\theta}\\right)^{2}}{a^{2} \\cos\\left({\\theta}\\right)^{2} + r^{2}} \\\\ g_{ \\, {\\phi} \\, r }^{ \\phantom{\\, {\\phi} } \\phantom{\\, r } } & = & -\\frac{{\\left(a^{3} \\cos\\left({\\theta}\\right)^{2} + 2 \\, a m r + a r^{2}\\right)} \\sin\\left({\\theta}\\right)^{2}}{a^{2} \\cos\\left({\\theta}\\right)^{2} + r^{2}} \\\\ g_{ \\, {\\phi} \\, {\\phi} }^{ \\phantom{\\, {\\phi} } \\phantom{\\, {\\phi} } } & = & \\frac{2 \\, a^{2} m r \\sin\\left({\\theta}\\right)^{4} + {\\left(a^{2} r^{2} + r^{4} + {\\left(a^{4} + a^{2} r^{2}\\right)} \\cos\\left({\\theta}\\right)^{2}\\right)} \\sin\\left({\\theta}\\right)^{2}}{a^{2} \\cos\\left({\\theta}\\right)^{2} + r^{2}} \\end{array}</script></html>"
      ],
      "text/plain": [
       "g_t,t = -(a^2*cos(th)^2 - 2*m*r + r^2)/(a^2*cos(th)^2 + r^2) \n",
       "g_t,r = 2*m*r/(a^2*cos(th)^2 + r^2) \n",
       "g_t,ph = -2*a*m*r*sin(th)^2/(a^2*cos(th)^2 + r^2) \n",
       "g_r,t = 2*m*r/(a^2*cos(th)^2 + r^2) \n",
       "g_r,r = (a^2*cos(th)^2 + 2*m*r + r^2)/(a^2*cos(th)^2 + r^2) \n",
       "g_r,ph = -(a^3*cos(th)^2 + 2*a*m*r + a*r^2)*sin(th)^2/(a^2*cos(th)^2 + r^2) \n",
       "g_th,th = a^2*cos(th)^2 + r^2 \n",
       "g_ph,t = -2*a*m*r*sin(th)^2/(a^2*cos(th)^2 + r^2) \n",
       "g_ph,r = -(a^3*cos(th)^2 + 2*a*m*r + a*r^2)*sin(th)^2/(a^2*cos(th)^2 + r^2) \n",
       "g_ph,ph = (2*a^2*m*r*sin(th)^4 + (a^2*r^2 + r^4 + (a^4 + a^2*r^2)*cos(th)^2)*sin(th)^2)/(a^2*cos(th)^2 + r^2) "
      ]
     },
     "execution_count": 7,
     "metadata": {},
     "output_type": "execute_result"
    }
   ],
   "source": [
    "g.display_comp()"
   ]
  },
  {
   "cell_type": "code",
   "execution_count": 8,
   "metadata": {
    "collapsed": false
   },
   "outputs": [
    {
     "data": {
      "text/html": [
       "<html><script type=\"math/tex; mode=display\">\\newcommand{\\Bold}[1]{\\mathbf{#1}}\\left(\\begin{array}{rrrr}\n",
       "-\\frac{a^{2} \\cos\\left({\\theta}\\right)^{2} + 2 \\, m r + r^{2}}{a^{2} \\cos\\left({\\theta}\\right)^{2} + r^{2}} & \\frac{2 \\, m r}{a^{2} \\cos\\left({\\theta}\\right)^{2} + r^{2}} & 0 & 0 \\\\\n",
       "\\frac{2 \\, m r}{a^{2} \\cos\\left({\\theta}\\right)^{2} + r^{2}} & \\frac{a^{2} - 2 \\, m r + r^{2}}{a^{2} \\cos\\left({\\theta}\\right)^{2} + r^{2}} & 0 & \\frac{a}{a^{2} \\cos\\left({\\theta}\\right)^{2} + r^{2}} \\\\\n",
       "0 & 0 & \\frac{1}{a^{2} \\cos\\left({\\theta}\\right)^{2} + r^{2}} & 0 \\\\\n",
       "0 & \\frac{a}{a^{2} \\cos\\left({\\theta}\\right)^{2} + r^{2}} & 0 & -\\frac{1}{a^{2} \\sin\\left({\\theta}\\right)^{4} - {\\left(a^{2} + r^{2}\\right)} \\sin\\left({\\theta}\\right)^{2}}\n",
       "\\end{array}\\right)</script></html>"
      ],
      "text/plain": [
       "[-(a^2*cos(th)^2 + 2*m*r + r^2)/(a^2*cos(th)^2 + r^2)                          2*m*r/(a^2*cos(th)^2 + r^2)                                                    0                                                    0]\n",
       "[                         2*m*r/(a^2*cos(th)^2 + r^2)            (a^2 - 2*m*r + r^2)/(a^2*cos(th)^2 + r^2)                                                    0                              a/(a^2*cos(th)^2 + r^2)]\n",
       "[                                                   0                                                    0                              1/(a^2*cos(th)^2 + r^2)                                                    0]\n",
       "[                                                   0                              a/(a^2*cos(th)^2 + r^2)                                                    0           -1/(a^2*sin(th)^4 - (a^2 + r^2)*sin(th)^2)]"
      ]
     },
     "execution_count": 8,
     "metadata": {},
     "output_type": "execute_result"
    }
   ],
   "source": [
    "g.inverse()[:]"
   ]
  },
  {
   "cell_type": "code",
   "execution_count": 9,
   "metadata": {
    "collapsed": false
   },
   "outputs": [
    {
     "data": {
      "text/html": [
       "<html><script type=\"math/tex; mode=display\">\\newcommand{\\Bold}[1]{\\mathbf{#1}}\\begin{array}{llcl} & M & \\longrightarrow & \\mathbb{R} \\\\ & \\left(t, r, {\\theta}, {\\phi}\\right) & \\longmapsto & a^{4} \\cos\\left({\\theta}\\right)^{6} - {\\left(a^{4} - 2 \\, a^{2} r^{2}\\right)} \\cos\\left({\\theta}\\right)^{4} - r^{4} - {\\left(2 \\, a^{2} r^{2} - r^{4}\\right)} \\cos\\left({\\theta}\\right)^{2} \\end{array}</script></html>"
      ],
      "text/plain": [
       "M --> R\n",
       "(t, r, th, ph) |--> a^4*cos(th)^6 - (a^4 - 2*a^2*r^2)*cos(th)^4 - r^4 - (2*a^2*r^2 - r^4)*cos(th)^2"
      ]
     },
     "execution_count": 9,
     "metadata": {},
     "output_type": "execute_result"
    }
   ],
   "source": [
    "g.determinant().display()"
   ]
  },
  {
   "cell_type": "code",
   "execution_count": 10,
   "metadata": {
    "collapsed": false
   },
   "outputs": [
    {
     "data": {
      "text/html": [
       "<html><script type=\"math/tex; mode=display\">\\newcommand{\\Bold}[1]{\\mathbf{#1}}\\mathrm{True}</script></html>"
      ],
      "text/plain": [
       "True"
      ]
     },
     "execution_count": 10,
     "metadata": {},
     "output_type": "execute_result"
    }
   ],
   "source": [
    "g.determinant() == - (rho2*sin(th))^2"
   ]
  },
  {
   "cell_type": "code",
   "execution_count": 11,
   "metadata": {
    "collapsed": false
   },
   "outputs": [],
   "source": [
    "# Ric = g.ricci()\n",
    "# Ric.display()"
   ]
  },
  {
   "cell_type": "code",
   "execution_count": 12,
   "metadata": {
    "collapsed": false
   },
   "outputs": [
    {
     "data": {
      "text/html": [
       "<html><script type=\"math/tex; mode=display\">\\newcommand{\\Bold}[1]{\\mathbf{#1}}\\begin{array}{lcl} \\Gamma_{ \\phantom{\\, t } \\, t \\, t }^{ \\, t \\phantom{\\, t } \\phantom{\\, t } } & = & -\\frac{2 \\, {\\left(a^{2} m^{2} r \\cos\\left({\\theta}\\right)^{2} - m^{2} r^{3}\\right)}}{a^{6} \\cos\\left({\\theta}\\right)^{6} + 3 \\, a^{4} r^{2} \\cos\\left({\\theta}\\right)^{4} + 3 \\, a^{2} r^{4} \\cos\\left({\\theta}\\right)^{2} + r^{6}} \\\\ \\Gamma_{ \\phantom{\\, t } \\, t \\, r }^{ \\, t \\phantom{\\, t } \\phantom{\\, r } } & = & -\\frac{a^{4} m \\cos\\left({\\theta}\\right)^{4} + 2 \\, a^{2} m^{2} r \\cos\\left({\\theta}\\right)^{2} - 2 \\, m^{2} r^{3} - m r^{4}}{a^{6} \\cos\\left({\\theta}\\right)^{6} + 3 \\, a^{4} r^{2} \\cos\\left({\\theta}\\right)^{4} + 3 \\, a^{2} r^{4} \\cos\\left({\\theta}\\right)^{2} + r^{6}} \\\\ \\Gamma_{ \\phantom{\\, t } \\, t \\, {\\theta} }^{ \\, t \\phantom{\\, t } \\phantom{\\, {\\theta} } } & = & -\\frac{2 \\, a^{2} m r \\cos\\left({\\theta}\\right) \\sin\\left({\\theta}\\right)}{a^{4} \\cos\\left({\\theta}\\right)^{4} + 2 \\, a^{2} r^{2} \\cos\\left({\\theta}\\right)^{2} + r^{4}} \\\\ \\Gamma_{ \\phantom{\\, t } \\, t \\, {\\phi} }^{ \\, t \\phantom{\\, t } \\phantom{\\, {\\phi} } } & = & \\frac{2 \\, {\\left(a^{3} m^{2} r \\cos\\left({\\theta}\\right)^{2} - a m^{2} r^{3}\\right)} \\sin\\left({\\theta}\\right)^{2}}{a^{6} \\cos\\left({\\theta}\\right)^{6} + 3 \\, a^{4} r^{2} \\cos\\left({\\theta}\\right)^{4} + 3 \\, a^{2} r^{4} \\cos\\left({\\theta}\\right)^{2} + r^{6}} \\\\ \\Gamma_{ \\phantom{\\, t } \\, r \\, r }^{ \\, t \\phantom{\\, r } \\phantom{\\, r } } & = & -\\frac{2 \\, {\\left(a^{4} m \\cos\\left({\\theta}\\right)^{4} + a^{2} m^{2} r \\cos\\left({\\theta}\\right)^{2} - m^{2} r^{3} - m r^{4}\\right)}}{a^{6} \\cos\\left({\\theta}\\right)^{6} + 3 \\, a^{4} r^{2} \\cos\\left({\\theta}\\right)^{4} + 3 \\, a^{2} r^{4} \\cos\\left({\\theta}\\right)^{2} + r^{6}} \\\\ \\Gamma_{ \\phantom{\\, t } \\, r \\, {\\theta} }^{ \\, t \\phantom{\\, r } \\phantom{\\, {\\theta} } } & = & -\\frac{2 \\, a^{2} m r \\cos\\left({\\theta}\\right) \\sin\\left({\\theta}\\right)}{a^{4} \\cos\\left({\\theta}\\right)^{4} + 2 \\, a^{2} r^{2} \\cos\\left({\\theta}\\right)^{2} + r^{4}} \\\\ \\Gamma_{ \\phantom{\\, t } \\, r \\, {\\phi} }^{ \\, t \\phantom{\\, r } \\phantom{\\, {\\phi} } } & = & \\frac{{\\left(a^{5} m \\cos\\left({\\theta}\\right)^{4} + 2 \\, a^{3} m^{2} r \\cos\\left({\\theta}\\right)^{2} - 2 \\, a m^{2} r^{3} - a m r^{4}\\right)} \\sin\\left({\\theta}\\right)^{2}}{a^{6} \\cos\\left({\\theta}\\right)^{6} + 3 \\, a^{4} r^{2} \\cos\\left({\\theta}\\right)^{4} + 3 \\, a^{2} r^{4} \\cos\\left({\\theta}\\right)^{2} + r^{6}} \\\\ \\Gamma_{ \\phantom{\\, t } \\, {\\theta} \\, {\\theta} }^{ \\, t \\phantom{\\, {\\theta} } \\phantom{\\, {\\theta} } } & = & -\\frac{2 \\, m r^{2}}{a^{2} \\cos\\left({\\theta}\\right)^{2} + r^{2}} \\\\ \\Gamma_{ \\phantom{\\, t } \\, {\\theta} \\, {\\phi} }^{ \\, t \\phantom{\\, {\\theta} } \\phantom{\\, {\\phi} } } & = & \\frac{2 \\, a^{3} m r \\cos\\left({\\theta}\\right) \\sin\\left({\\theta}\\right)^{3}}{a^{4} \\cos\\left({\\theta}\\right)^{4} + 2 \\, a^{2} r^{2} \\cos\\left({\\theta}\\right)^{2} + r^{4}} \\\\ \\Gamma_{ \\phantom{\\, t } \\, {\\phi} \\, {\\phi} }^{ \\, t \\phantom{\\, {\\phi} } \\phantom{\\, {\\phi} } } & = & -\\frac{2 \\, {\\left({\\left(a^{4} m^{2} r \\cos\\left({\\theta}\\right)^{2} - a^{2} m^{2} r^{3}\\right)} \\sin\\left({\\theta}\\right)^{4} + {\\left(a^{4} m r^{2} \\cos\\left({\\theta}\\right)^{4} + 2 \\, a^{2} m r^{4} \\cos\\left({\\theta}\\right)^{2} + m r^{6}\\right)} \\sin\\left({\\theta}\\right)^{2}\\right)}}{a^{6} \\cos\\left({\\theta}\\right)^{6} + 3 \\, a^{4} r^{2} \\cos\\left({\\theta}\\right)^{4} + 3 \\, a^{2} r^{4} \\cos\\left({\\theta}\\right)^{2} + r^{6}} \\\\ \\Gamma_{ \\phantom{\\, r } \\, t \\, t }^{ \\, r \\phantom{\\, t } \\phantom{\\, t } } & = & \\frac{a^{2} m r^{2} - 2 \\, m^{2} r^{3} + m r^{4} - {\\left(a^{4} m - 2 \\, a^{2} m^{2} r + a^{2} m r^{2}\\right)} \\cos\\left({\\theta}\\right)^{2}}{a^{6} \\cos\\left({\\theta}\\right)^{6} + 3 \\, a^{4} r^{2} \\cos\\left({\\theta}\\right)^{4} + 3 \\, a^{2} r^{4} \\cos\\left({\\theta}\\right)^{2} + r^{6}} \\\\ \\Gamma_{ \\phantom{\\, r } \\, t \\, r }^{ \\, r \\phantom{\\, t } \\phantom{\\, r } } & = & \\frac{2 \\, a^{2} m^{2} r \\cos\\left({\\theta}\\right)^{2} - 2 \\, m^{2} r^{3} - {\\left(a^{4} m \\cos\\left({\\theta}\\right)^{2} - a^{2} m r^{2}\\right)} \\sin\\left({\\theta}\\right)^{2}}{a^{6} \\cos\\left({\\theta}\\right)^{6} + 3 \\, a^{4} r^{2} \\cos\\left({\\theta}\\right)^{4} + 3 \\, a^{2} r^{4} \\cos\\left({\\theta}\\right)^{2} + r^{6}} \\\\ \\Gamma_{ \\phantom{\\, r } \\, t \\, {\\phi} }^{ \\, r \\phantom{\\, t } \\phantom{\\, {\\phi} } } & = & -\\frac{{\\left(a^{3} m r^{2} - 2 \\, a m^{2} r^{3} + a m r^{4} - {\\left(a^{5} m - 2 \\, a^{3} m^{2} r + a^{3} m r^{2}\\right)} \\cos\\left({\\theta}\\right)^{2}\\right)} \\sin\\left({\\theta}\\right)^{2}}{a^{6} \\cos\\left({\\theta}\\right)^{6} + 3 \\, a^{4} r^{2} \\cos\\left({\\theta}\\right)^{4} + 3 \\, a^{2} r^{4} \\cos\\left({\\theta}\\right)^{2} + r^{6}} \\\\ \\Gamma_{ \\phantom{\\, r } \\, r \\, r }^{ \\, r \\phantom{\\, r } \\phantom{\\, r } } & = & \\frac{2 \\, a^{4} m \\cos\\left({\\theta}\\right)^{4} + a^{2} m r^{2} - 2 \\, m^{2} r^{3} - m r^{4} - {\\left(a^{4} m - 2 \\, a^{2} m^{2} r + a^{2} m r^{2}\\right)} \\cos\\left({\\theta}\\right)^{2}}{a^{6} \\cos\\left({\\theta}\\right)^{6} + 3 \\, a^{4} r^{2} \\cos\\left({\\theta}\\right)^{4} + 3 \\, a^{2} r^{4} \\cos\\left({\\theta}\\right)^{2} + r^{6}} \\\\ \\Gamma_{ \\phantom{\\, r } \\, r \\, {\\theta} }^{ \\, r \\phantom{\\, r } \\phantom{\\, {\\theta} } } & = & -\\frac{a^{2} \\cos\\left({\\theta}\\right) \\sin\\left({\\theta}\\right)}{a^{2} \\cos\\left({\\theta}\\right)^{2} + r^{2}} \\\\ \\Gamma_{ \\phantom{\\, r } \\, r \\, {\\phi} }^{ \\, r \\phantom{\\, r } \\phantom{\\, {\\phi} } } & = & \\frac{{\\left(a^{5} m \\cos\\left({\\theta}\\right)^{2} - a^{3} m r^{2}\\right)} \\sin\\left({\\theta}\\right)^{4} + {\\left(a^{5} r \\cos\\left({\\theta}\\right)^{4} + 2 \\, a m^{2} r^{3} + a r^{5} - 2 \\, {\\left(a^{3} m^{2} r - a^{3} r^{3}\\right)} \\cos\\left({\\theta}\\right)^{2}\\right)} \\sin\\left({\\theta}\\right)^{2}}{a^{6} \\cos\\left({\\theta}\\right)^{6} + 3 \\, a^{4} r^{2} \\cos\\left({\\theta}\\right)^{4} + 3 \\, a^{2} r^{4} \\cos\\left({\\theta}\\right)^{2} + r^{6}} \\\\ \\Gamma_{ \\phantom{\\, r } \\, {\\theta} \\, {\\theta} }^{ \\, r \\phantom{\\, {\\theta} } \\phantom{\\, {\\theta} } } & = & -\\frac{a^{2} r - 2 \\, m r^{2} + r^{3}}{a^{2} \\cos\\left({\\theta}\\right)^{2} + r^{2}} \\\\ \\Gamma_{ \\phantom{\\, r } \\, {\\phi} \\, {\\phi} }^{ \\, r \\phantom{\\, {\\phi} } \\phantom{\\, {\\phi} } } & = & \\frac{{\\left(a^{4} m r^{2} - 2 \\, a^{2} m^{2} r^{3} + a^{2} m r^{4} - {\\left(a^{6} m - 2 \\, a^{4} m^{2} r + a^{4} m r^{2}\\right)} \\cos\\left({\\theta}\\right)^{2}\\right)} \\sin\\left({\\theta}\\right)^{4} - {\\left(a^{2} r^{5} - 2 \\, m r^{6} + r^{7} + {\\left(a^{6} r - 2 \\, a^{4} m r^{2} + a^{4} r^{3}\\right)} \\cos\\left({\\theta}\\right)^{4} + 2 \\, {\\left(a^{4} r^{3} - 2 \\, a^{2} m r^{4} + a^{2} r^{5}\\right)} \\cos\\left({\\theta}\\right)^{2}\\right)} \\sin\\left({\\theta}\\right)^{2}}{a^{6} \\cos\\left({\\theta}\\right)^{6} + 3 \\, a^{4} r^{2} \\cos\\left({\\theta}\\right)^{4} + 3 \\, a^{2} r^{4} \\cos\\left({\\theta}\\right)^{2} + r^{6}} \\\\ \\Gamma_{ \\phantom{\\, {\\theta} } \\, t \\, t }^{ \\, {\\theta} \\phantom{\\, t } \\phantom{\\, t } } & = & -\\frac{2 \\, a^{2} m r \\cos\\left({\\theta}\\right) \\sin\\left({\\theta}\\right)}{a^{6} \\cos\\left({\\theta}\\right)^{6} + 3 \\, a^{4} r^{2} \\cos\\left({\\theta}\\right)^{4} + 3 \\, a^{2} r^{4} \\cos\\left({\\theta}\\right)^{2} + r^{6}} \\\\ \\Gamma_{ \\phantom{\\, {\\theta} } \\, t \\, r }^{ \\, {\\theta} \\phantom{\\, t } \\phantom{\\, r } } & = & -\\frac{2 \\, a^{2} m r \\cos\\left({\\theta}\\right) \\sin\\left({\\theta}\\right)}{a^{6} \\cos\\left({\\theta}\\right)^{6} + 3 \\, a^{4} r^{2} \\cos\\left({\\theta}\\right)^{4} + 3 \\, a^{2} r^{4} \\cos\\left({\\theta}\\right)^{2} + r^{6}} \\\\ \\Gamma_{ \\phantom{\\, {\\theta} } \\, t \\, {\\phi} }^{ \\, {\\theta} \\phantom{\\, t } \\phantom{\\, {\\phi} } } & = & \\frac{2 \\, {\\left(a^{3} m r + a m r^{3}\\right)} \\cos\\left({\\theta}\\right) \\sin\\left({\\theta}\\right)}{a^{6} \\cos\\left({\\theta}\\right)^{6} + 3 \\, a^{4} r^{2} \\cos\\left({\\theta}\\right)^{4} + 3 \\, a^{2} r^{4} \\cos\\left({\\theta}\\right)^{2} + r^{6}} \\\\ \\Gamma_{ \\phantom{\\, {\\theta} } \\, r \\, r }^{ \\, {\\theta} \\phantom{\\, r } \\phantom{\\, r } } & = & -\\frac{2 \\, a^{2} m r \\cos\\left({\\theta}\\right) \\sin\\left({\\theta}\\right)}{a^{6} \\cos\\left({\\theta}\\right)^{6} + 3 \\, a^{4} r^{2} \\cos\\left({\\theta}\\right)^{4} + 3 \\, a^{2} r^{4} \\cos\\left({\\theta}\\right)^{2} + r^{6}} \\\\ \\Gamma_{ \\phantom{\\, {\\theta} } \\, r \\, {\\theta} }^{ \\, {\\theta} \\phantom{\\, r } \\phantom{\\, {\\theta} } } & = & \\frac{r}{a^{2} \\cos\\left({\\theta}\\right)^{2} + r^{2}} \\\\ \\Gamma_{ \\phantom{\\, {\\theta} } \\, r \\, {\\phi} }^{ \\, {\\theta} \\phantom{\\, r } \\phantom{\\, {\\phi} } } & = & \\frac{{\\left(a^{5} \\cos\\left({\\theta}\\right)^{5} + 2 \\, a^{3} r^{2} \\cos\\left({\\theta}\\right)^{3} + {\\left(2 \\, a^{3} m r + 2 \\, a m r^{3} + a r^{4}\\right)} \\cos\\left({\\theta}\\right)\\right)} \\sin\\left({\\theta}\\right)}{a^{6} \\cos\\left({\\theta}\\right)^{6} + 3 \\, a^{4} r^{2} \\cos\\left({\\theta}\\right)^{4} + 3 \\, a^{2} r^{4} \\cos\\left({\\theta}\\right)^{2} + r^{6}} \\\\ \\Gamma_{ \\phantom{\\, {\\theta} } \\, {\\theta} \\, {\\theta} }^{ \\, {\\theta} \\phantom{\\, {\\theta} } \\phantom{\\, {\\theta} } } & = & -\\frac{a^{2} \\cos\\left({\\theta}\\right) \\sin\\left({\\theta}\\right)}{a^{2} \\cos\\left({\\theta}\\right)^{2} + r^{2}} \\\\ \\Gamma_{ \\phantom{\\, {\\theta} } \\, {\\phi} \\, {\\phi} }^{ \\, {\\theta} \\phantom{\\, {\\phi} } \\phantom{\\, {\\phi} } } & = & -\\frac{{\\left({\\left(a^{6} - 2 \\, a^{4} m r + a^{4} r^{2}\\right)} \\cos\\left({\\theta}\\right)^{5} + 2 \\, {\\left(a^{4} r^{2} - 2 \\, a^{2} m r^{3} + a^{2} r^{4}\\right)} \\cos\\left({\\theta}\\right)^{3} + {\\left(2 \\, a^{4} m r + 4 \\, a^{2} m r^{3} + a^{2} r^{4} + r^{6}\\right)} \\cos\\left({\\theta}\\right)\\right)} \\sin\\left({\\theta}\\right)}{a^{6} \\cos\\left({\\theta}\\right)^{6} + 3 \\, a^{4} r^{2} \\cos\\left({\\theta}\\right)^{4} + 3 \\, a^{2} r^{4} \\cos\\left({\\theta}\\right)^{2} + r^{6}} \\\\ \\Gamma_{ \\phantom{\\, {\\phi} } \\, t \\, t }^{ \\, {\\phi} \\phantom{\\, t } \\phantom{\\, t } } & = & -\\frac{a^{3} m \\cos\\left({\\theta}\\right)^{2} - a m r^{2}}{a^{6} \\cos\\left({\\theta}\\right)^{6} + 3 \\, a^{4} r^{2} \\cos\\left({\\theta}\\right)^{4} + 3 \\, a^{2} r^{4} \\cos\\left({\\theta}\\right)^{2} + r^{6}} \\\\ \\Gamma_{ \\phantom{\\, {\\phi} } \\, t \\, r }^{ \\, {\\phi} \\phantom{\\, t } \\phantom{\\, r } } & = & -\\frac{a^{3} m \\cos\\left({\\theta}\\right)^{2} - a m r^{2}}{a^{6} \\cos\\left({\\theta}\\right)^{6} + 3 \\, a^{4} r^{2} \\cos\\left({\\theta}\\right)^{4} + 3 \\, a^{2} r^{4} \\cos\\left({\\theta}\\right)^{2} + r^{6}} \\\\ \\Gamma_{ \\phantom{\\, {\\phi} } \\, t \\, {\\theta} }^{ \\, {\\phi} \\phantom{\\, t } \\phantom{\\, {\\theta} } } & = & -\\frac{2 \\, a m r \\cos\\left({\\theta}\\right)}{{\\left(a^{4} \\cos\\left({\\theta}\\right)^{4} + 2 \\, a^{2} r^{2} \\cos\\left({\\theta}\\right)^{2} + r^{4}\\right)} \\sin\\left({\\theta}\\right)} \\\\ \\Gamma_{ \\phantom{\\, {\\phi} } \\, t \\, {\\phi} }^{ \\, {\\phi} \\phantom{\\, t } \\phantom{\\, {\\phi} } } & = & \\frac{{\\left(a^{4} m \\cos\\left({\\theta}\\right)^{2} - a^{2} m r^{2}\\right)} \\sin\\left({\\theta}\\right)^{2}}{a^{6} \\cos\\left({\\theta}\\right)^{6} + 3 \\, a^{4} r^{2} \\cos\\left({\\theta}\\right)^{4} + 3 \\, a^{2} r^{4} \\cos\\left({\\theta}\\right)^{2} + r^{6}} \\\\ \\Gamma_{ \\phantom{\\, {\\phi} } \\, r \\, r }^{ \\, {\\phi} \\phantom{\\, r } \\phantom{\\, r } } & = & -\\frac{a^{3} m \\cos\\left({\\theta}\\right)^{2} - a m r^{2}}{a^{6} \\cos\\left({\\theta}\\right)^{6} + 3 \\, a^{4} r^{2} \\cos\\left({\\theta}\\right)^{4} + 3 \\, a^{2} r^{4} \\cos\\left({\\theta}\\right)^{2} + r^{6}} \\\\ \\Gamma_{ \\phantom{\\, {\\phi} } \\, r \\, {\\theta} }^{ \\, {\\phi} \\phantom{\\, r } \\phantom{\\, {\\theta} } } & = & -\\frac{a^{3} \\cos\\left({\\theta}\\right)^{3} + {\\left(2 \\, a m r + a r^{2}\\right)} \\cos\\left({\\theta}\\right)}{{\\left(a^{4} \\cos\\left({\\theta}\\right)^{4} + 2 \\, a^{2} r^{2} \\cos\\left({\\theta}\\right)^{2} + r^{4}\\right)} \\sin\\left({\\theta}\\right)} \\\\ \\Gamma_{ \\phantom{\\, {\\phi} } \\, r \\, {\\phi} }^{ \\, {\\phi} \\phantom{\\, r } \\phantom{\\, {\\phi} } } & = & \\frac{a^{4} r \\cos\\left({\\theta}\\right)^{4} + 2 \\, a^{2} r^{3} \\cos\\left({\\theta}\\right)^{2} + r^{5} + {\\left(a^{4} m \\cos\\left({\\theta}\\right)^{2} - a^{2} m r^{2}\\right)} \\sin\\left({\\theta}\\right)^{2}}{a^{6} \\cos\\left({\\theta}\\right)^{6} + 3 \\, a^{4} r^{2} \\cos\\left({\\theta}\\right)^{4} + 3 \\, a^{2} r^{4} \\cos\\left({\\theta}\\right)^{2} + r^{6}} \\\\ \\Gamma_{ \\phantom{\\, {\\phi} } \\, {\\theta} \\, {\\theta} }^{ \\, {\\phi} \\phantom{\\, {\\theta} } \\phantom{\\, {\\theta} } } & = & -\\frac{a r}{a^{2} \\cos\\left({\\theta}\\right)^{2} + r^{2}} \\\\ \\Gamma_{ \\phantom{\\, {\\phi} } \\, {\\theta} \\, {\\phi} }^{ \\, {\\phi} \\phantom{\\, {\\theta} } \\phantom{\\, {\\phi} } } & = & \\frac{a^{4} \\cos\\left({\\theta}\\right)^{5} - 2 \\, {\\left(a^{2} m r - a^{2} r^{2}\\right)} \\cos\\left({\\theta}\\right)^{3} + {\\left(2 \\, a^{2} m r + r^{4}\\right)} \\cos\\left({\\theta}\\right)}{{\\left(a^{4} \\cos\\left({\\theta}\\right)^{4} + 2 \\, a^{2} r^{2} \\cos\\left({\\theta}\\right)^{2} + r^{4}\\right)} \\sin\\left({\\theta}\\right)} \\\\ \\Gamma_{ \\phantom{\\, {\\phi} } \\, {\\phi} \\, {\\phi} }^{ \\, {\\phi} \\phantom{\\, {\\phi} } \\phantom{\\, {\\phi} } } & = & -\\frac{{\\left(a^{5} m \\cos\\left({\\theta}\\right)^{2} - a^{3} m r^{2}\\right)} \\sin\\left({\\theta}\\right)^{4} + {\\left(a^{5} r \\cos\\left({\\theta}\\right)^{4} + 2 \\, a^{3} r^{3} \\cos\\left({\\theta}\\right)^{2} + a r^{5}\\right)} \\sin\\left({\\theta}\\right)^{2}}{a^{6} \\cos\\left({\\theta}\\right)^{6} + 3 \\, a^{4} r^{2} \\cos\\left({\\theta}\\right)^{4} + 3 \\, a^{2} r^{4} \\cos\\left({\\theta}\\right)^{2} + r^{6}} \\end{array}</script></html>"
      ],
      "text/plain": [
       "Gam^t_t,t = -2*(a^2*m^2*r*cos(th)^2 - m^2*r^3)/(a^6*cos(th)^6 + 3*a^4*r^2*cos(th)^4 + 3*a^2*r^4*cos(th)^2 + r^6) \n",
       "Gam^t_t,r = -(a^4*m*cos(th)^4 + 2*a^2*m^2*r*cos(th)^2 - 2*m^2*r^3 - m*r^4)/(a^6*cos(th)^6 + 3*a^4*r^2*cos(th)^4 + 3*a^2*r^4*cos(th)^2 + r^6) \n",
       "Gam^t_t,th = -2*a^2*m*r*cos(th)*sin(th)/(a^4*cos(th)^4 + 2*a^2*r^2*cos(th)^2 + r^4) \n",
       "Gam^t_t,ph = 2*(a^3*m^2*r*cos(th)^2 - a*m^2*r^3)*sin(th)^2/(a^6*cos(th)^6 + 3*a^4*r^2*cos(th)^4 + 3*a^2*r^4*cos(th)^2 + r^6) \n",
       "Gam^t_r,r = -2*(a^4*m*cos(th)^4 + a^2*m^2*r*cos(th)^2 - m^2*r^3 - m*r^4)/(a^6*cos(th)^6 + 3*a^4*r^2*cos(th)^4 + 3*a^2*r^4*cos(th)^2 + r^6) \n",
       "Gam^t_r,th = -2*a^2*m*r*cos(th)*sin(th)/(a^4*cos(th)^4 + 2*a^2*r^2*cos(th)^2 + r^4) \n",
       "Gam^t_r,ph = (a^5*m*cos(th)^4 + 2*a^3*m^2*r*cos(th)^2 - 2*a*m^2*r^3 - a*m*r^4)*sin(th)^2/(a^6*cos(th)^6 + 3*a^4*r^2*cos(th)^4 + 3*a^2*r^4*cos(th)^2 + r^6) \n",
       "Gam^t_th,th = -2*m*r^2/(a^2*cos(th)^2 + r^2) \n",
       "Gam^t_th,ph = 2*a^3*m*r*cos(th)*sin(th)^3/(a^4*cos(th)^4 + 2*a^2*r^2*cos(th)^2 + r^4) \n",
       "Gam^t_ph,ph = -2*((a^4*m^2*r*cos(th)^2 - a^2*m^2*r^3)*sin(th)^4 + (a^4*m*r^2*cos(th)^4 + 2*a^2*m*r^4*cos(th)^2 + m*r^6)*sin(th)^2)/(a^6*cos(th)^6 + 3*a^4*r^2*cos(th)^4 + 3*a^2*r^4*cos(th)^2 + r^6) \n",
       "Gam^r_t,t = (a^2*m*r^2 - 2*m^2*r^3 + m*r^4 - (a^4*m - 2*a^2*m^2*r + a^2*m*r^2)*cos(th)^2)/(a^6*cos(th)^6 + 3*a^4*r^2*cos(th)^4 + 3*a^2*r^4*cos(th)^2 + r^6) \n",
       "Gam^r_t,r = (2*a^2*m^2*r*cos(th)^2 - 2*m^2*r^3 - (a^4*m*cos(th)^2 - a^2*m*r^2)*sin(th)^2)/(a^6*cos(th)^6 + 3*a^4*r^2*cos(th)^4 + 3*a^2*r^4*cos(th)^2 + r^6) \n",
       "Gam^r_t,ph = -(a^3*m*r^2 - 2*a*m^2*r^3 + a*m*r^4 - (a^5*m - 2*a^3*m^2*r + a^3*m*r^2)*cos(th)^2)*sin(th)^2/(a^6*cos(th)^6 + 3*a^4*r^2*cos(th)^4 + 3*a^2*r^4*cos(th)^2 + r^6) \n",
       "Gam^r_r,r = (2*a^4*m*cos(th)^4 + a^2*m*r^2 - 2*m^2*r^3 - m*r^4 - (a^4*m - 2*a^2*m^2*r + a^2*m*r^2)*cos(th)^2)/(a^6*cos(th)^6 + 3*a^4*r^2*cos(th)^4 + 3*a^2*r^4*cos(th)^2 + r^6) \n",
       "Gam^r_r,th = -a^2*cos(th)*sin(th)/(a^2*cos(th)^2 + r^2) \n",
       "Gam^r_r,ph = ((a^5*m*cos(th)^2 - a^3*m*r^2)*sin(th)^4 + (a^5*r*cos(th)^4 + 2*a*m^2*r^3 + a*r^5 - 2*(a^3*m^2*r - a^3*r^3)*cos(th)^2)*sin(th)^2)/(a^6*cos(th)^6 + 3*a^4*r^2*cos(th)^4 + 3*a^2*r^4*cos(th)^2 + r^6) \n",
       "Gam^r_th,th = -(a^2*r - 2*m*r^2 + r^3)/(a^2*cos(th)^2 + r^2) \n",
       "Gam^r_ph,ph = ((a^4*m*r^2 - 2*a^2*m^2*r^3 + a^2*m*r^4 - (a^6*m - 2*a^4*m^2*r + a^4*m*r^2)*cos(th)^2)*sin(th)^4 - (a^2*r^5 - 2*m*r^6 + r^7 + (a^6*r - 2*a^4*m*r^2 + a^4*r^3)*cos(th)^4 + 2*(a^4*r^3 - 2*a^2*m*r^4 + a^2*r^5)*cos(th)^2)*sin(th)^2)/(a^6*cos(th)^6 + 3*a^4*r^2*cos(th)^4 + 3*a^2*r^4*cos(th)^2 + r^6) \n",
       "Gam^th_t,t = -2*a^2*m*r*cos(th)*sin(th)/(a^6*cos(th)^6 + 3*a^4*r^2*cos(th)^4 + 3*a^2*r^4*cos(th)^2 + r^6) \n",
       "Gam^th_t,r = -2*a^2*m*r*cos(th)*sin(th)/(a^6*cos(th)^6 + 3*a^4*r^2*cos(th)^4 + 3*a^2*r^4*cos(th)^2 + r^6) \n",
       "Gam^th_t,ph = 2*(a^3*m*r + a*m*r^3)*cos(th)*sin(th)/(a^6*cos(th)^6 + 3*a^4*r^2*cos(th)^4 + 3*a^2*r^4*cos(th)^2 + r^6) \n",
       "Gam^th_r,r = -2*a^2*m*r*cos(th)*sin(th)/(a^6*cos(th)^6 + 3*a^4*r^2*cos(th)^4 + 3*a^2*r^4*cos(th)^2 + r^6) \n",
       "Gam^th_r,th = r/(a^2*cos(th)^2 + r^2) \n",
       "Gam^th_r,ph = (a^5*cos(th)^5 + 2*a^3*r^2*cos(th)^3 + (2*a^3*m*r + 2*a*m*r^3 + a*r^4)*cos(th))*sin(th)/(a^6*cos(th)^6 + 3*a^4*r^2*cos(th)^4 + 3*a^2*r^4*cos(th)^2 + r^6) \n",
       "Gam^th_th,th = -a^2*cos(th)*sin(th)/(a^2*cos(th)^2 + r^2) \n",
       "Gam^th_ph,ph = -((a^6 - 2*a^4*m*r + a^4*r^2)*cos(th)^5 + 2*(a^4*r^2 - 2*a^2*m*r^3 + a^2*r^4)*cos(th)^3 + (2*a^4*m*r + 4*a^2*m*r^3 + a^2*r^4 + r^6)*cos(th))*sin(th)/(a^6*cos(th)^6 + 3*a^4*r^2*cos(th)^4 + 3*a^2*r^4*cos(th)^2 + r^6) \n",
       "Gam^ph_t,t = -(a^3*m*cos(th)^2 - a*m*r^2)/(a^6*cos(th)^6 + 3*a^4*r^2*cos(th)^4 + 3*a^2*r^4*cos(th)^2 + r^6) \n",
       "Gam^ph_t,r = -(a^3*m*cos(th)^2 - a*m*r^2)/(a^6*cos(th)^6 + 3*a^4*r^2*cos(th)^4 + 3*a^2*r^4*cos(th)^2 + r^6) \n",
       "Gam^ph_t,th = -2*a*m*r*cos(th)/((a^4*cos(th)^4 + 2*a^2*r^2*cos(th)^2 + r^4)*sin(th)) \n",
       "Gam^ph_t,ph = (a^4*m*cos(th)^2 - a^2*m*r^2)*sin(th)^2/(a^6*cos(th)^6 + 3*a^4*r^2*cos(th)^4 + 3*a^2*r^4*cos(th)^2 + r^6) \n",
       "Gam^ph_r,r = -(a^3*m*cos(th)^2 - a*m*r^2)/(a^6*cos(th)^6 + 3*a^4*r^2*cos(th)^4 + 3*a^2*r^4*cos(th)^2 + r^6) \n",
       "Gam^ph_r,th = -(a^3*cos(th)^3 + (2*a*m*r + a*r^2)*cos(th))/((a^4*cos(th)^4 + 2*a^2*r^2*cos(th)^2 + r^4)*sin(th)) \n",
       "Gam^ph_r,ph = (a^4*r*cos(th)^4 + 2*a^2*r^3*cos(th)^2 + r^5 + (a^4*m*cos(th)^2 - a^2*m*r^2)*sin(th)^2)/(a^6*cos(th)^6 + 3*a^4*r^2*cos(th)^4 + 3*a^2*r^4*cos(th)^2 + r^6) \n",
       "Gam^ph_th,th = -a*r/(a^2*cos(th)^2 + r^2) \n",
       "Gam^ph_th,ph = (a^4*cos(th)^5 - 2*(a^2*m*r - a^2*r^2)*cos(th)^3 + (2*a^2*m*r + r^4)*cos(th))/((a^4*cos(th)^4 + 2*a^2*r^2*cos(th)^2 + r^4)*sin(th)) \n",
       "Gam^ph_ph,ph = -((a^5*m*cos(th)^2 - a^3*m*r^2)*sin(th)^4 + (a^5*r*cos(th)^4 + 2*a^3*r^3*cos(th)^2 + a*r^5)*sin(th)^2)/(a^6*cos(th)^6 + 3*a^4*r^2*cos(th)^4 + 3*a^2*r^4*cos(th)^2 + r^6) "
      ]
     },
     "execution_count": 12,
     "metadata": {},
     "output_type": "execute_result"
    }
   ],
   "source": [
    "g.christoffel_symbols_display()"
   ]
  },
  {
   "cell_type": "code",
   "execution_count": 13,
   "metadata": {
    "collapsed": false
   },
   "outputs": [
    {
     "name": "stdout",
     "output_type": "stream",
     "text": [
      "1-form dr on the 4-dimensional differentiable manifold M\n"
     ]
    },
    {
     "data": {
      "text/html": [
       "<html><script type=\"math/tex; mode=display\">\\newcommand{\\Bold}[1]{\\mathbf{#1}}\\mathrm{d} r = \\mathrm{d} r</script></html>"
      ],
      "text/plain": [
       "dr = dr"
      ]
     },
     "execution_count": 13,
     "metadata": {},
     "output_type": "execute_result"
    }
   ],
   "source": [
    "dr = X.coframe()[1]\n",
    "print(dr)\n",
    "dr.display()"
   ]
  },
  {
   "cell_type": "code",
   "execution_count": 14,
   "metadata": {
    "collapsed": false
   },
   "outputs": [
    {
     "name": "stdout",
     "output_type": "stream",
     "text": [
      "Vector field on the 4-dimensional differentiable manifold M\n"
     ]
    },
    {
     "data": {
      "text/html": [
       "<html><script type=\"math/tex; mode=display\">\\newcommand{\\Bold}[1]{\\mathbf{#1}}\\left( \\frac{2 \\, m r}{a^{2} \\cos\\left({\\theta}\\right)^{2} + r^{2}} \\right) \\frac{\\partial}{\\partial t } + \\left( \\frac{a^{2} - 2 \\, m r + r^{2}}{a^{2} \\cos\\left({\\theta}\\right)^{2} + r^{2}} \\right) \\frac{\\partial}{\\partial r } + \\left( \\frac{a}{a^{2} \\cos\\left({\\theta}\\right)^{2} + r^{2}} \\right) \\frac{\\partial}{\\partial {\\phi} }</script></html>"
      ],
      "text/plain": [
       "2*m*r/(a^2*cos(th)^2 + r^2) d/dt + (a^2 - 2*m*r + r^2)/(a^2*cos(th)^2 + r^2) d/dr + a/(a^2*cos(th)^2 + r^2) d/dph"
      ]
     },
     "execution_count": 14,
     "metadata": {},
     "output_type": "execute_result"
    }
   ],
   "source": [
    "nr = dr.up(g)\n",
    "print(nr)\n",
    "nr.display()"
   ]
  },
  {
   "cell_type": "code",
   "execution_count": 15,
   "metadata": {
    "collapsed": false
   },
   "outputs": [
    {
     "data": {
      "text/html": [
       "<html><script type=\"math/tex; mode=display\">\\newcommand{\\Bold}[1]{\\mathbf{#1}}m + \\sqrt{-a^{2} + m^{2}}</script></html>"
      ],
      "text/plain": [
       "m + sqrt(-a^2 + m^2)"
      ]
     },
     "execution_count": 15,
     "metadata": {},
     "output_type": "execute_result"
    }
   ],
   "source": [
    "assume(a^2<m^2)\n",
    "rp = m + sqrt(m^2-a^2)\n",
    "rp"
   ]
  },
  {
   "cell_type": "code",
   "execution_count": 16,
   "metadata": {
    "collapsed": false
   },
   "outputs": [
    {
     "name": "stdout",
     "output_type": "stream",
     "text": [
      "Point p on the 4-dimensional differentiable manifold M\n"
     ]
    }
   ],
   "source": [
    "p = M.point(coords=(t,rp,th,ph), name='p')\n",
    "print(p)"
   ]
  },
  {
   "cell_type": "code",
   "execution_count": 17,
   "metadata": {
    "collapsed": false
   },
   "outputs": [
    {
     "data": {
      "text/html": [
       "<html><script type=\"math/tex; mode=display\">\\newcommand{\\Bold}[1]{\\mathbf{#1}}\\left(t, m + \\sqrt{-a^{2} + m^{2}}, {\\theta}, {\\phi}\\right)</script></html>"
      ],
      "text/plain": [
       "(t, m + sqrt(-a^2 + m^2), th, ph)"
      ]
     },
     "execution_count": 17,
     "metadata": {},
     "output_type": "execute_result"
    }
   ],
   "source": [
    "X(p)"
   ]
  },
  {
   "cell_type": "code",
   "execution_count": 18,
   "metadata": {
    "collapsed": false
   },
   "outputs": [
    {
     "name": "stdout",
     "output_type": "stream",
     "text": [
      "Tangent vector at Point p on the 4-dimensional differentiable manifold M\n"
     ]
    }
   ],
   "source": [
    "nrH = nr.at(p)\n",
    "print(nrH)"
   ]
  },
  {
   "cell_type": "code",
   "execution_count": 19,
   "metadata": {
    "collapsed": false
   },
   "outputs": [
    {
     "name": "stdout",
     "output_type": "stream",
     "text": [
      "Tangent space at Point p on the 4-dimensional differentiable manifold M\n"
     ]
    }
   ],
   "source": [
    "Tp = M.tangent_space(p)\n",
    "print(Tp)"
   ]
  },
  {
   "cell_type": "code",
   "execution_count": 20,
   "metadata": {
    "collapsed": false
   },
   "outputs": [
    {
     "data": {
      "text/html": [
       "<html><script type=\"math/tex; mode=display\">\\newcommand{\\Bold}[1]{\\mathbf{#1}}\\left(\\frac{\\partial}{\\partial t },\\frac{\\partial}{\\partial r },\\frac{\\partial}{\\partial {\\theta} },\\frac{\\partial}{\\partial {\\phi} }\\right)</script></html>"
      ],
      "text/plain": [
       "Basis (d/dt,d/dr,d/dth,d/dph) on the Tangent space at Point p on the 4-dimensional differentiable manifold M"
      ]
     },
     "execution_count": 20,
     "metadata": {},
     "output_type": "execute_result"
    }
   ],
   "source": [
    "Tp.default_basis()"
   ]
  },
  {
   "cell_type": "code",
   "execution_count": 21,
   "metadata": {
    "collapsed": false
   },
   "outputs": [
    {
     "data": {
      "text/html": [
       "<html><script type=\"math/tex; mode=display\">\\newcommand{\\Bold}[1]{\\mathbf{#1}}\\left[-\\frac{2 \\, {\\left(\\sqrt{a + m} \\sqrt{-a + m} m + m^{2}\\right)}}{a^{2} \\sin\\left({\\theta}\\right)^{2} - 2 \\, \\sqrt{a + m} \\sqrt{-a + m} m - 2 \\, m^{2}}, 0, 0, -\\frac{a}{a^{2} \\sin\\left({\\theta}\\right)^{2} - 2 \\, \\sqrt{a + m} \\sqrt{-a + m} m - 2 \\, m^{2}}\\right]</script></html>"
      ],
      "text/plain": [
       "[-2*(sqrt(a + m)*sqrt(-a + m)*m + m^2)/(a^2*sin(th)^2 - 2*sqrt(a + m)*sqrt(-a + m)*m - 2*m^2),\n",
       " 0,\n",
       " 0,\n",
       " -a/(a^2*sin(th)^2 - 2*sqrt(a + m)*sqrt(-a + m)*m - 2*m^2)]"
      ]
     },
     "execution_count": 21,
     "metadata": {},
     "output_type": "execute_result"
    }
   ],
   "source": [
    "nrH[:]"
   ]
  },
  {
   "cell_type": "code",
   "execution_count": 22,
   "metadata": {
    "collapsed": false
   },
   "outputs": [
    {
     "data": {
      "text/html": [
       "<html><script type=\"math/tex; mode=display\">\\newcommand{\\Bold}[1]{\\mathbf{#1}}\\frac{a}{2 \\, {\\left(m + \\sqrt{-a^{2} + m^{2}}\\right)} m}</script></html>"
      ],
      "text/plain": [
       "1/2*a/((m + sqrt(-a^2 + m^2))*m)"
      ]
     },
     "execution_count": 22,
     "metadata": {},
     "output_type": "execute_result"
    }
   ],
   "source": [
    "OmegaH = a/(2*m*rp)\n",
    "OmegaH"
   ]
  },
  {
   "cell_type": "code",
   "execution_count": 23,
   "metadata": {
    "collapsed": false
   },
   "outputs": [
    {
     "data": {
      "text/html": [
       "<html><script type=\"math/tex; mode=display\">\\newcommand{\\Bold}[1]{\\mathbf{#1}}\\frac{\\partial}{\\partial t }</script></html>"
      ],
      "text/plain": [
       "Vector field d/dt on the 4-dimensional differentiable manifold M"
      ]
     },
     "execution_count": 23,
     "metadata": {},
     "output_type": "execute_result"
    }
   ],
   "source": [
    "xi = X.frame()[0]\n",
    "xi"
   ]
  },
  {
   "cell_type": "code",
   "execution_count": 24,
   "metadata": {
    "collapsed": false
   },
   "outputs": [
    {
     "data": {
      "text/html": [
       "<html><script type=\"math/tex; mode=display\">\\newcommand{\\Bold}[1]{\\mathbf{#1}}\\frac{\\partial}{\\partial {\\phi} }</script></html>"
      ],
      "text/plain": [
       "Vector field d/dph on the 4-dimensional differentiable manifold M"
      ]
     },
     "execution_count": 24,
     "metadata": {},
     "output_type": "execute_result"
    }
   ],
   "source": [
    "eta = X.frame()[3]\n",
    "eta"
   ]
  },
  {
   "cell_type": "code",
   "execution_count": 25,
   "metadata": {
    "collapsed": false
   },
   "outputs": [
    {
     "data": {
      "text/html": [
       "<html><script type=\"math/tex; mode=display\">\\newcommand{\\Bold}[1]{\\mathbf{#1}}\\frac{\\partial}{\\partial t } + \\frac{a}{2 \\, {\\left(\\sqrt{a + m} \\sqrt{-a + m} m + m^{2}\\right)}} \\frac{\\partial}{\\partial {\\phi} }</script></html>"
      ],
      "text/plain": [
       "d/dt + 1/2*a/(sqrt(a + m)*sqrt(-a + m)*m + m^2) d/dph"
      ]
     },
     "execution_count": 25,
     "metadata": {},
     "output_type": "execute_result"
    }
   ],
   "source": [
    "chi = xi + OmegaH*eta\n",
    "chi.display()"
   ]
  },
  {
   "cell_type": "markdown",
   "metadata": {},
   "source": [
    "## Ingoing principal null geodesics"
   ]
  },
  {
   "cell_type": "code",
   "execution_count": 26,
   "metadata": {
    "collapsed": false
   },
   "outputs": [
    {
     "data": {
      "text/html": [
       "<html><script type=\"math/tex; mode=display\">\\newcommand{\\Bold}[1]{\\mathbf{#1}}k = \\frac{\\partial}{\\partial t }-\\frac{\\partial}{\\partial r }</script></html>"
      ],
      "text/plain": [
       "k = d/dt - d/dr"
      ]
     },
     "execution_count": 26,
     "metadata": {},
     "output_type": "execute_result"
    }
   ],
   "source": [
    "k = M.vector_field(name='k')\n",
    "k[0] = 1\n",
    "k[1] = -1\n",
    "k.display()"
   ]
  },
  {
   "cell_type": "code",
   "execution_count": 27,
   "metadata": {
    "collapsed": false
   },
   "outputs": [
    {
     "data": {
      "text/html": [
       "<html><script type=\"math/tex; mode=display\">\\newcommand{\\Bold}[1]{\\mathbf{#1}}\\begin{array}{llcl} g\\left(k,k\\right):& M & \\longrightarrow & \\mathbb{R} \\\\ & \\left(t, r, {\\theta}, {\\phi}\\right) & \\longmapsto & 0 \\end{array}</script></html>"
      ],
      "text/plain": [
       "g(k,k): M --> R\n",
       "   (t, r, th, ph) |--> 0"
      ]
     },
     "execution_count": 27,
     "metadata": {},
     "output_type": "execute_result"
    }
   ],
   "source": [
    "g(k,k).display()"
   ]
  },
  {
   "cell_type": "code",
   "execution_count": 28,
   "metadata": {
    "collapsed": false
   },
   "outputs": [
    {
     "data": {
      "text/html": [
       "<html><script type=\"math/tex; mode=display\">\\newcommand{\\Bold}[1]{\\mathbf{#1}}0</script></html>"
      ],
      "text/plain": [
       "0"
      ]
     },
     "execution_count": 28,
     "metadata": {},
     "output_type": "execute_result"
    }
   ],
   "source": [
    "nab = g.connection()\n",
    "acc = nab(k).contract(k)\n",
    "acc.display()"
   ]
  },
  {
   "cell_type": "code",
   "execution_count": 29,
   "metadata": {
    "collapsed": false
   },
   "outputs": [
    {
     "data": {
      "text/html": [
       "<html><script type=\"math/tex; mode=display\">\\newcommand{\\Bold}[1]{\\mathbf{#1}}\\nabla_{g} k = \\left( \\frac{a^{2} m \\cos\\left({\\theta}\\right)^{2} - m r^{2}}{a^{4} \\cos\\left({\\theta}\\right)^{4} + 2 \\, a^{2} r^{2} \\cos\\left({\\theta}\\right)^{2} + r^{4}} \\right) \\frac{\\partial}{\\partial t }\\otimes \\mathrm{d} t + \\left( \\frac{a^{2} m \\cos\\left({\\theta}\\right)^{2} - m r^{2}}{a^{4} \\cos\\left({\\theta}\\right)^{4} + 2 \\, a^{2} r^{2} \\cos\\left({\\theta}\\right)^{2} + r^{4}} \\right) \\frac{\\partial}{\\partial t }\\otimes \\mathrm{d} r + \\left( -\\frac{{\\left(a^{3} m \\cos\\left({\\theta}\\right)^{2} - a m r^{2}\\right)} \\sin\\left({\\theta}\\right)^{2}}{a^{4} \\cos\\left({\\theta}\\right)^{4} + 2 \\, a^{2} r^{2} \\cos\\left({\\theta}\\right)^{2} + r^{4}} \\right) \\frac{\\partial}{\\partial t }\\otimes \\mathrm{d} {\\phi} + \\left( -\\frac{a^{2} m \\cos\\left({\\theta}\\right)^{2} - m r^{2}}{a^{4} \\cos\\left({\\theta}\\right)^{4} + 2 \\, a^{2} r^{2} \\cos\\left({\\theta}\\right)^{2} + r^{4}} \\right) \\frac{\\partial}{\\partial r }\\otimes \\mathrm{d} t + \\left( -\\frac{a^{2} m \\cos\\left({\\theta}\\right)^{2} - m r^{2}}{a^{4} \\cos\\left({\\theta}\\right)^{4} + 2 \\, a^{2} r^{2} \\cos\\left({\\theta}\\right)^{2} + r^{4}} \\right) \\frac{\\partial}{\\partial r }\\otimes \\mathrm{d} r + \\left( \\frac{a^{2} \\cos\\left({\\theta}\\right) \\sin\\left({\\theta}\\right)}{a^{2} \\cos\\left({\\theta}\\right)^{2} + r^{2}} \\right) \\frac{\\partial}{\\partial r }\\otimes \\mathrm{d} {\\theta} + \\left( -\\frac{{\\left(a^{3} m - a^{3} r\\right)} \\sin\\left({\\theta}\\right)^{4} - {\\left(a^{3} m - a^{3} r - a m r^{2} - a r^{3}\\right)} \\sin\\left({\\theta}\\right)^{2}}{a^{4} \\cos\\left({\\theta}\\right)^{4} + 2 \\, a^{2} r^{2} \\cos\\left({\\theta}\\right)^{2} + r^{4}} \\right) \\frac{\\partial}{\\partial r }\\otimes \\mathrm{d} {\\phi} + \\left( -\\frac{r}{a^{2} \\cos\\left({\\theta}\\right)^{2} + r^{2}} \\right) \\frac{\\partial}{\\partial {\\theta} }\\otimes \\mathrm{d} {\\theta} + \\left( -\\frac{a \\cos\\left({\\theta}\\right) \\sin\\left({\\theta}\\right)}{a^{2} \\cos\\left({\\theta}\\right)^{2} + r^{2}} \\right) \\frac{\\partial}{\\partial {\\theta} }\\otimes \\mathrm{d} {\\phi} + \\frac{a \\cos\\left({\\theta}\\right)}{{\\left(a^{2} \\cos\\left({\\theta}\\right)^{2} + r^{2}\\right)} \\sin\\left({\\theta}\\right)} \\frac{\\partial}{\\partial {\\phi} }\\otimes \\mathrm{d} {\\theta} + \\left( -\\frac{r}{a^{2} \\cos\\left({\\theta}\\right)^{2} + r^{2}} \\right) \\frac{\\partial}{\\partial {\\phi} }\\otimes \\mathrm{d} {\\phi}</script></html>"
      ],
      "text/plain": [
       "nabla_g(k) = (a^2*m*cos(th)^2 - m*r^2)/(a^4*cos(th)^4 + 2*a^2*r^2*cos(th)^2 + r^4) d/dt*dt + (a^2*m*cos(th)^2 - m*r^2)/(a^4*cos(th)^4 + 2*a^2*r^2*cos(th)^2 + r^4) d/dt*dr - (a^3*m*cos(th)^2 - a*m*r^2)*sin(th)^2/(a^4*cos(th)^4 + 2*a^2*r^2*cos(th)^2 + r^4) d/dt*dph - (a^2*m*cos(th)^2 - m*r^2)/(a^4*cos(th)^4 + 2*a^2*r^2*cos(th)^2 + r^4) d/dr*dt - (a^2*m*cos(th)^2 - m*r^2)/(a^4*cos(th)^4 + 2*a^2*r^2*cos(th)^2 + r^4) d/dr*dr + a^2*cos(th)*sin(th)/(a^2*cos(th)^2 + r^2) d/dr*dth - ((a^3*m - a^3*r)*sin(th)^4 - (a^3*m - a^3*r - a*m*r^2 - a*r^3)*sin(th)^2)/(a^4*cos(th)^4 + 2*a^2*r^2*cos(th)^2 + r^4) d/dr*dph - r/(a^2*cos(th)^2 + r^2) d/dth*dth - a*cos(th)*sin(th)/(a^2*cos(th)^2 + r^2) d/dth*dph + a*cos(th)/((a^2*cos(th)^2 + r^2)*sin(th)) d/dph*dth - r/(a^2*cos(th)^2 + r^2) d/dph*dph"
      ]
     },
     "execution_count": 29,
     "metadata": {},
     "output_type": "execute_result"
    }
   ],
   "source": [
    "nab(k).display()"
   ]
  },
  {
   "cell_type": "markdown",
   "metadata": {},
   "source": [
    "## Outgoing principal null geodesics"
   ]
  },
  {
   "cell_type": "code",
   "execution_count": 30,
   "metadata": {
    "collapsed": false
   },
   "outputs": [
    {
     "data": {
      "text/html": [
       "<html><script type=\"math/tex; mode=display\">\\newcommand{\\Bold}[1]{\\mathbf{#1}}\\ell = \\left( \\frac{a^{2} + 2 \\, m r + r^{2}}{2 \\, {\\left(a^{2} + r^{2}\\right)}} \\right) \\frac{\\partial}{\\partial t } + \\left( \\frac{a^{2} - 2 \\, m r + r^{2}}{2 \\, {\\left(a^{2} + r^{2}\\right)}} \\right) \\frac{\\partial}{\\partial r } + \\left( \\frac{a}{a^{2} + r^{2}} \\right) \\frac{\\partial}{\\partial {\\phi} }</script></html>"
      ],
      "text/plain": [
       "el = 1/2*(a^2 + 2*m*r + r^2)/(a^2 + r^2) d/dt + 1/2*(a^2 - 2*m*r + r^2)/(a^2 + r^2) d/dr + a/(a^2 + r^2) d/dph"
      ]
     },
     "execution_count": 30,
     "metadata": {},
     "output_type": "execute_result"
    }
   ],
   "source": [
    "el = M.vector_field(name='el', latex_name=r'\\ell')\n",
    "el[0] = 1/2 + m*r/(r^2+a^2)\n",
    "el[1] = 1/2 - m*r/(r^2+a^2)\n",
    "el[3] = a/(r^2+a^2)\n",
    "el.display()"
   ]
  },
  {
   "cell_type": "code",
   "execution_count": 31,
   "metadata": {
    "collapsed": false
   },
   "outputs": [
    {
     "data": {
      "text/html": [
       "<html><script type=\"math/tex; mode=display\">\\newcommand{\\Bold}[1]{\\mathbf{#1}}\\begin{array}{llcl} g\\left(\\ell,\\ell\\right):& M & \\longrightarrow & \\mathbb{R} \\\\ & \\left(t, r, {\\theta}, {\\phi}\\right) & \\longmapsto & 0 \\end{array}</script></html>"
      ],
      "text/plain": [
       "g(el,el): M --> R\n",
       "   (t, r, th, ph) |--> 0"
      ]
     },
     "execution_count": 31,
     "metadata": {},
     "output_type": "execute_result"
    }
   ],
   "source": [
    "g(el,el).display()"
   ]
  },
  {
   "cell_type": "code",
   "execution_count": 32,
   "metadata": {
    "collapsed": false
   },
   "outputs": [
    {
     "data": {
      "text/html": [
       "<html><script type=\"math/tex; mode=display\">\\newcommand{\\Bold}[1]{\\mathbf{#1}}\\left( -\\frac{a^{4} m + 2 \\, a^{2} m^{2} r - 2 \\, m^{2} r^{3} - m r^{4}}{2 \\, {\\left(a^{6} + 3 \\, a^{4} r^{2} + 3 \\, a^{2} r^{4} + r^{6}\\right)}} \\right) \\frac{\\partial}{\\partial t } + \\left( -\\frac{a^{4} m - 2 \\, a^{2} m^{2} r + 2 \\, m^{2} r^{3} - m r^{4}}{2 \\, {\\left(a^{6} + 3 \\, a^{4} r^{2} + 3 \\, a^{2} r^{4} + r^{6}\\right)}} \\right) \\frac{\\partial}{\\partial r } + \\left( -\\frac{a^{3} m - a m r^{2}}{a^{6} + 3 \\, a^{4} r^{2} + 3 \\, a^{2} r^{4} + r^{6}} \\right) \\frac{\\partial}{\\partial {\\phi} }</script></html>"
      ],
      "text/plain": [
       "-1/2*(a^4*m + 2*a^2*m^2*r - 2*m^2*r^3 - m*r^4)/(a^6 + 3*a^4*r^2 + 3*a^2*r^4 + r^6) d/dt - 1/2*(a^4*m - 2*a^2*m^2*r + 2*m^2*r^3 - m*r^4)/(a^6 + 3*a^4*r^2 + 3*a^2*r^4 + r^6) d/dr - (a^3*m - a*m*r^2)/(a^6 + 3*a^4*r^2 + 3*a^2*r^4 + r^6) d/dph"
      ]
     },
     "execution_count": 32,
     "metadata": {},
     "output_type": "execute_result"
    }
   ],
   "source": [
    "acc = nab(el).contract(el)\n",
    "acc.display()"
   ]
  },
  {
   "cell_type": "code",
   "execution_count": 33,
   "metadata": {
    "collapsed": false
   },
   "outputs": [
    {
     "data": {
      "text/html": [
       "<html><script type=\"math/tex; mode=display\">\\newcommand{\\Bold}[1]{\\mathbf{#1}}-\\frac{a^{2} m - m r^{2}}{a^{4} + 2 \\, a^{2} r^{2} + r^{4}}</script></html>"
      ],
      "text/plain": [
       "-(a^2*m - m*r^2)/(a^4 + 2*a^2*r^2 + r^4)"
      ]
     },
     "metadata": {},
     "output_type": "display_data"
    },
    {
     "data": {
      "text/html": [
       "<html><script type=\"math/tex; mode=display\">\\newcommand{\\Bold}[1]{\\mathbf{#1}}-\\frac{a^{2} m - m r^{2}}{a^{4} + 2 \\, a^{2} r^{2} + r^{4}}</script></html>"
      ],
      "text/plain": [
       "-(a^2*m - m*r^2)/(a^4 + 2*a^2*r^2 + r^4)"
      ]
     },
     "metadata": {},
     "output_type": "display_data"
    },
    {
     "data": {
      "text/html": [
       "<html><script type=\"math/tex; mode=display\">\\newcommand{\\Bold}[1]{\\mathbf{#1}}-\\frac{a^{2} m - m r^{2}}{a^{4} + 2 \\, a^{2} r^{2} + r^{4}}</script></html>"
      ],
      "text/plain": [
       "-(a^2*m - m*r^2)/(a^4 + 2*a^2*r^2 + r^4)"
      ]
     },
     "metadata": {},
     "output_type": "display_data"
    }
   ],
   "source": [
    "for i in [0,1,3]:\n",
    "    pretty_print(acc[i] / el[i])"
   ]
  },
  {
   "cell_type": "code",
   "execution_count": 34,
   "metadata": {
    "collapsed": false
   },
   "outputs": [
    {
     "data": {
      "text/html": [
       "<html><script type=\"math/tex; mode=display\">\\newcommand{\\Bold}[1]{\\mathbf{#1}}-\\frac{a^{2} m - m r^{2}}{a^{4} + 2 \\, a^{2} r^{2} + r^{4}}</script></html>"
      ],
      "text/plain": [
       "-(a^2*m - m*r^2)/(a^4 + 2*a^2*r^2 + r^4)"
      ]
     },
     "execution_count": 34,
     "metadata": {},
     "output_type": "execute_result"
    }
   ],
   "source": [
    "kappa = (acc[0] / el[0]).expr()\n",
    "kappa"
   ]
  },
  {
   "cell_type": "code",
   "execution_count": 35,
   "metadata": {
    "collapsed": false
   },
   "outputs": [
    {
     "data": {
      "text/html": [
       "<html><script type=\"math/tex; mode=display\">\\newcommand{\\Bold}[1]{\\mathbf{#1}}\\mathrm{True}</script></html>"
      ],
      "text/plain": [
       "True"
      ]
     },
     "execution_count": 35,
     "metadata": {},
     "output_type": "execute_result"
    }
   ],
   "source": [
    "acc == kappa * el"
   ]
  },
  {
   "cell_type": "code",
   "execution_count": 36,
   "metadata": {
    "collapsed": false
   },
   "outputs": [
    {
     "data": {
      "text/html": [
       "<html><script type=\"math/tex; mode=display\">\\newcommand{\\Bold}[1]{\\mathbf{#1}}r + \\frac{2 \\, \\log\\left(\\frac{r - \\sqrt{-a^{2} + 1} - 1}{r + \\sqrt{-a^{2} + 1} - 1}\\right)}{\\sqrt{-a^{2} + 1}} + 2 \\, \\log\\left(a^{2} + r^{2} - 2 \\, r\\right)</script></html>"
      ],
      "text/plain": [
       "r + 2*log((r - sqrt(-a^2 + 1) - 1)/(r + sqrt(-a^2 + 1) - 1))/sqrt(-a^2 + 1) + 2*log(a^2 + r^2 - 2*r)"
      ]
     },
     "execution_count": 36,
     "metadata": {},
     "output_type": "execute_result"
    }
   ],
   "source": [
    "assume(1-a^2>0)\n",
    "f(r,a) = integrate((r^2+a^2 + 2*r)/(r^2+a^2-2*r), r)\n",
    "f(r,a)"
   ]
  },
  {
   "cell_type": "code",
   "execution_count": 37,
   "metadata": {
    "collapsed": false
   },
   "outputs": [
    {
     "data": {
      "image/png": "[encoded data removed]",
      "text/plain": [
       "Graphics object consisting of 1 graphics primitive"
      ]
     },
     "execution_count": 37,
     "metadata": {},
     "output_type": "execute_result"
    }
   ],
   "source": [
    "rH(a) = 1 + sqrt(1-a^2)\n",
    "plot(f(r,0.9), (r, 1.3*rH(0.9), 6), aspect_ratio=1)"
   ]
  },
  {
   "cell_type": "code",
   "execution_count": 38,
   "metadata": {
    "collapsed": false
   },
   "outputs": [
    {
     "data": {
      "text/html": [
       "<html><script type=\"math/tex; mode=display\">\\newcommand{\\Bold}[1]{\\mathbf{#1}}\\ell = \\left( a^{2} + 2 \\, m r + r^{2} \\right) \\frac{\\partial}{\\partial t } + \\left( a^{2} - 2 \\, m r + r^{2} \\right) \\frac{\\partial}{\\partial r } + 2 \\, a \\frac{\\partial}{\\partial {\\phi} }</script></html>"
      ],
      "text/plain": [
       "el = (a^2 + 2*m*r + r^2) d/dt + (a^2 - 2*m*r + r^2) d/dr + 2*a d/dph"
      ]
     },
     "execution_count": 38,
     "metadata": {},
     "output_type": "execute_result"
    }
   ],
   "source": [
    "el = M.vector_field(name='el', latex_name=r'\\ell')\n",
    "el[0] = r^2+a^2 + 2*m*r\n",
    "el[1] = r^2+a^2 - 2*m*r\n",
    "el[3] = 2*a\n",
    "el.display()"
   ]
  },
  {
   "cell_type": "code",
   "execution_count": 39,
   "metadata": {
    "collapsed": false
   },
   "outputs": [
    {
     "data": {
      "text/html": [
       "<html><script type=\"math/tex; mode=display\">\\newcommand{\\Bold}[1]{\\mathbf{#1}}\\begin{array}{llcl} g\\left(\\ell,\\ell\\right):& M & \\longrightarrow & \\mathbb{R} \\\\ & \\left(t, r, {\\theta}, {\\phi}\\right) & \\longmapsto & 0 \\end{array}</script></html>"
      ],
      "text/plain": [
       "g(el,el): M --> R\n",
       "   (t, r, th, ph) |--> 0"
      ]
     },
     "execution_count": 39,
     "metadata": {},
     "output_type": "execute_result"
    }
   ],
   "source": [
    "g(el,el).display()"
   ]
  },
  {
   "cell_type": "code",
   "execution_count": 40,
   "metadata": {
    "collapsed": false
   },
   "outputs": [
    {
     "data": {
      "text/html": [
       "<html><script type=\"math/tex; mode=display\">\\newcommand{\\Bold}[1]{\\mathbf{#1}}\\left( -2 \\, a^{2} m + 2 \\, m r^{2} + 2 \\, r^{3} + 2 \\, {\\left(a^{2} - 2 \\, m^{2}\\right)} r \\right) \\frac{\\partial}{\\partial t } + \\left( -2 \\, a^{2} m - 6 \\, m r^{2} + 2 \\, r^{3} + 2 \\, {\\left(a^{2} + 2 \\, m^{2}\\right)} r \\right) \\frac{\\partial}{\\partial r } + \\left( -4 \\, a m + 4 \\, a r \\right) \\frac{\\partial}{\\partial {\\phi} }</script></html>"
      ],
      "text/plain": [
       "(-2*a^2*m + 2*m*r^2 + 2*r^3 + 2*(a^2 - 2*m^2)*r) d/dt + (-2*a^2*m - 6*m*r^2 + 2*r^3 + 2*(a^2 + 2*m^2)*r) d/dr + (-4*a*m + 4*a*r) d/dph"
      ]
     },
     "execution_count": 40,
     "metadata": {},
     "output_type": "execute_result"
    }
   ],
   "source": [
    "acc = nab(el).contract(el)\n",
    "acc.display()"
   ]
  },
  {
   "cell_type": "code",
   "execution_count": 41,
   "metadata": {
    "collapsed": false
   },
   "outputs": [
    {
     "data": {
      "text/html": [
       "<html><script type=\"math/tex; mode=display\">\\newcommand{\\Bold}[1]{\\mathbf{#1}}-2 \\, m + 2 \\, r</script></html>"
      ],
      "text/plain": [
       "-2*m + 2*r"
      ]
     },
     "metadata": {},
     "output_type": "display_data"
    },
    {
     "data": {
      "text/html": [
       "<html><script type=\"math/tex; mode=display\">\\newcommand{\\Bold}[1]{\\mathbf{#1}}-2 \\, m + 2 \\, r</script></html>"
      ],
      "text/plain": [
       "-2*m + 2*r"
      ]
     },
     "metadata": {},
     "output_type": "display_data"
    },
    {
     "data": {
      "text/html": [
       "<html><script type=\"math/tex; mode=display\">\\newcommand{\\Bold}[1]{\\mathbf{#1}}-2 \\, m + 2 \\, r</script></html>"
      ],
      "text/plain": [
       "-2*m + 2*r"
      ]
     },
     "metadata": {},
     "output_type": "display_data"
    }
   ],
   "source": [
    "for i in [0,1,3]:\n",
    "    pretty_print(acc[i] / el[i])"
   ]
  },
  {
   "cell_type": "code",
   "execution_count": 42,
   "metadata": {
    "collapsed": false
   },
   "outputs": [
    {
     "data": {
      "text/html": [
       "<html><script type=\"math/tex; mode=display\">\\newcommand{\\Bold}[1]{\\mathbf{#1}}-2 \\, m + 2 \\, r</script></html>"
      ],
      "text/plain": [
       "-2*m + 2*r"
      ]
     },
     "execution_count": 42,
     "metadata": {},
     "output_type": "execute_result"
    }
   ],
   "source": [
    "kappa = (acc[0] / el[0]).expr()\n",
    "kappa"
   ]
  },
  {
   "cell_type": "code",
   "execution_count": 43,
   "metadata": {
    "collapsed": false
   },
   "outputs": [
    {
     "data": {
      "text/html": [
       "<html><script type=\"math/tex; mode=display\">\\newcommand{\\Bold}[1]{\\mathbf{#1}}\\mathrm{True}</script></html>"
      ],
      "text/plain": [
       "True"
      ]
     },
     "execution_count": 43,
     "metadata": {},
     "output_type": "execute_result"
    }
   ],
   "source": [
    "acc == kappa * el"
   ]
  },
  {
   "cell_type": "code",
   "execution_count": null,
   "metadata": {
    "collapsed": true
   },
   "outputs": [],
   "source": []
  }
 ],
 "metadata": {
  "kernelspec": {
   "display_name": "Sage 6.9",
   "language": "",
   "name": "sage_6_9"
  },
  "language_info": {
   "codemirror_mode": {
    "name": "ipython",
    "version": 2
   },
   "file_extension": ".py",
   "mimetype": "text/x-python",
   "name": "python",
   "nbconvert_exporter": "python",
   "pygments_lexer": "ipython2",
   "version": "2.7.9"
  }
 },
 "nbformat": 4,
 "nbformat_minor": 0
}
