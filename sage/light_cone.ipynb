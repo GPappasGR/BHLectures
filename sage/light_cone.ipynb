{
 "cells": [
  {
   "cell_type": "markdown",
   "metadata": {},
   "source": [
    "# Light cone in Minkowski spacetime"
   ]
  },
  {
   "cell_type": "code",
   "execution_count": 1,
   "metadata": {
    "collapsed": true
   },
   "outputs": [],
   "source": [
    "%display latex"
   ]
  },
  {
   "cell_type": "code",
   "execution_count": 2,
   "metadata": {
    "collapsed": false
   },
   "outputs": [
    {
     "name": "stdout",
     "output_type": "stream",
     "text": [
      "4-dimensional differentiable manifold M\n"
     ]
    }
   ],
   "source": [
    "M = Manifold(4, 'M')\n",
    "print(M)"
   ]
  },
  {
   "cell_type": "code",
   "execution_count": 3,
   "metadata": {
    "collapsed": false
   },
   "outputs": [
    {
     "data": {
      "text/html": [
       "<html><script type=\"math/tex; mode=display\">\\newcommand{\\Bold}[1]{\\mathbf{#1}}\\left(M,(t, x, y, z)\\right)</script></html>"
      ],
      "text/plain": [
       "Chart (M, (t, x, y, z))"
      ]
     },
     "execution_count": 3,
     "metadata": {},
     "output_type": "execute_result"
    }
   ],
   "source": [
    "X.<t,x,y,z> = M.chart()\n",
    "X"
   ]
  },
  {
   "cell_type": "code",
   "execution_count": 4,
   "metadata": {
    "collapsed": false
   },
   "outputs": [
    {
     "data": {
      "text/html": [
       "<html><script type=\"math/tex; mode=display\">\\newcommand{\\Bold}[1]{\\mathbf{#1}}g = -\\mathrm{d} t\\otimes \\mathrm{d} t+\\mathrm{d} x\\otimes \\mathrm{d} x+\\mathrm{d} y\\otimes \\mathrm{d} y+\\mathrm{d} z\\otimes \\mathrm{d} z</script></html>"
      ],
      "text/plain": [
       "g = -dt*dt + dx*dx + dy*dy + dz*dz"
      ]
     },
     "execution_count": 4,
     "metadata": {},
     "output_type": "execute_result"
    }
   ],
   "source": [
    "g = M.lorentzian_metric('g')\n",
    "g[0,0], g[1,1], g[2,2], g[3,3] = -1, 1, 1, 1\n",
    "g.display()"
   ]
  },
  {
   "cell_type": "code",
   "execution_count": 7,
   "metadata": {
    "collapsed": false
   },
   "outputs": [
    {
     "data": {
      "text/html": [
       "<html><script type=\"math/tex; mode=display\">\\newcommand{\\Bold}[1]{\\mathbf{#1}}\\begin{array}{llcl} u:& M & \\longrightarrow & \\mathbb{R} \\\\ & \\left(t, x, y, z\\right) & \\longmapsto & t - \\sqrt{x^{2} + y^{2} + z^{2}} \\end{array}</script></html>"
      ],
      "text/plain": [
       "u: M --> R\n",
       "   (t, x, y, z) |--> t - sqrt(x^2 + y^2 + z^2)"
      ]
     },
     "execution_count": 7,
     "metadata": {},
     "output_type": "execute_result"
    }
   ],
   "source": [
    "u = M.scalar_field(coord_expression={X: t-sqrt(x^2+y^2+z^2)}, name='u')\n",
    "u.display()"
   ]
  },
  {
   "cell_type": "code",
   "execution_count": 8,
   "metadata": {
    "collapsed": false
   },
   "outputs": [
    {
     "data": {
      "text/html": [
       "<html><script type=\"math/tex; mode=display\">\\newcommand{\\Bold}[1]{\\mathbf{#1}}\\mathrm{d}u = \\mathrm{d} t + \\left( -\\frac{x}{\\sqrt{x^{2} + y^{2} + z^{2}}} \\right) \\mathrm{d} x + \\left( -\\frac{y}{\\sqrt{x^{2} + y^{2} + z^{2}}} \\right) \\mathrm{d} y + \\left( -\\frac{z}{\\sqrt{x^{2} + y^{2} + z^{2}}} \\right) \\mathrm{d} z</script></html>"
      ],
      "text/plain": [
       "du = dt - x/sqrt(x^2 + y^2 + z^2) dx - y/sqrt(x^2 + y^2 + z^2) dy - z/sqrt(x^2 + y^2 + z^2) dz"
      ]
     },
     "execution_count": 8,
     "metadata": {},
     "output_type": "execute_result"
    }
   ],
   "source": [
    "du = u.differential()\n",
    "du.display()"
   ]
  },
  {
   "cell_type": "code",
   "execution_count": 9,
   "metadata": {
    "collapsed": false
   },
   "outputs": [
    {
     "name": "stdout",
     "output_type": "stream",
     "text": [
      "Vector field l on the 4-dimensional differentiable manifold M\n"
     ]
    },
    {
     "data": {
      "text/html": [
       "<html><script type=\"math/tex; mode=display\">\\newcommand{\\Bold}[1]{\\mathbf{#1}}\\ell = \\frac{\\partial}{\\partial t } + \\left( \\frac{x}{\\sqrt{x^{2} + y^{2} + z^{2}}} \\right) \\frac{\\partial}{\\partial x } + \\left( \\frac{y}{\\sqrt{x^{2} + y^{2} + z^{2}}} \\right) \\frac{\\partial}{\\partial y } + \\left( \\frac{z}{\\sqrt{x^{2} + y^{2} + z^{2}}} \\right) \\frac{\\partial}{\\partial z }</script></html>"
      ],
      "text/plain": [
       "l = d/dt + x/sqrt(x^2 + y^2 + z^2) d/dx + y/sqrt(x^2 + y^2 + z^2) d/dy + z/sqrt(x^2 + y^2 + z^2) d/dz"
      ]
     },
     "execution_count": 9,
     "metadata": {},
     "output_type": "execute_result"
    }
   ],
   "source": [
    "l = - du.up(g)\n",
    "l.set_name('l', latex_name=r'\\ell')\n",
    "print(l)\n",
    "l.display()"
   ]
  },
  {
   "cell_type": "code",
   "execution_count": 10,
   "metadata": {
    "collapsed": false
   },
   "outputs": [
    {
     "data": {
      "text/html": [
       "<html><script type=\"math/tex; mode=display\">\\newcommand{\\Bold}[1]{\\mathbf{#1}}0</script></html>"
      ],
      "text/plain": [
       "0"
      ]
     },
     "execution_count": 10,
     "metadata": {},
     "output_type": "execute_result"
    }
   ],
   "source": [
    "g(l,l).expr()"
   ]
  },
  {
   "cell_type": "code",
   "execution_count": 11,
   "metadata": {
    "collapsed": false
   },
   "outputs": [
    {
     "name": "stdout",
     "output_type": "stream",
     "text": [
      "Levi-Civita connection nabla_g associated with the Lorentzian metric g on the 4-dimensional differentiable manifold M\n"
     ]
    }
   ],
   "source": [
    "nab = g.connection()\n",
    "print(nab)"
   ]
  },
  {
   "cell_type": "code",
   "execution_count": 12,
   "metadata": {
    "collapsed": false
   },
   "outputs": [
    {
     "name": "stdout",
     "output_type": "stream",
     "text": [
      "Tensor field nabla_g(l) of type (1,1) on the 4-dimensional differentiable manifold M\n"
     ]
    },
    {
     "data": {
      "text/html": [
       "<html><script type=\"math/tex; mode=display\">\\newcommand{\\Bold}[1]{\\mathbf{#1}}\\nabla_{g} \\ell = \\left( \\frac{\\sqrt{x^{2} + y^{2} + z^{2}} {\\left(y^{2} + z^{2}\\right)}}{x^{4} + 2 \\, x^{2} y^{2} + y^{4} + z^{4} + 2 \\, {\\left(x^{2} + y^{2}\\right)} z^{2}} \\right) \\frac{\\partial}{\\partial x }\\otimes \\mathrm{d} x -\\frac{x y}{{\\left(x^{2} + y^{2} + z^{2}\\right)}^{\\frac{3}{2}}} \\frac{\\partial}{\\partial x }\\otimes \\mathrm{d} y -\\frac{x z}{{\\left(x^{2} + y^{2} + z^{2}\\right)}^{\\frac{3}{2}}} \\frac{\\partial}{\\partial x }\\otimes \\mathrm{d} z -\\frac{x y}{{\\left(x^{2} + y^{2} + z^{2}\\right)}^{\\frac{3}{2}}} \\frac{\\partial}{\\partial y }\\otimes \\mathrm{d} x + \\left( \\frac{\\sqrt{x^{2} + y^{2} + z^{2}} {\\left(x^{2} + z^{2}\\right)}}{x^{4} + 2 \\, x^{2} y^{2} + y^{4} + z^{4} + 2 \\, {\\left(x^{2} + y^{2}\\right)} z^{2}} \\right) \\frac{\\partial}{\\partial y }\\otimes \\mathrm{d} y -\\frac{y z}{{\\left(x^{2} + y^{2} + z^{2}\\right)}^{\\frac{3}{2}}} \\frac{\\partial}{\\partial y }\\otimes \\mathrm{d} z -\\frac{x z}{{\\left(x^{2} + y^{2} + z^{2}\\right)}^{\\frac{3}{2}}} \\frac{\\partial}{\\partial z }\\otimes \\mathrm{d} x -\\frac{y z}{{\\left(x^{2} + y^{2} + z^{2}\\right)}^{\\frac{3}{2}}} \\frac{\\partial}{\\partial z }\\otimes \\mathrm{d} y + \\left( \\frac{\\sqrt{x^{2} + y^{2} + z^{2}} {\\left(x^{2} + y^{2}\\right)}}{x^{4} + 2 \\, x^{2} y^{2} + y^{4} + z^{4} + 2 \\, {\\left(x^{2} + y^{2}\\right)} z^{2}} \\right) \\frac{\\partial}{\\partial z }\\otimes \\mathrm{d} z</script></html>"
      ],
      "text/plain": [
       "nabla_g(l) = sqrt(x^2 + y^2 + z^2)*(y^2 + z^2)/(x^4 + 2*x^2*y^2 + y^4 + z^4 + 2*(x^2 + y^2)*z^2) d/dx*dx - x*y/(x^2 + y^2 + z^2)^(3/2) d/dx*dy - x*z/(x^2 + y^2 + z^2)^(3/2) d/dx*dz - x*y/(x^2 + y^2 + z^2)^(3/2) d/dy*dx + sqrt(x^2 + y^2 + z^2)*(x^2 + z^2)/(x^4 + 2*x^2*y^2 + y^4 + z^4 + 2*(x^2 + y^2)*z^2) d/dy*dy - y*z/(x^2 + y^2 + z^2)^(3/2) d/dy*dz - x*z/(x^2 + y^2 + z^2)^(3/2) d/dz*dx - y*z/(x^2 + y^2 + z^2)^(3/2) d/dz*dy + sqrt(x^2 + y^2 + z^2)*(x^2 + y^2)/(x^4 + 2*x^2*y^2 + y^4 + z^4 + 2*(x^2 + y^2)*z^2) d/dz*dz"
      ]
     },
     "execution_count": 12,
     "metadata": {},
     "output_type": "execute_result"
    }
   ],
   "source": [
    "nab_l = nab(l)\n",
    "print(nab_l)\n",
    "nab_l.display()"
   ]
  },
  {
   "cell_type": "code",
   "execution_count": 13,
   "metadata": {
    "collapsed": false
   },
   "outputs": [
    {
     "data": {
      "text/html": [
       "<html><script type=\"math/tex; mode=display\">\\newcommand{\\Bold}[1]{\\mathbf{#1}}\\left(\\begin{array}{rrrr}\n",
       "0 & 0 & 0 & 0 \\\\\n",
       "0 & \\frac{\\sqrt{x^{2} + y^{2} + z^{2}} {\\left(y^{2} + z^{2}\\right)}}{x^{4} + 2 \\, x^{2} y^{2} + y^{4} + z^{4} + 2 \\, {\\left(x^{2} + y^{2}\\right)} z^{2}} & -\\frac{x y}{{\\left(x^{2} + y^{2} + z^{2}\\right)}^{\\frac{3}{2}}} & -\\frac{x z}{{\\left(x^{2} + y^{2} + z^{2}\\right)}^{\\frac{3}{2}}} \\\\\n",
       "0 & -\\frac{x y}{{\\left(x^{2} + y^{2} + z^{2}\\right)}^{\\frac{3}{2}}} & \\frac{\\sqrt{x^{2} + y^{2} + z^{2}} {\\left(x^{2} + z^{2}\\right)}}{x^{4} + 2 \\, x^{2} y^{2} + y^{4} + z^{4} + 2 \\, {\\left(x^{2} + y^{2}\\right)} z^{2}} & -\\frac{y z}{{\\left(x^{2} + y^{2} + z^{2}\\right)}^{\\frac{3}{2}}} \\\\\n",
       "0 & -\\frac{x z}{{\\left(x^{2} + y^{2} + z^{2}\\right)}^{\\frac{3}{2}}} & -\\frac{y z}{{\\left(x^{2} + y^{2} + z^{2}\\right)}^{\\frac{3}{2}}} & \\frac{\\sqrt{x^{2} + y^{2} + z^{2}} {\\left(x^{2} + y^{2}\\right)}}{x^{4} + 2 \\, x^{2} y^{2} + y^{4} + z^{4} + 2 \\, {\\left(x^{2} + y^{2}\\right)} z^{2}}\n",
       "\\end{array}\\right)</script></html>"
      ],
      "text/plain": [
       "[                                                                                  0                                                                                   0                                                                                   0                                                                                   0]\n",
       "[                                                                                  0 sqrt(x^2 + y^2 + z^2)*(y^2 + z^2)/(x^4 + 2*x^2*y^2 + y^4 + z^4 + 2*(x^2 + y^2)*z^2)                                                        -x*y/(x^2 + y^2 + z^2)^(3/2)                                                        -x*z/(x^2 + y^2 + z^2)^(3/2)]\n",
       "[                                                                                  0                                                        -x*y/(x^2 + y^2 + z^2)^(3/2) sqrt(x^2 + y^2 + z^2)*(x^2 + z^2)/(x^4 + 2*x^2*y^2 + y^4 + z^4 + 2*(x^2 + y^2)*z^2)                                                        -y*z/(x^2 + y^2 + z^2)^(3/2)]\n",
       "[                                                                                  0                                                        -x*z/(x^2 + y^2 + z^2)^(3/2)                                                        -y*z/(x^2 + y^2 + z^2)^(3/2) sqrt(x^2 + y^2 + z^2)*(x^2 + y^2)/(x^4 + 2*x^2*y^2 + y^4 + z^4 + 2*(x^2 + y^2)*z^2)]"
      ]
     },
     "execution_count": 13,
     "metadata": {},
     "output_type": "execute_result"
    }
   ],
   "source": [
    "nab_l[:]"
   ]
  },
  {
   "cell_type": "code",
   "execution_count": 16,
   "metadata": {
    "collapsed": false
   },
   "outputs": [
    {
     "data": {
      "text/html": [
       "<html><script type=\"math/tex; mode=display\">\\newcommand{\\Bold}[1]{\\mathbf{#1}}\\left(\\begin{array}{rrrr}\n",
       "0 & 0 & 0 & 0 \\\\\n",
       "0 & \\frac{y^{2} + z^{2}}{{\\left(x^{2} + y^{2} + z^{2}\\right)}^{\\frac{3}{2}}} & -\\frac{x y}{{\\left(x^{2} + y^{2} + z^{2}\\right)}^{\\frac{3}{2}}} & -\\frac{x z}{{\\left(x^{2} + y^{2} + z^{2}\\right)}^{\\frac{3}{2}}} \\\\\n",
       "0 & -\\frac{x y}{{\\left(x^{2} + y^{2} + z^{2}\\right)}^{\\frac{3}{2}}} & \\frac{x^{2} + z^{2}}{{\\left(x^{2} + y^{2} + z^{2}\\right)}^{\\frac{3}{2}}} & -\\frac{y z}{{\\left(x^{2} + y^{2} + z^{2}\\right)}^{\\frac{3}{2}}} \\\\\n",
       "0 & -\\frac{x z}{{\\left(x^{2} + y^{2} + z^{2}\\right)}^{\\frac{3}{2}}} & -\\frac{y z}{{\\left(x^{2} + y^{2} + z^{2}\\right)}^{\\frac{3}{2}}} & \\frac{x^{2} + y^{2}}{{\\left(x^{2} + y^{2} + z^{2}\\right)}^{\\frac{3}{2}}}\n",
       "\\end{array}\\right)</script></html>"
      ],
      "text/plain": [
       "[                                  0                                   0                                   0                                   0]\n",
       "[                                  0 (y^2 + z^2)/(x^2 + y^2 + z^2)^(3/2)        -x*y/(x^2 + y^2 + z^2)^(3/2)        -x*z/(x^2 + y^2 + z^2)^(3/2)]\n",
       "[                                  0        -x*y/(x^2 + y^2 + z^2)^(3/2) (x^2 + z^2)/(x^2 + y^2 + z^2)^(3/2)        -y*z/(x^2 + y^2 + z^2)^(3/2)]\n",
       "[                                  0        -x*z/(x^2 + y^2 + z^2)^(3/2)        -y*z/(x^2 + y^2 + z^2)^(3/2) (x^2 + y^2)/(x^2 + y^2 + z^2)^(3/2)]"
      ]
     },
     "execution_count": 16,
     "metadata": {},
     "output_type": "execute_result"
    }
   ],
   "source": [
    "for i in [1..3]:\n",
    "    nab_l[i,i].factor()\n",
    "nab_l[:]"
   ]
  },
  {
   "cell_type": "code",
   "execution_count": 17,
   "metadata": {
    "collapsed": false
   },
   "outputs": [
    {
     "name": "stdout",
     "output_type": "stream",
     "text": [
      "Vector field on the 4-dimensional differentiable manifold M\n"
     ]
    },
    {
     "data": {
      "text/html": [
       "<html><script type=\"math/tex; mode=display\">\\newcommand{\\Bold}[1]{\\mathbf{#1}}0</script></html>"
      ],
      "text/plain": [
       "0"
      ]
     },
     "execution_count": 17,
     "metadata": {},
     "output_type": "execute_result"
    }
   ],
   "source": [
    "acc_l = l['^m']*nab_l['^a_m']\n",
    "print(acc_l)\n",
    "acc_l.display()"
   ]
  },
  {
   "cell_type": "code",
   "execution_count": null,
   "metadata": {
    "collapsed": true
   },
   "outputs": [],
   "source": []
  }
 ],
 "metadata": {
  "kernelspec": {
   "display_name": "Sage 6.9",
   "language": "",
   "name": "sage_6_9"
  },
  "language_info": {
   "codemirror_mode": {
    "name": "ipython",
    "version": 2
   },
   "file_extension": ".py",
   "mimetype": "text/x-python",
   "name": "python",
   "nbconvert_exporter": "python",
   "pygments_lexer": "ipython2",
   "version": "2.7.9"
  }
 },
 "nbformat": 4,
 "nbformat_minor": 0
}
