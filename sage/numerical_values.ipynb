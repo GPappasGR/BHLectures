{
 "cells": [
  {
   "cell_type": "markdown",
   "metadata": {},
   "source": [
    "# Numerical values\n",
    "\n",
    "This Jupyter/SageMath worksheet is relative to the lectures\n",
    "[Geometry and physics of black holes](http://luth.obspm.fr/~luthier/gourgoulhon/bh16/).\n",
    "\n",
    "Click [here](https://raw.githubusercontent.com/egourgoulhon/BHLectures/master/sage/numerical_values.ipynb) to download the worksheet file (ipynb format). To run it, you must start SageMath with the Jupyter notebook, with the command `sage -n jupyter`\n"
   ]
  },
  {
   "cell_type": "code",
   "execution_count": 1,
   "metadata": {
    "collapsed": true
   },
   "outputs": [],
   "source": [
    "%display latex"
   ]
  },
  {
   "cell_type": "markdown",
   "metadata": {},
   "source": [
    "## Physical constants"
   ]
  },
  {
   "cell_type": "markdown",
   "metadata": {},
   "source": [
    "Values of the fundamental constants in SI units  (taken from the [Particle Data Group](http://pdg.lbl.gov/) (2017)):"
   ]
  },
  {
   "cell_type": "code",
   "execution_count": 2,
   "metadata": {
    "collapsed": true
   },
   "outputs": [],
   "source": [
    "c = 2.99792458e8\n",
    "G = 6.67408e-11\n",
    "hbar = 1.054571800e-34"
   ]
  },
  {
   "cell_type": "markdown",
   "metadata": {},
   "source": [
    "The solar mass $M_\\odot$ in SI units:"
   ]
  },
  {
   "cell_type": "code",
   "execution_count": 3,
   "metadata": {
    "collapsed": true
   },
   "outputs": [],
   "source": [
    "M_sol = 1.98848e30"
   ]
  },
  {
   "cell_type": "markdown",
   "metadata": {},
   "source": [
    "The Planck mass in kg:"
   ]
  },
  {
   "cell_type": "code",
   "execution_count": 4,
   "metadata": {
    "collapsed": false
   },
   "outputs": [
    {
     "data": {
      "text/html": [
       "<html><script type=\"math/tex; mode=display\">\\newcommand{\\Bold}[1]{\\mathbf{#1}}2.17647019549064 \\times 10^{-8}</script></html>"
      ],
      "text/plain": [
       "2.17647019549064e-8"
      ]
     },
     "execution_count": 4,
     "metadata": {},
     "output_type": "execute_result"
    }
   ],
   "source": [
    "sqrt(hbar*c/G)"
   ]
  },
  {
   "cell_type": "markdown",
   "metadata": {},
   "source": [
    "The solar mass $M_\\odot$ in meters:"
   ]
  },
  {
   "cell_type": "code",
   "execution_count": 5,
   "metadata": {
    "collapsed": false
   },
   "outputs": [
    {
     "data": {
      "text/html": [
       "<html><script type=\"math/tex; mode=display\">\\newcommand{\\Bold}[1]{\\mathbf{#1}}1476.62844258127</script></html>"
      ],
      "text/plain": [
       "1476.62844258127"
      ]
     },
     "execution_count": 5,
     "metadata": {},
     "output_type": "execute_result"
    }
   ],
   "source": [
    "M_sol_m = G*M_sol/c^2\n",
    "M_sol_m"
   ]
  },
  {
   "cell_type": "markdown",
   "metadata": {},
   "source": [
    "The solar mass $M_\\odot$ in seconds:"
   ]
  },
  {
   "cell_type": "code",
   "execution_count": 6,
   "metadata": {
    "collapsed": false
   },
   "outputs": [
    {
     "data": {
      "text/html": [
       "<html><script type=\"math/tex; mode=display\">\\newcommand{\\Bold}[1]{\\mathbf{#1}}4.92550230393478 \\times 10^{-6}</script></html>"
      ],
      "text/plain": [
       "4.92550230393478e-6"
      ]
     },
     "execution_count": 6,
     "metadata": {},
     "output_type": "execute_result"
    }
   ],
   "source": [
    "M_sol_s = G*M_sol/c^3\n",
    "M_sol_s"
   ]
  },
  {
   "cell_type": "markdown",
   "metadata": {},
   "source": [
    "The astronomical unit UA in SI units:"
   ]
  },
  {
   "cell_type": "code",
   "execution_count": 7,
   "metadata": {
    "collapsed": true
   },
   "outputs": [],
   "source": [
    "UA = 1.49597870700e11"
   ]
  },
  {
   "cell_type": "markdown",
   "metadata": {},
   "source": [
    "## A sample of black holes masses\n",
    "\n",
    "Masses in $M_\\odot$:"
   ]
  },
  {
   "cell_type": "code",
   "execution_count": 8,
   "metadata": {
    "collapsed": false
   },
   "outputs": [
    {
     "data": {
      "text/html": [
       "<html><script type=\"math/tex; mode=display\">\\newcommand{\\Bold}[1]{\\mathbf{#1}}\\left[15.0000000000000, 4.00000000000000 \\times 10^{6}, 6.00000000000000 \\times 10^{9}\\right]</script></html>"
      ],
      "text/plain": [
       "[15.0000000000000, 4.00000000000000e6, 6.00000000000000e9]"
      ]
     },
     "execution_count": 8,
     "metadata": {},
     "output_type": "execute_result"
    }
   ],
   "source": [
    "masses = [15., 4e6, 6e9]\n",
    "masses"
   ]
  },
  {
   "cell_type": "markdown",
   "metadata": {},
   "source": [
    "Schwarzschild radii:"
   ]
  },
  {
   "cell_type": "code",
   "execution_count": 9,
   "metadata": {
    "collapsed": false
   },
   "outputs": [
    {
     "name": "stdout",
     "output_type": "stream",
     "text": [
      "m = 15.0000000000000 M_sol:  2m = 44.2988532774 km = 2.9611954415e-07 UA\n",
      "m = 4.00000000000000e6 M_sol:  2m = 11813027.5407 km = 0.0789652117732 UA\n",
      "m = 6.00000000000000e9 M_sol:  2m = 17719541311.0 km = 118.44781766 UA\n"
     ]
    }
   ],
   "source": [
    "for m in masses:\n",
    "    Rs = RDF(2*m * M_sol_m)\n",
    "    Rs_km = RDF(Rs/1000)\n",
    "    Rs_UA = RDF(Rs/UA)\n",
    "    print(\"m = {} M_sol:  2m = {} km = {} UA\".format(m, Rs_km, Rs_UA))    "
   ]
  },
  {
   "cell_type": "markdown",
   "metadata": {},
   "source": [
    "## Free fall in a Schwarzschild black hole"
   ]
  },
  {
   "cell_type": "markdown",
   "metadata": {},
   "source": [
    "Proper time to reach the singularity starting from rest at the ISCO:"
   ]
  },
  {
   "cell_type": "code",
   "execution_count": 10,
   "metadata": {
    "collapsed": false
   },
   "outputs": [
    {
     "data": {
      "text/html": [
       "<html><script type=\"math/tex; mode=display\">\\newcommand{\\Bold}[1]{\\mathbf{#1}}\\frac{1}{2} \\, \\sqrt{\\frac{1}{2}} \\pi \\sqrt{r_{0}^{3}}</script></html>"
      ],
      "text/plain": [
       "1/2*sqrt(1/2)*pi*sqrt(r0^3)"
      ]
     },
     "execution_count": 10,
     "metadata": {},
     "output_type": "execute_result"
    }
   ],
   "source": [
    "var('r0')\n",
    "tau_f(r0) = pi*sqrt(r0^3/8)\n",
    "tau_f(r0)"
   ]
  },
  {
   "cell_type": "markdown",
   "metadata": {},
   "source": [
    "Proper time to reach the horizon starting from rest at the ISCO:"
   ]
  },
  {
   "cell_type": "code",
   "execution_count": 11,
   "metadata": {
    "collapsed": false
   },
   "outputs": [
    {
     "data": {
      "text/html": [
       "<html><script type=\"math/tex; mode=display\">\\newcommand{\\Bold}[1]{\\mathbf{#1}}\\sqrt{\\frac{1}{2}} \\sqrt{r_{0}^{3}} {\\left(\\sqrt{2} \\sqrt{-\\frac{\\frac{2}{r_{0}} - 1}{r_{0}}} + \\arctan\\left(\\sqrt{\\frac{1}{2} \\, r_{0} - 1}\\right)\\right)}</script></html>"
      ],
      "text/plain": [
       "sqrt(1/2)*sqrt(r0^3)*(sqrt(2)*sqrt(-(2/r0 - 1)/r0) + arctan(sqrt(1/2*r0 - 1)))"
      ]
     },
     "execution_count": 11,
     "metadata": {},
     "output_type": "execute_result"
    }
   ],
   "source": [
    "tau_h(r0) = sqrt(r0^3/2)*(atan(sqrt(r0/2-1)) + sqrt(2/r0*(1-2/r0)))\n",
    "tau_h(r0)"
   ]
  },
  {
   "cell_type": "code",
   "execution_count": 12,
   "metadata": {
    "collapsed": false
   },
   "outputs": [
    {
     "name": "stdout",
     "output_type": "stream",
     "text": [
      "m = 15.0000000000000 M_sol:\n",
      "  tau_f = 0.0012060728479 s = 3.35020235528e-07 h = 1.39591764803e-08 days\n",
      "m = 4.00000000000000e6 M_sol:\n",
      "  tau_f = 321.619426107 s = 0.0893387294741 h = 0.00372244706142 days\n",
      "m = 6.00000000000000e9 M_sol:\n",
      "  tau_f = 482429.13916 s = 134.008094211 h = 5.58367059213 days\n"
     ]
    }
   ],
   "source": [
    "for m in masses:\n",
    "    t_s = RDF(tau_f(6) * m * M_sol_s)\n",
    "    t_h = RDF(t_s/3600)\n",
    "    t_d = RDF(t_h/24)\n",
    "    print(\"m = {} M_sol:\".format(m))    \n",
    "    print(\"  tau_f = {} s = {} h = {} days\".format(t_s, t_h, t_d))"
   ]
  },
  {
   "cell_type": "code",
   "execution_count": 13,
   "metadata": {
    "collapsed": false
   },
   "outputs": [
    {
     "name": "stdout",
     "output_type": "stream",
     "text": [
      "m = 15.0000000000000 M_sol:\n",
      "  tau_h = 0.00109545050356 s = 3.04291806543e-07 h = 1.26788252726e-08 days\n",
      "m = 4.00000000000000e6 M_sol:\n",
      "  tau_h = 292.120134282 s = 0.0811444817449 h = 0.0033810200727 days\n",
      "m = 6.00000000000000e9 M_sol:\n",
      "  tau_h = 438180.201422 s = 121.716722617 h = 5.07153010906 days\n"
     ]
    }
   ],
   "source": [
    "for m in masses:\n",
    "    t_s = RDF(tau_h(6) * m * M_sol_s)\n",
    "    t_h = RDF(t_s/3600)\n",
    "    t_d = RDF(t_h/24)\n",
    "    print(\"m = {} M_sol:\".format(m))    \n",
    "    print(\"  tau_h = {} s = {} h = {} days\".format(t_s, t_h, t_d))"
   ]
  },
  {
   "cell_type": "markdown",
   "metadata": {},
   "source": [
    "Time spent into the black hole:"
   ]
  },
  {
   "cell_type": "code",
   "execution_count": 14,
   "metadata": {
    "collapsed": false
   },
   "outputs": [
    {
     "name": "stdout",
     "output_type": "stream",
     "text": [
      "m = 15.0000000000000 M_sol:\n",
      "  tau_inside = 0.000110622344344 s = 3.07284289845e-08 h = 1.28035120769e-09 days\n",
      "m = 4.00000000000000e6 M_sol:\n",
      "  tau_inside = 29.4992918251 s = 0.00819424772921 h = 0.000341426988717 days\n",
      "m = 6.00000000000000e9 M_sol:\n",
      "  tau_inside = 44248.9377377 s = 12.2913715938 h = 0.512140483075 days\n"
     ]
    }
   ],
   "source": [
    "for m in masses:\n",
    "    t_s = RDF((tau_f(6) - tau_h(6)) * m * M_sol_s)\n",
    "    t_h = RDF(t_s/3600)\n",
    "    t_d = RDF(t_h/24)\n",
    "    print(\"m = {} M_sol:\".format(m))    \n",
    "    print(\"  tau_inside = {} s = {} h = {} days\".format(t_s, t_h, t_d))"
   ]
  },
  {
   "cell_type": "code",
   "execution_count": null,
   "metadata": {
    "collapsed": true
   },
   "outputs": [],
   "source": []
  }
 ],
 "metadata": {
  "kernelspec": {
   "display_name": "SageMath 8.1.rc3",
   "language": "",
   "name": "sagemath"
  },
  "language_info": {
   "codemirror_mode": {
    "name": "ipython",
    "version": 2
   },
   "file_extension": ".py",
   "mimetype": "text/x-python",
   "name": "python",
   "nbconvert_exporter": "python",
   "pygments_lexer": "ipython2",
   "version": "2.7.14"
  }
 },
 "nbformat": 4,
 "nbformat_minor": 2
}
