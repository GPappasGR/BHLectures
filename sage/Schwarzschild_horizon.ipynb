{
 "cells": [
  {
   "cell_type": "markdown",
   "metadata": {},
   "source": [
    "# Schwarzschild horizon in 3+1 Eddington-Finkelstein coordinates\n",
    "\n",
    "\n",
    "This Jupyter/SageMath worksheet is relative to the lectures\n",
    "[Geometry and physics of black holes](http://luth.obspm.fr/~luthier/gourgoulhon/bh16/)\n",
    "  \n",
    "These computations are based on [SageManifolds](http://sagemanifolds.obspm.fr) (version 1.2, as included in SageMath 8.2 and higher versions)\n",
    "\n",
    "The worksheet file (ipynb format) can be downloaded from [here](https://raw.githubusercontent.com/egourgoulhon/BHLectures/master/sage/Schwarzschild_horizon.ipynb). To run it, you must start SageMath with the Jupyter notebook, with the command `sage -n jupyter`"
   ]
  },
  {
   "cell_type": "markdown",
   "metadata": {},
   "source": [
    "*NB:* a version of SageMath at least equal to 8.2 is required to run this worksheet: "
   ]
  },
  {
   "cell_type": "code",
   "execution_count": 1,
   "metadata": {},
   "outputs": [
    {
     "data": {
      "text/plain": [
       "'SageMath version 8.3.beta4, Release Date: 2018-06-02'"
      ]
     },
     "execution_count": 1,
     "metadata": {},
     "output_type": "execute_result"
    }
   ],
   "source": [
    "version()"
   ]
  },
  {
   "cell_type": "markdown",
   "metadata": {},
   "source": [
    "First we set up the notebook to display mathematical objects using LaTeX formatting:"
   ]
  },
  {
   "cell_type": "code",
   "execution_count": 2,
   "metadata": {},
   "outputs": [],
   "source": [
    "%display latex"
   ]
  },
  {
   "cell_type": "markdown",
   "metadata": {},
   "source": [
    "## Spacetime\n",
    "\n",
    "We declare the spacetime manifold $M$:"
   ]
  },
  {
   "cell_type": "code",
   "execution_count": 3,
   "metadata": {},
   "outputs": [
    {
     "name": "stdout",
     "output_type": "stream",
     "text": [
      "4-dimensional Lorentzian manifold M\n"
     ]
    }
   ],
   "source": [
    "M = Manifold(4, 'M', structure='Lorentzian')\n",
    "print M"
   ]
  },
  {
   "cell_type": "markdown",
   "metadata": {},
   "source": [
    "and the 3+1 Eddington-Finkelstein coordinates $(t,r,\\theta,\\phi)$ as a chart on $M$:"
   ]
  },
  {
   "cell_type": "code",
   "execution_count": 4,
   "metadata": {},
   "outputs": [
    {
     "data": {
      "text/html": [
       "<html><script type=\"math/tex; mode=display\">\\newcommand{\\Bold}[1]{\\mathbf{#1}}\\left(M,(t, r, {\\theta}, {\\phi})\\right)</script></html>"
      ],
      "text/plain": [
       "Chart (M, (t, r, th, ph))"
      ]
     },
     "execution_count": 4,
     "metadata": {},
     "output_type": "execute_result"
    }
   ],
   "source": [
    "X.<t,r,th,ph> = M.chart(r't r:(0,+oo) th:(0,pi):\\theta ph:(0,2*pi):\\phi')\n",
    "X"
   ]
  },
  {
   "cell_type": "markdown",
   "metadata": {},
   "source": [
    "The mass parameter and the metric:"
   ]
  },
  {
   "cell_type": "code",
   "execution_count": 5,
   "metadata": {},
   "outputs": [],
   "source": [
    "var('m', domain='real')\n",
    "assume(m>=0)"
   ]
  },
  {
   "cell_type": "code",
   "execution_count": 6,
   "metadata": {},
   "outputs": [
    {
     "data": {
      "text/html": [
       "<html><script type=\"math/tex; mode=display\">\\newcommand{\\Bold}[1]{\\mathbf{#1}}g = \\left( \\frac{2 \\, m}{r} - 1 \\right) \\mathrm{d} t\\otimes \\mathrm{d} t + \\frac{2 \\, m}{r} \\mathrm{d} t\\otimes \\mathrm{d} r + \\frac{2 \\, m}{r} \\mathrm{d} r\\otimes \\mathrm{d} t + \\left( \\frac{2 \\, m}{r} + 1 \\right) \\mathrm{d} r\\otimes \\mathrm{d} r + r^{2} \\mathrm{d} {\\theta}\\otimes \\mathrm{d} {\\theta} + r^{2} \\sin\\left({\\theta}\\right)^{2} \\mathrm{d} {\\phi}\\otimes \\mathrm{d} {\\phi}</script></html>"
      ],
      "text/plain": [
       "g = (2*m/r - 1) dt*dt + 2*m/r dt*dr + 2*m/r dr*dt + (2*m/r + 1) dr*dr + r^2 dth*dth + r^2*sin(th)^2 dph*dph"
      ]
     },
     "execution_count": 6,
     "metadata": {},
     "output_type": "execute_result"
    }
   ],
   "source": [
    "g = M.metric()\n",
    "g[0,0] = -(1-2*m/r)\n",
    "g[0,1] = 2*m/r\n",
    "g[1,1] = 1+2*m/r\n",
    "g[2,2] = r^2\n",
    "g[3,3] = (r*sin(th))^2\n",
    "g.display()"
   ]
  },
  {
   "cell_type": "code",
   "execution_count": 7,
   "metadata": {},
   "outputs": [
    {
     "data": {
      "text/html": [
       "<html><script type=\"math/tex; mode=display\">\\newcommand{\\Bold}[1]{\\mathbf{#1}}\\left(\\begin{array}{rrrr}\n",
       "\\frac{2 \\, m}{r} - 1 & \\frac{2 \\, m}{r} & 0 & 0 \\\\\n",
       "\\frac{2 \\, m}{r} & \\frac{2 \\, m}{r} + 1 & 0 & 0 \\\\\n",
       "0 & 0 & r^{2} & 0 \\\\\n",
       "0 & 0 & 0 & r^{2} \\sin\\left({\\theta}\\right)^{2}\n",
       "\\end{array}\\right)</script></html>"
      ],
      "text/plain": [
       "[    2*m/r - 1         2*m/r             0             0]\n",
       "[        2*m/r     2*m/r + 1             0             0]\n",
       "[            0             0           r^2             0]\n",
       "[            0             0             0 r^2*sin(th)^2]"
      ]
     },
     "execution_count": 7,
     "metadata": {},
     "output_type": "execute_result"
    }
   ],
   "source": [
    "g[:]"
   ]
  },
  {
   "cell_type": "code",
   "execution_count": 8,
   "metadata": {},
   "outputs": [
    {
     "data": {
      "text/html": [
       "<html><script type=\"math/tex; mode=display\">\\newcommand{\\Bold}[1]{\\mathbf{#1}}\\left(\\begin{array}{rrrr}\n",
       "-\\frac{2 \\, m + r}{r} & \\frac{2 \\, m}{r} & 0 & 0 \\\\\n",
       "\\frac{2 \\, m}{r} & -\\frac{2 \\, m - r}{r} & 0 & 0 \\\\\n",
       "0 & 0 & \\frac{1}{r^{2}} & 0 \\\\\n",
       "0 & 0 & 0 & \\frac{1}{r^{2} \\sin\\left({\\theta}\\right)^{2}}\n",
       "\\end{array}\\right)</script></html>"
      ],
      "text/plain": [
       "[     -(2*m + r)/r             2*m/r                 0                 0]\n",
       "[            2*m/r      -(2*m - r)/r                 0                 0]\n",
       "[                0                 0            r^(-2)                 0]\n",
       "[                0                 0                 0 1/(r^2*sin(th)^2)]"
      ]
     },
     "execution_count": 8,
     "metadata": {},
     "output_type": "execute_result"
    }
   ],
   "source": [
    "g.inverse()[:]"
   ]
  },
  {
   "cell_type": "code",
   "execution_count": 9,
   "metadata": {},
   "outputs": [
    {
     "data": {
      "text/html": [
       "<html><script type=\"math/tex; mode=display\">\\newcommand{\\Bold}[1]{\\mathbf{#1}}\\begin{array}{lcl} \\Gamma_{ \\phantom{\\, t} \\, t \\, t }^{ \\, t \\phantom{\\, t} \\phantom{\\, t} } & = & \\frac{2 \\, m^{2}}{r^{3}} \\\\ \\Gamma_{ \\phantom{\\, t} \\, t \\, r }^{ \\, t \\phantom{\\, t} \\phantom{\\, r} } & = & \\frac{2 \\, m^{2} + m r}{r^{3}} \\\\ \\Gamma_{ \\phantom{\\, t} \\, r \\, r }^{ \\, t \\phantom{\\, r} \\phantom{\\, r} } & = & \\frac{2 \\, {\\left(m^{2} + m r\\right)}}{r^{3}} \\\\ \\Gamma_{ \\phantom{\\, t} \\, {\\theta} \\, {\\theta} }^{ \\, t \\phantom{\\, {\\theta}} \\phantom{\\, {\\theta}} } & = & -2 \\, m \\\\ \\Gamma_{ \\phantom{\\, t} \\, {\\phi} \\, {\\phi} }^{ \\, t \\phantom{\\, {\\phi}} \\phantom{\\, {\\phi}} } & = & -2 \\, m \\sin\\left({\\theta}\\right)^{2} \\\\ \\Gamma_{ \\phantom{\\, r} \\, t \\, t }^{ \\, r \\phantom{\\, t} \\phantom{\\, t} } & = & -\\frac{2 \\, m^{2} - m r}{r^{3}} \\\\ \\Gamma_{ \\phantom{\\, r} \\, t \\, r }^{ \\, r \\phantom{\\, t} \\phantom{\\, r} } & = & -\\frac{2 \\, m^{2}}{r^{3}} \\\\ \\Gamma_{ \\phantom{\\, r} \\, r \\, r }^{ \\, r \\phantom{\\, r} \\phantom{\\, r} } & = & -\\frac{2 \\, m^{2} + m r}{r^{3}} \\\\ \\Gamma_{ \\phantom{\\, r} \\, {\\theta} \\, {\\theta} }^{ \\, r \\phantom{\\, {\\theta}} \\phantom{\\, {\\theta}} } & = & 2 \\, m - r \\\\ \\Gamma_{ \\phantom{\\, r} \\, {\\phi} \\, {\\phi} }^{ \\, r \\phantom{\\, {\\phi}} \\phantom{\\, {\\phi}} } & = & {\\left(2 \\, m - r\\right)} \\sin\\left({\\theta}\\right)^{2} \\\\ \\Gamma_{ \\phantom{\\, {\\theta}} \\, r \\, {\\theta} }^{ \\, {\\theta} \\phantom{\\, r} \\phantom{\\, {\\theta}} } & = & \\frac{1}{r} \\\\ \\Gamma_{ \\phantom{\\, {\\theta}} \\, {\\phi} \\, {\\phi} }^{ \\, {\\theta} \\phantom{\\, {\\phi}} \\phantom{\\, {\\phi}} } & = & -\\cos\\left({\\theta}\\right) \\sin\\left({\\theta}\\right) \\\\ \\Gamma_{ \\phantom{\\, {\\phi}} \\, r \\, {\\phi} }^{ \\, {\\phi} \\phantom{\\, r} \\phantom{\\, {\\phi}} } & = & \\frac{1}{r} \\\\ \\Gamma_{ \\phantom{\\, {\\phi}} \\, {\\theta} \\, {\\phi} }^{ \\, {\\phi} \\phantom{\\, {\\theta}} \\phantom{\\, {\\phi}} } & = & \\frac{\\cos\\left({\\theta}\\right)}{\\sin\\left({\\theta}\\right)} \\end{array}</script></html>"
      ],
      "text/plain": [
       "Gam^t_t,t = 2*m^2/r^3 \n",
       "Gam^t_t,r = (2*m^2 + m*r)/r^3 \n",
       "Gam^t_r,r = 2*(m^2 + m*r)/r^3 \n",
       "Gam^t_th,th = -2*m \n",
       "Gam^t_ph,ph = -2*m*sin(th)^2 \n",
       "Gam^r_t,t = -(2*m^2 - m*r)/r^3 \n",
       "Gam^r_t,r = -2*m^2/r^3 \n",
       "Gam^r_r,r = -(2*m^2 + m*r)/r^3 \n",
       "Gam^r_th,th = 2*m - r \n",
       "Gam^r_ph,ph = (2*m - r)*sin(th)^2 \n",
       "Gam^th_r,th = 1/r \n",
       "Gam^th_ph,ph = -cos(th)*sin(th) \n",
       "Gam^ph_r,ph = 1/r \n",
       "Gam^ph_th,ph = cos(th)/sin(th) "
      ]
     },
     "execution_count": 9,
     "metadata": {},
     "output_type": "execute_result"
    }
   ],
   "source": [
    "g.christoffel_symbols_display()"
   ]
  },
  {
   "cell_type": "markdown",
   "metadata": {},
   "source": [
    "Let us check that we are dealing with a solution of Einstein equation in vacuum: "
   ]
  },
  {
   "cell_type": "code",
   "execution_count": 10,
   "metadata": {},
   "outputs": [
    {
     "data": {
      "text/html": [
       "<html><script type=\"math/tex; mode=display\">\\newcommand{\\Bold}[1]{\\mathbf{#1}}\\mathrm{Ric}\\left(g\\right) = 0</script></html>"
      ],
      "text/plain": [
       "Ric(g) = 0"
      ]
     },
     "execution_count": 10,
     "metadata": {},
     "output_type": "execute_result"
    }
   ],
   "source": [
    "g.ricci().display()"
   ]
  },
  {
   "cell_type": "markdown",
   "metadata": {},
   "source": [
    "## The scalar field $u$ defining the horizon"
   ]
  },
  {
   "cell_type": "code",
   "execution_count": 11,
   "metadata": {},
   "outputs": [
    {
     "data": {
      "text/html": [
       "<html><script type=\"math/tex; mode=display\">\\newcommand{\\Bold}[1]{\\mathbf{#1}}\\begin{array}{llcl} u:& M & \\longrightarrow & \\mathbb{R} \\\\ & \\left(t, r, {\\theta}, {\\phi}\\right) & \\longmapsto & -\\frac{1}{2} \\, {\\left(\\frac{r}{m} - 2\\right)} e^{\\left(\\frac{r - t}{4 \\, m}\\right)} \\end{array}</script></html>"
      ],
      "text/plain": [
       "u: M --> R\n",
       "   (t, r, th, ph) |--> -1/2*(r/m - 2)*e^(1/4*(r - t)/m)"
      ]
     },
     "execution_count": 11,
     "metadata": {},
     "output_type": "execute_result"
    }
   ],
   "source": [
    "u = M.scalar_field(coord_expression={X: (1-r/(2*m))*exp((r-t)/(4*m))}, name='u')\n",
    "u.display()                                     "
   ]
  },
  {
   "cell_type": "code",
   "execution_count": 12,
   "metadata": {},
   "outputs": [
    {
     "data": {
      "image/png": "[encoded data removed]",
      "text/plain": [
       "Graphics object consisting of 10 graphics primitives"
      ]
     },
     "metadata": {},
     "output_type": "display_data"
    }
   ],
   "source": [
    "plm2 = implicit_plot(u.expr().subs(m=1)+2, (r, 0, 15), (t, -10, 15), color='green') + \\\n",
    "       text('$u=-2$', (11,12), color='green')\n",
    "plm1 = implicit_plot(u.expr().subs(m=1)+1, (r, 0, 15), (t, -10, 15), color='green') + \\\n",
    "       text('$u=-1$', (6.3,12), color='green')\n",
    "pl0 = implicit_plot(u.expr().subs(m=1), (r, 0, 15), (t, -10, 15), color='green') + \\\n",
    "       text('$u=0$', (3.1, 12), color='green') \n",
    "pl1 = implicit_plot(u.expr().subs(m=1)-1, (r, 0, 15), (t, -10, 15), color='green')  + \\\n",
    "       text('$u=1$', (0.8, 0.5), color='green') \n",
    "pl2 = implicit_plot(u.expr().subs(m=1)-2, (r, 0, 15), (t, -10, 15), color='green')  + \\\n",
    "       text('$u=2$', (-0.2, -2.5), color='green', background_color='white') \n",
    "graph = plm2+plm1+pl0+pl1+pl2\n",
    "show(graph, aspect_ratio=True, axes_labels=[r'$r/m$', r'$t/m$'],)"
   ]
  },
  {
   "cell_type": "code",
   "execution_count": 13,
   "metadata": {},
   "outputs": [],
   "source": [
    "graph.save('def_Schwarz_Hu.pdf', aspect_ratio=True, axes_labels=[r'$r/m$', r'$t/m$'])"
   ]
  },
  {
   "cell_type": "code",
   "execution_count": 14,
   "metadata": {},
   "outputs": [
    {
     "name": "stdout",
     "output_type": "stream",
     "text": [
      "1-form du on the 4-dimensional Lorentzian manifold M\n"
     ]
    },
    {
     "data": {
      "text/html": [
       "<html><script type=\"math/tex; mode=display\">\\newcommand{\\Bold}[1]{\\mathbf{#1}}\\mathrm{d}u = -\\frac{{\\left(2 \\, m - r\\right)} e^{\\left(\\frac{r}{4 \\, m} - \\frac{t}{4 \\, m}\\right)}}{8 \\, m^{2}} \\mathrm{d} t -\\frac{{\\left(2 \\, m + r\\right)} e^{\\left(\\frac{r}{4 \\, m} - \\frac{t}{4 \\, m}\\right)}}{8 \\, m^{2}} \\mathrm{d} r</script></html>"
      ],
      "text/plain": [
       "du = -1/8*(2*m - r)*e^(1/4*r/m - 1/4*t/m)/m^2 dt - 1/8*(2*m + r)*e^(1/4*r/m - 1/4*t/m)/m^2 dr"
      ]
     },
     "execution_count": 14,
     "metadata": {},
     "output_type": "execute_result"
    }
   ],
   "source": [
    "du = u.differential()\n",
    "print du\n",
    "du.display()"
   ]
  },
  {
   "cell_type": "code",
   "execution_count": 15,
   "metadata": {
    "scrolled": true
   },
   "outputs": [
    {
     "name": "stdout",
     "output_type": "stream",
     "text": [
      "Vector field on the 4-dimensional Lorentzian manifold M\n"
     ]
    },
    {
     "data": {
      "text/html": [
       "<html><script type=\"math/tex; mode=display\">\\newcommand{\\Bold}[1]{\\mathbf{#1}}-\\frac{{\\left(2 \\, m + r\\right)} e^{\\left(\\frac{r}{4 \\, m} - \\frac{t}{4 \\, m}\\right)}}{8 \\, m^{2}} \\frac{\\partial}{\\partial t } + \\frac{{\\left(2 \\, m - r\\right)} e^{\\left(\\frac{r}{4 \\, m} - \\frac{t}{4 \\, m}\\right)}}{8 \\, m^{2}} \\frac{\\partial}{\\partial r }</script></html>"
      ],
      "text/plain": [
       "-1/8*(2*m + r)*e^(1/4*r/m - 1/4*t/m)/m^2 d/dt + 1/8*(2*m - r)*e^(1/4*r/m - 1/4*t/m)/m^2 d/dr"
      ]
     },
     "execution_count": 15,
     "metadata": {},
     "output_type": "execute_result"
    }
   ],
   "source": [
    "grad_u = du.up(g)\n",
    "print grad_u\n",
    "grad_u.display()"
   ]
  },
  {
   "cell_type": "markdown",
   "metadata": {},
   "source": [
    "Let us check that each hypersurface $u={\\rm const}$ is a null hypersurface:"
   ]
  },
  {
   "cell_type": "code",
   "execution_count": 16,
   "metadata": {},
   "outputs": [
    {
     "data": {
      "text/html": [
       "<html><script type=\"math/tex; mode=display\">\\newcommand{\\Bold}[1]{\\mathbf{#1}}0</script></html>"
      ],
      "text/plain": [
       "0"
      ]
     },
     "execution_count": 16,
     "metadata": {},
     "output_type": "execute_result"
    }
   ],
   "source": [
    "g(grad_u, grad_u).expr()"
   ]
  },
  {
   "cell_type": "markdown",
   "metadata": {},
   "source": [
    "## The null normal $\\ell$"
   ]
  },
  {
   "cell_type": "code",
   "execution_count": 17,
   "metadata": {},
   "outputs": [
    {
     "name": "stdout",
     "output_type": "stream",
     "text": [
      "Scalar field on the 4-dimensional Lorentzian manifold M\n"
     ]
    },
    {
     "data": {
      "text/html": [
       "<html><script type=\"math/tex; mode=display\">\\newcommand{\\Bold}[1]{\\mathbf{#1}}\\begin{array}{llcl} & M & \\longrightarrow & \\mathbb{R} \\\\ & \\left(t, r, {\\theta}, {\\phi}\\right) & \\longmapsto & \\frac{12 \\, m \\log\\left(2\\right) - 4 \\, m \\log\\left(2 \\, m + r\\right) + 8 \\, m \\log\\left(m\\right) - r + t}{4 \\, m} \\end{array}</script></html>"
      ],
      "text/plain": [
       "M --> R\n",
       "(t, r, th, ph) |--> 1/4*(12*m*log(2) - 4*m*log(2*m + r) + 8*m*log(m) - r + t)/m"
      ]
     },
     "execution_count": 17,
     "metadata": {},
     "output_type": "execute_result"
    }
   ],
   "source": [
    "rho = - log(-grad_u[[0]])\n",
    "print rho\n",
    "rho.display()"
   ]
  },
  {
   "cell_type": "code",
   "execution_count": 18,
   "metadata": {},
   "outputs": [
    {
     "name": "stdout",
     "output_type": "stream",
     "text": [
      "Vector field l on the 4-dimensional Lorentzian manifold M\n"
     ]
    },
    {
     "data": {
      "text/html": [
       "<html><script type=\"math/tex; mode=display\">\\newcommand{\\Bold}[1]{\\mathbf{#1}}\\ell = \\frac{\\partial}{\\partial t } + \\left( -\\frac{2 \\, m - r}{2 \\, m + r} \\right) \\frac{\\partial}{\\partial r }</script></html>"
      ],
      "text/plain": [
       "l = d/dt - (2*m - r)/(2*m + r) d/dr"
      ]
     },
     "execution_count": 18,
     "metadata": {},
     "output_type": "execute_result"
    }
   ],
   "source": [
    "l = - exp(rho) * grad_u\n",
    "l.set_name('l', latex_name=r'\\ell')\n",
    "print l\n",
    "l.display()"
   ]
  },
  {
   "cell_type": "code",
   "execution_count": 19,
   "metadata": {},
   "outputs": [
    {
     "data": {
      "image/png": "[encoded data removed]",
      "text/plain": [
       "Graphics object consisting of 81 graphics primitives"
      ]
     },
     "metadata": {},
     "output_type": "display_data"
    }
   ],
   "source": [
    "graph_l = l.plot(ambient_coords=(r,t), ranges={r:(0.01,8), t:(0,8)}, \n",
    "                 fixed_coords={th:pi/2, ph:pi}, parameters={m:1}, color='green', \n",
    "                 scale=0.8, aspect_ratio=1)\n",
    "show(graph_l)"
   ]
  },
  {
   "cell_type": "markdown",
   "metadata": {},
   "source": [
    "Let us check that $\\ell$ is a null vector everywhere:"
   ]
  },
  {
   "cell_type": "code",
   "execution_count": 20,
   "metadata": {},
   "outputs": [
    {
     "data": {
      "text/html": [
       "<html><script type=\"math/tex; mode=display\">\\newcommand{\\Bold}[1]{\\mathbf{#1}}0</script></html>"
      ],
      "text/plain": [
       "0"
      ]
     },
     "execution_count": 20,
     "metadata": {},
     "output_type": "execute_result"
    }
   ],
   "source": [
    "g(l,l).expr()"
   ]
  },
  {
   "cell_type": "code",
   "execution_count": 21,
   "metadata": {},
   "outputs": [
    {
     "name": "stdout",
     "output_type": "stream",
     "text": [
      "1-form lf on the 4-dimensional Lorentzian manifold M\n"
     ]
    },
    {
     "data": {
      "text/html": [
       "<html><script type=\"math/tex; mode=display\">\\newcommand{\\Bold}[1]{\\mathbf{#1}}\\underline{\\ell} = \\left( \\frac{2 \\, m - r}{2 \\, m + r} \\right) \\mathrm{d} t +\\mathrm{d} r</script></html>"
      ],
      "text/plain": [
       "lf = (2*m - r)/(2*m + r) dt + dr"
      ]
     },
     "execution_count": 21,
     "metadata": {},
     "output_type": "execute_result"
    }
   ],
   "source": [
    "l_form = l.down(g)\n",
    "l_form.set_name('lf', latex_name=r'\\underline{\\ell}')\n",
    "print l_form\n",
    "l_form.display()"
   ]
  },
  {
   "cell_type": "code",
   "execution_count": 22,
   "metadata": {},
   "outputs": [
    {
     "name": "stdout",
     "output_type": "stream",
     "text": [
      "Levi-Civita connection nabla_g associated with the Lorentzian metric g on the 4-dimensional Lorentzian manifold M\n"
     ]
    },
    {
     "data": {
      "text/html": [
       "<html><script type=\"math/tex; mode=display\">\\newcommand{\\Bold}[1]{\\mathbf{#1}}\\nabla_{g}</script></html>"
      ],
      "text/plain": [
       "Levi-Civita connection nabla_g associated with the Lorentzian metric g on the 4-dimensional Lorentzian manifold M"
      ]
     },
     "execution_count": 22,
     "metadata": {},
     "output_type": "execute_result"
    }
   ],
   "source": [
    "nab = g.connection()\n",
    "print nab\n",
    "nab"
   ]
  },
  {
   "cell_type": "code",
   "execution_count": 23,
   "metadata": {},
   "outputs": [
    {
     "data": {
      "text/html": [
       "<html><script type=\"math/tex; mode=display\">\\newcommand{\\Bold}[1]{\\mathbf{#1}}\\nabla_{g} \\underline{\\ell} = \\left( \\frac{2 \\, m^{2} - m r}{2 \\, m r^{2} + r^{3}} \\right) \\mathrm{d} t\\otimes \\mathrm{d} t + \\left( \\frac{4 \\, m^{3} + 4 \\, m^{2} r - 3 \\, m r^{2}}{4 \\, m^{2} r^{2} + 4 \\, m r^{3} + r^{4}} \\right) \\mathrm{d} t\\otimes \\mathrm{d} r + \\frac{m}{r^{2}} \\mathrm{d} r\\otimes \\mathrm{d} t + \\left( \\frac{2 \\, m^{2} + 3 \\, m r}{2 \\, m r^{2} + r^{3}} \\right) \\mathrm{d} r\\otimes \\mathrm{d} r + \\left( -\\frac{2 \\, m r - r^{2}}{2 \\, m + r} \\right) \\mathrm{d} {\\theta}\\otimes \\mathrm{d} {\\theta} + \\left( -\\frac{{\\left(2 \\, m r - r^{2}\\right)} \\sin\\left({\\theta}\\right)^{2}}{2 \\, m + r} \\right) \\mathrm{d} {\\phi}\\otimes \\mathrm{d} {\\phi}</script></html>"
      ],
      "text/plain": [
       "nabla_g(lf) = (2*m^2 - m*r)/(2*m*r^2 + r^3) dt*dt + (4*m^3 + 4*m^2*r - 3*m*r^2)/(4*m^2*r^2 + 4*m*r^3 + r^4) dt*dr + m/r^2 dr*dt + (2*m^2 + 3*m*r)/(2*m*r^2 + r^3) dr*dr - (2*m*r - r^2)/(2*m + r) dth*dth - (2*m*r - r^2)*sin(th)^2/(2*m + r) dph*dph"
      ]
     },
     "execution_count": 23,
     "metadata": {},
     "output_type": "execute_result"
    }
   ],
   "source": [
    "nab_l_form = nab(l_form)\n",
    "nab_l_form.display()"
   ]
  },
  {
   "cell_type": "code",
   "execution_count": 24,
   "metadata": {},
   "outputs": [
    {
     "data": {
      "text/html": [
       "<html><script type=\"math/tex; mode=display\">\\newcommand{\\Bold}[1]{\\mathbf{#1}}\\left( \\frac{2 \\, m^{2} - m r}{2 \\, m r^{2} + r^{3}} \\right) \\mathrm{d} t\\otimes \\mathrm{d} t + \\left( \\frac{4 \\, m^{3} + 4 \\, m^{2} r - m r^{2}}{4 \\, m^{2} r^{2} + 4 \\, m r^{3} + r^{4}} \\right) \\mathrm{d} t\\otimes \\mathrm{d} r + \\left( \\frac{4 \\, m^{3} + 4 \\, m^{2} r - m r^{2}}{4 \\, m^{2} r^{2} + 4 \\, m r^{3} + r^{4}} \\right) \\mathrm{d} r\\otimes \\mathrm{d} t + \\left( \\frac{2 \\, m^{2} + 3 \\, m r}{2 \\, m r^{2} + r^{3}} \\right) \\mathrm{d} r\\otimes \\mathrm{d} r + \\left( -\\frac{2 \\, m r - r^{2}}{2 \\, m + r} \\right) \\mathrm{d} {\\theta}\\otimes \\mathrm{d} {\\theta} + \\left( -\\frac{{\\left(2 \\, m r - r^{2}\\right)} \\sin\\left({\\theta}\\right)^{2}}{2 \\, m + r} \\right) \\mathrm{d} {\\phi}\\otimes \\mathrm{d} {\\phi}</script></html>"
      ],
      "text/plain": [
       "(2*m^2 - m*r)/(2*m*r^2 + r^3) dt*dt + (4*m^3 + 4*m^2*r - m*r^2)/(4*m^2*r^2 + 4*m*r^3 + r^4) dt*dr + (4*m^3 + 4*m^2*r - m*r^2)/(4*m^2*r^2 + 4*m*r^3 + r^4) dr*dt + (2*m^2 + 3*m*r)/(2*m*r^2 + r^3) dr*dr - (2*m*r - r^2)/(2*m + r) dth*dth - (2*m*r - r^2)*sin(th)^2/(2*m + r) dph*dph"
      ]
     },
     "execution_count": 24,
     "metadata": {},
     "output_type": "execute_result"
    }
   ],
   "source": [
    "nab_l_form.symmetrize().display()"
   ]
  },
  {
   "cell_type": "markdown",
   "metadata": {},
   "source": [
    "Check of the identity $\\ell^\\mu \\nabla_\\alpha \\ell_\\mu=0$:"
   ]
  },
  {
   "cell_type": "code",
   "execution_count": 25,
   "metadata": {},
   "outputs": [
    {
     "data": {
      "text/html": [
       "<html><script type=\"math/tex; mode=display\">\\newcommand{\\Bold}[1]{\\mathbf{#1}}0</script></html>"
      ],
      "text/plain": [
       "0"
      ]
     },
     "execution_count": 25,
     "metadata": {},
     "output_type": "execute_result"
    }
   ],
   "source": [
    "v = l.contract(nab_l_form, 0)\n",
    "v.display()"
   ]
  },
  {
   "cell_type": "markdown",
   "metadata": {},
   "source": [
    "## The null normal as a pregeodesic vector field"
   ]
  },
  {
   "cell_type": "code",
   "execution_count": 26,
   "metadata": {},
   "outputs": [
    {
     "data": {
      "text/html": [
       "<html><script type=\"math/tex; mode=display\">\\newcommand{\\Bold}[1]{\\mathbf{#1}}\\left(\\begin{array}{rrrr}\n",
       "\\frac{m}{r^{2}} & \\frac{2 \\, m^{2} + 3 \\, m r}{2 \\, m r^{2} + r^{3}} & 0 & 0 \\\\\n",
       "-\\frac{2 \\, m^{2} - m r}{2 \\, m r^{2} + r^{3}} & -\\frac{4 \\, m^{3} + 4 \\, m^{2} r - 3 \\, m r^{2}}{4 \\, m^{2} r^{2} + 4 \\, m r^{3} + r^{4}} & 0 & 0 \\\\\n",
       "0 & 0 & -\\frac{2 \\, m - r}{2 \\, m r + r^{2}} & 0 \\\\\n",
       "0 & 0 & 0 & -\\frac{2 \\, m - r}{2 \\, m r + r^{2}}\n",
       "\\end{array}\\right)</script></html>"
      ],
      "text/plain": [
       "[                                                   m/r^2                          (2*m^2 + 3*m*r)/(2*m*r^2 + r^3)                                                        0                                                        0]\n",
       "[                          -(2*m^2 - m*r)/(2*m*r^2 + r^3) -(4*m^3 + 4*m^2*r - 3*m*r^2)/(4*m^2*r^2 + 4*m*r^3 + r^4)                                                        0                                                        0]\n",
       "[                                                       0                                                        0                                 -(2*m - r)/(2*m*r + r^2)                                                        0]\n",
       "[                                                       0                                                        0                                                        0                                 -(2*m - r)/(2*m*r + r^2)]"
      ]
     },
     "execution_count": 26,
     "metadata": {},
     "output_type": "execute_result"
    }
   ],
   "source": [
    "nab_l = nab(l)\n",
    "nab_l[:]"
   ]
  },
  {
   "cell_type": "code",
   "execution_count": 27,
   "metadata": {},
   "outputs": [
    {
     "name": "stdout",
     "output_type": "stream",
     "text": [
      "Scalar field on the 4-dimensional Lorentzian manifold M\n"
     ]
    },
    {
     "data": {
      "text/html": [
       "<html><script type=\"math/tex; mode=display\">\\newcommand{\\Bold}[1]{\\mathbf{#1}}\\begin{array}{llcl} & M & \\longrightarrow & \\mathbb{R} \\\\ & \\left(t, r, {\\theta}, {\\phi}\\right) & \\longmapsto & -\\frac{2 \\, {\\left(4 \\, m^{2} - 2 \\, m r - r^{2}\\right)}}{4 \\, m^{2} r + 4 \\, m r^{2} + r^{3}} \\end{array}</script></html>"
      ],
      "text/plain": [
       "M --> R\n",
       "(t, r, th, ph) |--> -2*(4*m^2 - 2*m*r - r^2)/(4*m^2*r + 4*m*r^2 + r^3)"
      ]
     },
     "execution_count": 27,
     "metadata": {},
     "output_type": "execute_result"
    }
   ],
   "source": [
    "div_l = nab_l.trace()\n",
    "print div_l\n",
    "div_l.display()"
   ]
  },
  {
   "cell_type": "code",
   "execution_count": 28,
   "metadata": {},
   "outputs": [
    {
     "data": {
      "text/html": [
       "<html><script type=\"math/tex; mode=display\">\\newcommand{\\Bold}[1]{\\mathbf{#1}}-\\frac{2 \\, {\\left(4 \\, m^{2} - 2 \\, m r - r^{2}\\right)}}{{\\left(2 \\, m + r\\right)}^{2} r}</script></html>"
      ],
      "text/plain": [
       "-2*(4*m^2 - 2*m*r - r^2)/((2*m + r)^2*r)"
      ]
     },
     "execution_count": 28,
     "metadata": {},
     "output_type": "execute_result"
    }
   ],
   "source": [
    "div_l.expr().factor()"
   ]
  },
  {
   "cell_type": "code",
   "execution_count": 29,
   "metadata": {},
   "outputs": [
    {
     "data": {
      "text/html": [
       "<html><script type=\"math/tex; mode=display\">\\newcommand{\\Bold}[1]{\\mathbf{#1}}\\frac{1}{4 \\, m}</script></html>"
      ],
      "text/plain": [
       "1/4/m"
      ]
     },
     "execution_count": 29,
     "metadata": {},
     "output_type": "execute_result"
    }
   ],
   "source": [
    "div_l.expr().subs(r=2*m)"
   ]
  },
  {
   "cell_type": "code",
   "execution_count": 30,
   "metadata": {},
   "outputs": [
    {
     "name": "stdout",
     "output_type": "stream",
     "text": [
      "Vector field on the 4-dimensional Lorentzian manifold M\n"
     ]
    },
    {
     "data": {
      "text/html": [
       "<html><script type=\"math/tex; mode=display\">\\newcommand{\\Bold}[1]{\\mathbf{#1}}\\left( \\frac{4 \\, m}{4 \\, m^{2} + 4 \\, m r + r^{2}} \\right) \\frac{\\partial}{\\partial t } + \\left( -\\frac{4 \\, {\\left(2 \\, m^{2} - m r\\right)}}{8 \\, m^{3} + 12 \\, m^{2} r + 6 \\, m r^{2} + r^{3}} \\right) \\frac{\\partial}{\\partial r }</script></html>"
      ],
      "text/plain": [
       "4*m/(4*m^2 + 4*m*r + r^2) d/dt - 4*(2*m^2 - m*r)/(8*m^3 + 12*m^2*r + 6*m*r^2 + r^3) d/dr"
      ]
     },
     "execution_count": 30,
     "metadata": {},
     "output_type": "execute_result"
    }
   ],
   "source": [
    "acc_l = l.contract(0,nab_l,1)\n",
    "print acc_l\n",
    "acc_l.display()"
   ]
  },
  {
   "cell_type": "markdown",
   "metadata": {},
   "source": [
    "The non-affinity parameter $\\kappa$:"
   ]
  },
  {
   "cell_type": "code",
   "execution_count": 31,
   "metadata": {},
   "outputs": [
    {
     "data": {
      "text/html": [
       "<html><script type=\"math/tex; mode=display\">\\newcommand{\\Bold}[1]{\\mathbf{#1}}\\begin{array}{llcl} & M & \\longrightarrow & \\mathbb{R} \\\\ & \\left(t, r, {\\theta}, {\\phi}\\right) & \\longmapsto & \\frac{4 \\, m}{4 \\, m^{2} + 4 \\, m r + r^{2}} \\end{array}</script></html>"
      ],
      "text/plain": [
       "M --> R\n",
       "(t, r, th, ph) |--> 4*m/(4*m^2 + 4*m*r + r^2)"
      ]
     },
     "execution_count": 31,
     "metadata": {},
     "output_type": "execute_result"
    }
   ],
   "source": [
    "kappa = l(rho)\n",
    "kappa.display()"
   ]
  },
  {
   "cell_type": "markdown",
   "metadata": {},
   "source": [
    "Check of the pregeodesic equation $\\nabla_{\\ell} \\ell = \\kappa \\ell$:"
   ]
  },
  {
   "cell_type": "code",
   "execution_count": 32,
   "metadata": {},
   "outputs": [
    {
     "data": {
      "text/html": [
       "<html><script type=\"math/tex; mode=display\">\\newcommand{\\Bold}[1]{\\mathbf{#1}}\\mathrm{True}</script></html>"
      ],
      "text/plain": [
       "True"
      ]
     },
     "execution_count": 32,
     "metadata": {},
     "output_type": "execute_result"
    }
   ],
   "source": [
    "acc_l == kappa * l"
   ]
  },
  {
   "cell_type": "code",
   "execution_count": 33,
   "metadata": {},
   "outputs": [
    {
     "data": {
      "text/html": [
       "<html><script type=\"math/tex; mode=display\">\\newcommand{\\Bold}[1]{\\mathbf{#1}}\\frac{4 \\, m}{{\\left(2 \\, m + r\\right)}^{2}}</script></html>"
      ],
      "text/plain": [
       "4*m/(2*m + r)^2"
      ]
     },
     "execution_count": 33,
     "metadata": {},
     "output_type": "execute_result"
    }
   ],
   "source": [
    "kappa.expr().factor()"
   ]
  },
  {
   "cell_type": "markdown",
   "metadata": {},
   "source": [
    "Value of $\\kappa$ on the horizon:"
   ]
  },
  {
   "cell_type": "code",
   "execution_count": 34,
   "metadata": {},
   "outputs": [
    {
     "data": {
      "text/html": [
       "<html><script type=\"math/tex; mode=display\">\\newcommand{\\Bold}[1]{\\mathbf{#1}}\\frac{1}{4 \\, m}</script></html>"
      ],
      "text/plain": [
       "1/4/m"
      ]
     },
     "execution_count": 34,
     "metadata": {},
     "output_type": "execute_result"
    }
   ],
   "source": [
    "kappaH = kappa.expr().subs(r=2*m)\n",
    "kappaH"
   ]
  },
  {
   "cell_type": "markdown",
   "metadata": {},
   "source": [
    "## The complementary null vector field $k$"
   ]
  },
  {
   "cell_type": "code",
   "execution_count": 35,
   "metadata": {},
   "outputs": [
    {
     "data": {
      "text/html": [
       "<html><script type=\"math/tex; mode=display\">\\newcommand{\\Bold}[1]{\\mathbf{#1}}k = \\left( \\frac{m}{r} + \\frac{1}{2} \\right) \\frac{\\partial}{\\partial t } + \\left( -\\frac{m}{r} - \\frac{1}{2} \\right) \\frac{\\partial}{\\partial r }</script></html>"
      ],
      "text/plain": [
       "k = (m/r + 1/2) d/dt + (-m/r - 1/2) d/dr"
      ]
     },
     "execution_count": 35,
     "metadata": {},
     "output_type": "execute_result"
    }
   ],
   "source": [
    "k = M.vector_field(name='k')\n",
    "k[0] = 1/2 + m/r\n",
    "k[1] = -1/2 - m/r\n",
    "k.display()"
   ]
  },
  {
   "cell_type": "code",
   "execution_count": 36,
   "metadata": {},
   "outputs": [
    {
     "data": {
      "text/html": [
       "<html><script type=\"math/tex; mode=display\">\\newcommand{\\Bold}[1]{\\mathbf{#1}}0</script></html>"
      ],
      "text/plain": [
       "0"
      ]
     },
     "execution_count": 36,
     "metadata": {},
     "output_type": "execute_result"
    }
   ],
   "source": [
    "g(k,k).expr()"
   ]
  },
  {
   "cell_type": "code",
   "execution_count": 37,
   "metadata": {},
   "outputs": [
    {
     "data": {
      "text/html": [
       "<html><script type=\"math/tex; mode=display\">\\newcommand{\\Bold}[1]{\\mathbf{#1}}-1</script></html>"
      ],
      "text/plain": [
       "-1"
      ]
     },
     "execution_count": 37,
     "metadata": {},
     "output_type": "execute_result"
    }
   ],
   "source": [
    "g(k,l).expr()"
   ]
  },
  {
   "cell_type": "code",
   "execution_count": 38,
   "metadata": {},
   "outputs": [
    {
     "data": {
      "image/png": "[encoded data removed]",
      "text/plain": [
       "Graphics object consisting of 153 graphics primitives"
      ]
     },
     "metadata": {},
     "output_type": "display_data"
    }
   ],
   "source": [
    "graph_k = k.plot(ambient_coords=(r,t), ranges={r:(1,8), t:(0,8)}, number_values={r:8, t:9}, \n",
    "                 fixed_coords={th:pi/2, ph:pi}, parameters={m:1}, color='red', \n",
    "                 scale=0.8, aspect_ratio=1)\n",
    "graph_lk = graph_l+graph_k\n",
    "show(graph_lk)\n",
    "graph_lk.save('def_plot_lk.pdf')"
   ]
  },
  {
   "cell_type": "code",
   "execution_count": 39,
   "metadata": {},
   "outputs": [
    {
     "data": {
      "text/html": [
       "<html><script type=\"math/tex; mode=display\">\\newcommand{\\Bold}[1]{\\mathbf{#1}}\\underline{k} = \\left( -\\frac{2 \\, m + r}{2 \\, r} \\right) \\mathrm{d} t + \\left( -\\frac{2 \\, m + r}{2 \\, r} \\right) \\mathrm{d} r</script></html>"
      ],
      "text/plain": [
       "kf = -1/2*(2*m + r)/r dt - 1/2*(2*m + r)/r dr"
      ]
     },
     "execution_count": 39,
     "metadata": {},
     "output_type": "execute_result"
    }
   ],
   "source": [
    "k_form = k.down(g)\n",
    "k_form.set_name('kf', latex_name=r'\\underline{k}')\n",
    "k_form.display()"
   ]
  },
  {
   "cell_type": "markdown",
   "metadata": {},
   "source": [
    "## The 2-metric $q$\n",
    "\n",
    "We define $q = g + \\underline{\\ell}\\otimes \\underline{k} + \\underline{k}\\otimes \\underline{\\ell}$:"
   ]
  },
  {
   "cell_type": "code",
   "execution_count": 40,
   "metadata": {},
   "outputs": [
    {
     "data": {
      "text/html": [
       "<html><script type=\"math/tex; mode=display\">\\newcommand{\\Bold}[1]{\\mathbf{#1}}q = r^{2} \\mathrm{d} {\\theta}\\otimes \\mathrm{d} {\\theta} + r^{2} \\sin\\left({\\theta}\\right)^{2} \\mathrm{d} {\\phi}\\otimes \\mathrm{d} {\\phi}</script></html>"
      ],
      "text/plain": [
       "q = r^2 dth*dth + r^2*sin(th)^2 dph*dph"
      ]
     },
     "execution_count": 40,
     "metadata": {},
     "output_type": "execute_result"
    }
   ],
   "source": [
    "q = g + l_form*k_form + k_form*l_form\n",
    "q.set_name('q')\n",
    "q.display()"
   ]
  },
  {
   "cell_type": "code",
   "execution_count": 41,
   "metadata": {},
   "outputs": [
    {
     "name": "stdout",
     "output_type": "stream",
     "text": [
      "Tensor field of type (2,0) on the 4-dimensional Lorentzian manifold M\n"
     ]
    },
    {
     "data": {
      "text/html": [
       "<html><script type=\"math/tex; mode=display\">\\newcommand{\\Bold}[1]{\\mathbf{#1}}\\frac{1}{r^{2}} \\frac{\\partial}{\\partial {\\theta} }\\otimes \\frac{\\partial}{\\partial {\\theta} } + \\frac{1}{r^{2} \\sin\\left({\\theta}\\right)^{2}} \\frac{\\partial}{\\partial {\\phi} }\\otimes \\frac{\\partial}{\\partial {\\phi} }</script></html>"
      ],
      "text/plain": [
       "r^(-2) d/dth*d/dth + 1/(r^2*sin(th)^2) d/dph*d/dph"
      ]
     },
     "execution_count": 41,
     "metadata": {},
     "output_type": "execute_result"
    }
   ],
   "source": [
    "q_up = q.up(g)\n",
    "print q_up\n",
    "q_up.display()"
   ]
  },
  {
   "cell_type": "markdown",
   "metadata": {},
   "source": [
    "## Expansion along the null normal"
   ]
  },
  {
   "cell_type": "markdown",
   "metadata": {},
   "source": [
    "We compute $\\theta_{(\\ell)}$ as $\\theta_{(\\ell)} = q^{\\mu\\nu}\\nabla_\\mu \\ell_\\nu$:"
   ]
  },
  {
   "cell_type": "code",
   "execution_count": 42,
   "metadata": {},
   "outputs": [
    {
     "data": {
      "text/html": [
       "<html><script type=\"math/tex; mode=display\">\\newcommand{\\Bold}[1]{\\mathbf{#1}}-\\frac{2 \\, {\\left(2 \\, m - r\\right)}}{2 \\, m r + r^{2}}</script></html>"
      ],
      "text/plain": [
       "-2*(2*m - r)/(2*m*r + r^2)"
      ]
     },
     "execution_count": 42,
     "metadata": {},
     "output_type": "execute_result"
    }
   ],
   "source": [
    "theta = q_up.contract(0,1,nab(l_form),0,1)\n",
    "theta.expr()"
   ]
  },
  {
   "cell_type": "markdown",
   "metadata": {},
   "source": [
    "Check of the formula $\\theta_{(\\ell)} = \\nabla\\cdot\\ell - \\kappa$:"
   ]
  },
  {
   "cell_type": "code",
   "execution_count": 43,
   "metadata": {},
   "outputs": [
    {
     "data": {
      "text/html": [
       "<html><script type=\"math/tex; mode=display\">\\newcommand{\\Bold}[1]{\\mathbf{#1}}\\mathrm{True}</script></html>"
      ],
      "text/plain": [
       "True"
      ]
     },
     "execution_count": 43,
     "metadata": {},
     "output_type": "execute_result"
    }
   ],
   "source": [
    "theta == div_l - kappa"
   ]
  },
  {
   "cell_type": "markdown",
   "metadata": {},
   "source": [
    "Check of the forumla $\\theta_{(\\ell)} = \\frac{1}{2} \\mathcal{L}_{\\ell} \\ln \\det q$:"
   ]
  },
  {
   "cell_type": "code",
   "execution_count": 44,
   "metadata": {},
   "outputs": [
    {
     "data": {
      "text/html": [
       "<html><script type=\"math/tex; mode=display\">\\newcommand{\\Bold}[1]{\\mathbf{#1}}\\mathrm{True}</script></html>"
      ],
      "text/plain": [
       "True"
      ]
     },
     "execution_count": 44,
     "metadata": {},
     "output_type": "execute_result"
    }
   ],
   "source": [
    "detq = M.scalar_field({X: r^4*sin(th)^2})\n",
    "theta == 1/2*ln(detq).lie_der(l)"
   ]
  },
  {
   "cell_type": "code",
   "execution_count": 45,
   "metadata": {},
   "outputs": [
    {
     "data": {
      "text/html": [
       "<html><script type=\"math/tex; mode=display\">\\newcommand{\\Bold}[1]{\\mathbf{#1}}\\mathrm{True}</script></html>"
      ],
      "text/plain": [
       "True"
      ]
     },
     "execution_count": 45,
     "metadata": {},
     "output_type": "execute_result"
    }
   ],
   "source": [
    "theta == 1/2*l(ln(detq))"
   ]
  },
  {
   "cell_type": "markdown",
   "metadata": {},
   "source": [
    "## Deformation rate tensor of the cross-sections\n",
    "\n",
    "We compute $\\Theta$ as $\\Theta = \\frac{1}{2} \\mathcal{L}_{\\ell} q$:"
   ]
  },
  {
   "cell_type": "code",
   "execution_count": 46,
   "metadata": {},
   "outputs": [
    {
     "name": "stdout",
     "output_type": "stream",
     "text": [
      "Tensor field Theta of type (0,2) on the 4-dimensional Lorentzian manifold M\n"
     ]
    },
    {
     "data": {
      "text/html": [
       "<html><script type=\"math/tex; mode=display\">\\newcommand{\\Bold}[1]{\\mathbf{#1}}\\Theta = \\left( -\\frac{2 \\, m r - r^{2}}{2 \\, m + r} \\right) \\mathrm{d} {\\theta}\\otimes \\mathrm{d} {\\theta} + \\left( -\\frac{{\\left(2 \\, m r - r^{2}\\right)} \\sin\\left({\\theta}\\right)^{2}}{2 \\, m + r} \\right) \\mathrm{d} {\\phi}\\otimes \\mathrm{d} {\\phi}</script></html>"
      ],
      "text/plain": [
       "Theta = -(2*m*r - r^2)/(2*m + r) dth*dth - (2*m*r - r^2)*sin(th)^2/(2*m + r) dph*dph"
      ]
     },
     "execution_count": 46,
     "metadata": {},
     "output_type": "execute_result"
    }
   ],
   "source": [
    "Theta = 1/2 * q.lie_der(l)\n",
    "Theta.set_name('Theta', latex_name=r'\\Theta')\n",
    "print Theta\n",
    "Theta.display()"
   ]
  },
  {
   "cell_type": "markdown",
   "metadata": {},
   "source": [
    "## Expansion of the cross-sections along the null normal $k$:\n",
    "\n",
    "We compute $\\theta_{(k)}$ as $\\theta_{(k)} = q^{\\mu\\nu}\\nabla_\\mu k_\\nu$:"
   ]
  },
  {
   "cell_type": "code",
   "execution_count": 47,
   "metadata": {},
   "outputs": [
    {
     "data": {
      "text/html": [
       "<html><script type=\"math/tex; mode=display\">\\newcommand{\\Bold}[1]{\\mathbf{#1}}-\\frac{2 \\, m + r}{r^{2}}</script></html>"
      ],
      "text/plain": [
       "-(2*m + r)/r^2"
      ]
     },
     "execution_count": 47,
     "metadata": {},
     "output_type": "execute_result"
    }
   ],
   "source": [
    "theta_k = q_up.contract(0,1,nab(k_form),0,1)\n",
    "theta_k.expr()"
   ]
  },
  {
   "cell_type": "markdown",
   "metadata": {},
   "source": [
    "Value of $\\theta_{(k)}$ at the horizon:"
   ]
  },
  {
   "cell_type": "code",
   "execution_count": 48,
   "metadata": {},
   "outputs": [
    {
     "data": {
      "text/html": [
       "<html><script type=\"math/tex; mode=display\">\\newcommand{\\Bold}[1]{\\mathbf{#1}}-\\frac{1}{m}</script></html>"
      ],
      "text/plain": [
       "-1/m"
      ]
     },
     "execution_count": 48,
     "metadata": {},
     "output_type": "execute_result"
    }
   ],
   "source": [
    "theta_k.expr().subs(r=2*m)"
   ]
  },
  {
   "cell_type": "code",
   "execution_count": null,
   "metadata": {},
   "outputs": [],
   "source": []
  }
 ],
 "metadata": {
  "kernelspec": {
   "display_name": "SageMath 8.3.beta4",
   "language": "",
   "name": "sagemath"
  },
  "language_info": {
   "codemirror_mode": {
    "name": "ipython",
    "version": 2
   },
   "file_extension": ".py",
   "mimetype": "text/x-python",
   "name": "python",
   "nbconvert_exporter": "python",
   "pygments_lexer": "ipython2",
   "version": "2.7.15"
  }
 },
 "nbformat": 4,
 "nbformat_minor": 1
}
