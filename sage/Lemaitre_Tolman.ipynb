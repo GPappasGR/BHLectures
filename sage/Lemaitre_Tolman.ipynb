{
 "cells": [
  {
   "cell_type": "code",
   "execution_count": 1,
   "metadata": {
    "collapsed": true
   },
   "outputs": [],
   "source": [
    "%display latex"
   ]
  },
  {
   "cell_type": "code",
   "execution_count": 2,
   "metadata": {
    "collapsed": false
   },
   "outputs": [
    {
     "name": "stdout",
     "output_type": "stream",
     "text": [
      "4-dimensional differentiable manifold M\n"
     ]
    }
   ],
   "source": [
    "M = Manifold(4, 'M')\n",
    "print(M)"
   ]
  },
  {
   "cell_type": "code",
   "execution_count": 3,
   "metadata": {
    "collapsed": false
   },
   "outputs": [
    {
     "data": {
      "text/html": [
       "<html><script type=\"math/tex; mode=display\">\\newcommand{\\Bold}[1]{\\mathbf{#1}}\\left(M,({\\tau}, {\\chi}, {\\theta}, {\\phi})\\right)</script></html>"
      ],
      "text/plain": [
       "Chart (M, (t, x, th, ph))"
      ]
     },
     "execution_count": 3,
     "metadata": {},
     "output_type": "execute_result"
    }
   ],
   "source": [
    "X.<t,x,th,ph> = M.chart(r't:\\tau x:(0,+oo):\\chi th:(0,pi):\\theta ph:(0,2*pi):\\phi')\n",
    "X"
   ]
  },
  {
   "cell_type": "code",
   "execution_count": 4,
   "metadata": {
    "collapsed": false
   },
   "outputs": [
    {
     "data": {
      "text/html": [
       "<html><script type=\"math/tex; mode=display\">\\newcommand{\\Bold}[1]{\\mathbf{#1}}g = -\\mathrm{d} {\\tau}\\otimes \\mathrm{d} {\\tau} + a\\left({\\tau}, {\\chi}\\right)^{2} \\mathrm{d} {\\chi}\\otimes \\mathrm{d} {\\chi} + r\\left({\\tau}, {\\chi}\\right)^{2} \\mathrm{d} {\\theta}\\otimes \\mathrm{d} {\\theta} + r\\left({\\tau}, {\\chi}\\right)^{2} \\sin\\left({\\theta}\\right)^{2} \\mathrm{d} {\\phi}\\otimes \\mathrm{d} {\\phi}</script></html>"
      ],
      "text/plain": [
       "g = -dt*dt + a(t, x)^2 dx*dx + r(t, x)^2 dth*dth + r(t, x)^2*sin(th)^2 dph*dph"
      ]
     },
     "execution_count": 4,
     "metadata": {},
     "output_type": "execute_result"
    }
   ],
   "source": [
    "g = M.lorentzian_metric('g')\n",
    "a = function('a')\n",
    "r = function('r')\n",
    "g[0,0] = -1\n",
    "g[1,1] = a(t,x)^2\n",
    "g[2,2] = r(t,x)^2\n",
    "g[3,3] = (r(t,x)*sin(th))^2\n",
    "g.display()"
   ]
  },
  {
   "cell_type": "code",
   "execution_count": 5,
   "metadata": {
    "collapsed": false
   },
   "outputs": [
    {
     "name": "stdout",
     "output_type": "stream",
     "text": [
      "Field of symmetric bilinear forms Ric(g) on the 4-dimensional differentiable manifold M\n"
     ]
    }
   ],
   "source": [
    "Ric = g.ricci()\n",
    "print(Ric)"
   ]
  },
  {
   "cell_type": "code",
   "execution_count": 6,
   "metadata": {
    "collapsed": false
   },
   "outputs": [
    {
     "data": {
      "text/html": [
       "<html><script type=\"math/tex; mode=display\">\\newcommand{\\Bold}[1]{\\mathbf{#1}}\\mathrm{Ric}\\left(g\\right) = \\left( -\\frac{r\\left({\\tau}, {\\chi}\\right) \\frac{\\partial^2\\,a}{\\partial {\\tau} ^ 2} + 2 \\, a\\left({\\tau}, {\\chi}\\right) \\frac{\\partial^2\\,r}{\\partial {\\tau} ^ 2}}{a\\left({\\tau}, {\\chi}\\right) r\\left({\\tau}, {\\chi}\\right)} \\right) \\mathrm{d} {\\tau}\\otimes \\mathrm{d} {\\tau} -\\frac{2 \\, {\\left(a\\left({\\tau}, {\\chi}\\right) \\frac{\\partial^2\\,r}{\\partial {\\tau}\\partial {\\chi}} - \\frac{\\partial\\,a}{\\partial {\\tau}} \\frac{\\partial\\,r}{\\partial {\\chi}}\\right)}}{a\\left({\\tau}, {\\chi}\\right) r\\left({\\tau}, {\\chi}\\right)} \\mathrm{d} {\\tau}\\otimes \\mathrm{d} {\\chi} -\\frac{2 \\, {\\left(a\\left({\\tau}, {\\chi}\\right) \\frac{\\partial^2\\,r}{\\partial {\\tau}\\partial {\\chi}} - \\frac{\\partial\\,a}{\\partial {\\tau}} \\frac{\\partial\\,r}{\\partial {\\chi}}\\right)}}{a\\left({\\tau}, {\\chi}\\right) r\\left({\\tau}, {\\chi}\\right)} \\mathrm{d} {\\chi}\\otimes \\mathrm{d} {\\tau} + \\left( \\frac{a\\left({\\tau}, {\\chi}\\right)^{2} r\\left({\\tau}, {\\chi}\\right) \\frac{\\partial^2\\,a}{\\partial {\\tau} ^ 2} + 2 \\, a\\left({\\tau}, {\\chi}\\right)^{2} \\frac{\\partial\\,a}{\\partial {\\tau}} \\frac{\\partial\\,r}{\\partial {\\tau}} + 2 \\, \\frac{\\partial\\,a}{\\partial {\\chi}} \\frac{\\partial\\,r}{\\partial {\\chi}} - 2 \\, a\\left({\\tau}, {\\chi}\\right) \\frac{\\partial^2\\,r}{\\partial {\\chi} ^ 2}}{a\\left({\\tau}, {\\chi}\\right) r\\left({\\tau}, {\\chi}\\right)} \\right) \\mathrm{d} {\\chi}\\otimes \\mathrm{d} {\\chi} + \\left( \\frac{a\\left({\\tau}, {\\chi}\\right)^{2} r\\left({\\tau}, {\\chi}\\right) \\frac{\\partial\\,a}{\\partial {\\tau}} \\frac{\\partial\\,r}{\\partial {\\tau}} + a\\left({\\tau}, {\\chi}\\right)^{3} \\frac{\\partial\\,r}{\\partial {\\tau}}^{2} + a\\left({\\tau}, {\\chi}\\right)^{3} r\\left({\\tau}, {\\chi}\\right) \\frac{\\partial^2\\,r}{\\partial {\\tau} ^ 2} + a\\left({\\tau}, {\\chi}\\right)^{3} + r\\left({\\tau}, {\\chi}\\right) \\frac{\\partial\\,a}{\\partial {\\chi}} \\frac{\\partial\\,r}{\\partial {\\chi}} - a\\left({\\tau}, {\\chi}\\right) \\frac{\\partial\\,r}{\\partial {\\chi}}^{2} - a\\left({\\tau}, {\\chi}\\right) r\\left({\\tau}, {\\chi}\\right) \\frac{\\partial^2\\,r}{\\partial {\\chi} ^ 2}}{a\\left({\\tau}, {\\chi}\\right)^{3}} \\right) \\mathrm{d} {\\theta}\\otimes \\mathrm{d} {\\theta} + \\frac{{\\left(a\\left({\\tau}, {\\chi}\\right)^{2} r\\left({\\tau}, {\\chi}\\right) \\frac{\\partial\\,a}{\\partial {\\tau}} \\frac{\\partial\\,r}{\\partial {\\tau}} + a\\left({\\tau}, {\\chi}\\right)^{3} \\frac{\\partial\\,r}{\\partial {\\tau}}^{2} + a\\left({\\tau}, {\\chi}\\right)^{3} r\\left({\\tau}, {\\chi}\\right) \\frac{\\partial^2\\,r}{\\partial {\\tau} ^ 2} + a\\left({\\tau}, {\\chi}\\right)^{3} + r\\left({\\tau}, {\\chi}\\right) \\frac{\\partial\\,a}{\\partial {\\chi}} \\frac{\\partial\\,r}{\\partial {\\chi}} - a\\left({\\tau}, {\\chi}\\right) \\frac{\\partial\\,r}{\\partial {\\chi}}^{2} - a\\left({\\tau}, {\\chi}\\right) r\\left({\\tau}, {\\chi}\\right) \\frac{\\partial^2\\,r}{\\partial {\\chi} ^ 2}\\right)} \\sin\\left({\\theta}\\right)^{2}}{a\\left({\\tau}, {\\chi}\\right)^{3}} \\mathrm{d} {\\phi}\\otimes \\mathrm{d} {\\phi}</script></html>"
      ],
      "text/plain": [
       "Ric(g) = -(r(t, x)*d^2(a)/dt^2 + 2*a(t, x)*d^2(r)/dt^2)/(a(t, x)*r(t, x)) dt*dt - 2*(a(t, x)*d^2(r)/dtdx - d(a)/dt*d(r)/dx)/(a(t, x)*r(t, x)) dt*dx - 2*(a(t, x)*d^2(r)/dtdx - d(a)/dt*d(r)/dx)/(a(t, x)*r(t, x)) dx*dt + (a(t, x)^2*r(t, x)*d^2(a)/dt^2 + 2*a(t, x)^2*d(a)/dt*d(r)/dt + 2*d(a)/dx*d(r)/dx - 2*a(t, x)*d^2(r)/dx^2)/(a(t, x)*r(t, x)) dx*dx + (a(t, x)^2*r(t, x)*d(a)/dt*d(r)/dt + a(t, x)^3*d(r)/dt^2 + a(t, x)^3*r(t, x)*d^2(r)/dt^2 + a(t, x)^3 + r(t, x)*d(a)/dx*d(r)/dx - a(t, x)*d(r)/dx^2 - a(t, x)*r(t, x)*d^2(r)/dx^2)/a(t, x)^3 dth*dth + (a(t, x)^2*r(t, x)*d(a)/dt*d(r)/dt + a(t, x)^3*d(r)/dt^2 + a(t, x)^3*r(t, x)*d^2(r)/dt^2 + a(t, x)^3 + r(t, x)*d(a)/dx*d(r)/dx - a(t, x)*d(r)/dx^2 - a(t, x)*r(t, x)*d^2(r)/dx^2)*sin(th)^2/a(t, x)^3 dph*dph"
      ]
     },
     "execution_count": 6,
     "metadata": {},
     "output_type": "execute_result"
    }
   ],
   "source": [
    "Ric.display()"
   ]
  },
  {
   "cell_type": "code",
   "execution_count": 7,
   "metadata": {
    "collapsed": false
   },
   "outputs": [
    {
     "name": "stdout",
     "output_type": "stream",
     "text": [
      "Field of symmetric bilinear forms G on the 4-dimensional differentiable manifold M\n"
     ]
    }
   ],
   "source": [
    "G = Ric - 1/2*g.ricci_scalar() * g\n",
    "G.set_name('G')\n",
    "print(G)"
   ]
  },
  {
   "cell_type": "code",
   "execution_count": 9,
   "metadata": {
    "collapsed": false
   },
   "outputs": [
    {
     "data": {
      "text/html": [
       "<html><script type=\"math/tex; mode=display\">\\newcommand{\\Bold}[1]{\\mathbf{#1}}\\begin{array}{lcl} G_{ \\, {\\tau} \\, {\\tau} }^{ \\phantom{\\, {\\tau}}\\phantom{\\, {\\tau}} } & = & \\frac{2 \\, a\\left({\\tau}, {\\chi}\\right)^{2} r\\left({\\tau}, {\\chi}\\right) \\frac{\\partial\\,a}{\\partial {\\tau}} \\frac{\\partial\\,r}{\\partial {\\tau}} + a\\left({\\tau}, {\\chi}\\right)^{3} \\frac{\\partial\\,r}{\\partial {\\tau}}^{2} + a\\left({\\tau}, {\\chi}\\right)^{3} + 2 \\, r\\left({\\tau}, {\\chi}\\right) \\frac{\\partial\\,a}{\\partial {\\chi}} \\frac{\\partial\\,r}{\\partial {\\chi}} - a\\left({\\tau}, {\\chi}\\right) \\frac{\\partial\\,r}{\\partial {\\chi}}^{2} - 2 \\, a\\left({\\tau}, {\\chi}\\right) r\\left({\\tau}, {\\chi}\\right) \\frac{\\partial^2\\,r}{\\partial {\\chi} ^ 2}}{a\\left({\\tau}, {\\chi}\\right)^{3} r\\left({\\tau}, {\\chi}\\right)^{2}} \\\\ G_{ \\, {\\tau} \\, {\\chi} }^{ \\phantom{\\, {\\tau}}\\phantom{\\, {\\chi}} } & = & -\\frac{2 \\, {\\left(a\\left({\\tau}, {\\chi}\\right) \\frac{\\partial^2\\,r}{\\partial {\\tau}\\partial {\\chi}} - \\frac{\\partial\\,a}{\\partial {\\tau}} \\frac{\\partial\\,r}{\\partial {\\chi}}\\right)}}{a\\left({\\tau}, {\\chi}\\right) r\\left({\\tau}, {\\chi}\\right)} \\\\ G_{ \\, {\\chi} \\, {\\tau} }^{ \\phantom{\\, {\\chi}}\\phantom{\\, {\\tau}} } & = & -\\frac{2 \\, {\\left(a\\left({\\tau}, {\\chi}\\right) \\frac{\\partial^2\\,r}{\\partial {\\tau}\\partial {\\chi}} - \\frac{\\partial\\,a}{\\partial {\\tau}} \\frac{\\partial\\,r}{\\partial {\\chi}}\\right)}}{a\\left({\\tau}, {\\chi}\\right) r\\left({\\tau}, {\\chi}\\right)} \\\\ G_{ \\, {\\chi} \\, {\\chi} }^{ \\phantom{\\, {\\chi}}\\phantom{\\, {\\chi}} } & = & -\\frac{a\\left({\\tau}, {\\chi}\\right)^{2} \\left(\\frac{\\partial\\,r}{\\partial {\\tau}}\\right)^{2} + 2 \\, a\\left({\\tau}, {\\chi}\\right)^{2} r\\left({\\tau}, {\\chi}\\right) \\frac{\\partial^2\\,r}{\\partial {\\tau} ^ 2} + a\\left({\\tau}, {\\chi}\\right)^{2} - \\left(\\frac{\\partial\\,r}{\\partial {\\chi}}\\right)^{2}}{r\\left({\\tau}, {\\chi}\\right)^{2}} \\\\ G_{ \\, {\\theta} \\, {\\theta} }^{ \\phantom{\\, {\\theta}}\\phantom{\\, {\\theta}} } & = & -\\frac{a\\left({\\tau}, {\\chi}\\right)^{2} r\\left({\\tau}, {\\chi}\\right)^{2} \\frac{\\partial^2\\,a}{\\partial {\\tau} ^ 2} + a\\left({\\tau}, {\\chi}\\right)^{2} r\\left({\\tau}, {\\chi}\\right) \\frac{\\partial\\,a}{\\partial {\\tau}} \\frac{\\partial\\,r}{\\partial {\\tau}} + a\\left({\\tau}, {\\chi}\\right)^{3} r\\left({\\tau}, {\\chi}\\right) \\frac{\\partial^2\\,r}{\\partial {\\tau} ^ 2} + r\\left({\\tau}, {\\chi}\\right) \\frac{\\partial\\,a}{\\partial {\\chi}} \\frac{\\partial\\,r}{\\partial {\\chi}} - a\\left({\\tau}, {\\chi}\\right) r\\left({\\tau}, {\\chi}\\right) \\frac{\\partial^2\\,r}{\\partial {\\chi} ^ 2}}{a\\left({\\tau}, {\\chi}\\right)^{3}} \\\\ G_{ \\, {\\phi} \\, {\\phi} }^{ \\phantom{\\, {\\phi}}\\phantom{\\, {\\phi}} } & = & -\\frac{{\\left(a\\left({\\tau}, {\\chi}\\right)^{2} r\\left({\\tau}, {\\chi}\\right)^{2} \\frac{\\partial^2\\,a}{\\partial {\\tau} ^ 2} + a\\left({\\tau}, {\\chi}\\right)^{2} r\\left({\\tau}, {\\chi}\\right) \\frac{\\partial\\,a}{\\partial {\\tau}} \\frac{\\partial\\,r}{\\partial {\\tau}} + a\\left({\\tau}, {\\chi}\\right)^{3} r\\left({\\tau}, {\\chi}\\right) \\frac{\\partial^2\\,r}{\\partial {\\tau} ^ 2} + r\\left({\\tau}, {\\chi}\\right) \\frac{\\partial\\,a}{\\partial {\\chi}} \\frac{\\partial\\,r}{\\partial {\\chi}} - a\\left({\\tau}, {\\chi}\\right) r\\left({\\tau}, {\\chi}\\right) \\frac{\\partial^2\\,r}{\\partial {\\chi} ^ 2}\\right)} \\sin\\left({\\theta}\\right)^{2}}{a\\left({\\tau}, {\\chi}\\right)^{3}} \\end{array}</script></html>"
      ],
      "text/plain": [
       "G_t,t = (2*a(t, x)^2*r(t, x)*d(a)/dt*d(r)/dt + a(t, x)^3*d(r)/dt^2 + a(t, x)^3 + 2*r(t, x)*d(a)/dx*d(r)/dx - a(t, x)*d(r)/dx^2 - 2*a(t, x)*r(t, x)*d^2(r)/dx^2)/(a(t, x)^3*r(t, x)^2) \n",
       "G_t,x = -2*(a(t, x)*d^2(r)/dtdx - d(a)/dt*d(r)/dx)/(a(t, x)*r(t, x)) \n",
       "G_x,t = -2*(a(t, x)*d^2(r)/dtdx - d(a)/dt*d(r)/dx)/(a(t, x)*r(t, x)) \n",
       "G_x,x = -(a(t, x)^2*(d(r)/dt)^2 + 2*a(t, x)^2*r(t, x)*d^2(r)/dt^2 + a(t, x)^2 - (d(r)/dx)^2)/r(t, x)^2 \n",
       "G_th,th = -(a(t, x)^2*r(t, x)^2*d^2(a)/dt^2 + a(t, x)^2*r(t, x)*d(a)/dt*d(r)/dt + a(t, x)^3*r(t, x)*d^2(r)/dt^2 + r(t, x)*d(a)/dx*d(r)/dx - a(t, x)*r(t, x)*d^2(r)/dx^2)/a(t, x)^3 \n",
       "G_ph,ph = -(a(t, x)^2*r(t, x)^2*d^2(a)/dt^2 + a(t, x)^2*r(t, x)*d(a)/dt*d(r)/dt + a(t, x)^3*r(t, x)*d^2(r)/dt^2 + r(t, x)*d(a)/dx*d(r)/dx - a(t, x)*r(t, x)*d^2(r)/dx^2)*sin(th)^2/a(t, x)^3 "
      ]
     },
     "execution_count": 9,
     "metadata": {},
     "output_type": "execute_result"
    }
   ],
   "source": [
    "G.display_comp()"
   ]
  },
  {
   "cell_type": "code",
   "execution_count": 10,
   "metadata": {
    "collapsed": false
   },
   "outputs": [
    {
     "data": {
      "text/html": [
       "<html><script type=\"math/tex; mode=display\">\\newcommand{\\Bold}[1]{\\mathbf{#1}}u = \\frac{\\partial}{\\partial {\\tau} }</script></html>"
      ],
      "text/plain": [
       "u = d/dt"
      ]
     },
     "execution_count": 10,
     "metadata": {},
     "output_type": "execute_result"
    }
   ],
   "source": [
    "u = M.vector_field('u')\n",
    "u[0] = 1\n",
    "u.display()"
   ]
  },
  {
   "cell_type": "code",
   "execution_count": 11,
   "metadata": {
    "collapsed": false
   },
   "outputs": [
    {
     "data": {
      "text/html": [
       "<html><script type=\"math/tex; mode=display\">\\newcommand{\\Bold}[1]{\\mathbf{#1}}\\begin{array}{llcl} g\\left(u,u\\right):& M & \\longrightarrow & \\mathbb{R} \\\\ & \\left({\\tau}, {\\chi}, {\\theta}, {\\phi}\\right) & \\longmapsto & -1 \\end{array}</script></html>"
      ],
      "text/plain": [
       "g(u,u): M --> R\n",
       "   (t, x, th, ph) |--> -1"
      ]
     },
     "execution_count": 11,
     "metadata": {},
     "output_type": "execute_result"
    }
   ],
   "source": [
    "g(u,u).display()"
   ]
  },
  {
   "cell_type": "code",
   "execution_count": 12,
   "metadata": {
    "collapsed": false
   },
   "outputs": [
    {
     "name": "stdout",
     "output_type": "stream",
     "text": [
      "1-form on the 4-dimensional differentiable manifold M\n"
     ]
    }
   ],
   "source": [
    "u_form = u.down(g)\n",
    "print(u_form)"
   ]
  },
  {
   "cell_type": "code",
   "execution_count": 13,
   "metadata": {
    "collapsed": false
   },
   "outputs": [
    {
     "data": {
      "text/html": [
       "<html><script type=\"math/tex; mode=display\">\\newcommand{\\Bold}[1]{\\mathbf{#1}}-\\mathrm{d} {\\tau}</script></html>"
      ],
      "text/plain": [
       "-dt"
      ]
     },
     "execution_count": 13,
     "metadata": {},
     "output_type": "execute_result"
    }
   ],
   "source": [
    "u_form.display()"
   ]
  },
  {
   "cell_type": "code",
   "execution_count": 14,
   "metadata": {
    "collapsed": false
   },
   "outputs": [
    {
     "name": "stdout",
     "output_type": "stream",
     "text": [
      "Field of symmetric bilinear forms T on the 4-dimensional differentiable manifold M\n"
     ]
    }
   ],
   "source": [
    "rho = function('rho')\n",
    "T = rho(t,x)*(u_form * u_form)\n",
    "T.set_name('T')\n",
    "print(T)"
   ]
  },
  {
   "cell_type": "code",
   "execution_count": 15,
   "metadata": {
    "collapsed": false
   },
   "outputs": [
    {
     "data": {
      "text/html": [
       "<html><script type=\"math/tex; mode=display\">\\newcommand{\\Bold}[1]{\\mathbf{#1}}T = \\rho\\left({\\tau}, {\\chi}\\right) \\mathrm{d} {\\tau}\\otimes \\mathrm{d} {\\tau}</script></html>"
      ],
      "text/plain": [
       "T = rho(t, x) dt*dt"
      ]
     },
     "execution_count": 15,
     "metadata": {},
     "output_type": "execute_result"
    }
   ],
   "source": [
    "T.display()"
   ]
  },
  {
   "cell_type": "code",
   "execution_count": 16,
   "metadata": {
    "collapsed": false
   },
   "outputs": [
    {
     "name": "stdout",
     "output_type": "stream",
     "text": [
      "Field of symmetric bilinear forms E on the 4-dimensional differentiable manifold M\n"
     ]
    }
   ],
   "source": [
    "E = G - 8*pi*T\n",
    "E.set_name('E')\n",
    "print(E)"
   ]
  },
  {
   "cell_type": "code",
   "execution_count": 17,
   "metadata": {
    "collapsed": false
   },
   "outputs": [
    {
     "data": {
      "text/html": [
       "<html><script type=\"math/tex; mode=display\">\\newcommand{\\Bold}[1]{\\mathbf{#1}}\\begin{array}{lcl} E_{ \\, {\\tau} \\, {\\tau} }^{ \\phantom{\\, {\\tau}}\\phantom{\\, {\\tau}} } & = & -\\frac{8 \\, \\pi a\\left({\\tau}, {\\chi}\\right)^{3} r\\left({\\tau}, {\\chi}\\right)^{2} \\rho\\left({\\tau}, {\\chi}\\right) - 2 \\, a\\left({\\tau}, {\\chi}\\right)^{2} r\\left({\\tau}, {\\chi}\\right) \\frac{\\partial\\,a}{\\partial {\\tau}} \\frac{\\partial\\,r}{\\partial {\\tau}} - a\\left({\\tau}, {\\chi}\\right)^{3} \\frac{\\partial\\,r}{\\partial {\\tau}}^{2} - a\\left({\\tau}, {\\chi}\\right)^{3} - 2 \\, r\\left({\\tau}, {\\chi}\\right) \\frac{\\partial\\,a}{\\partial {\\chi}} \\frac{\\partial\\,r}{\\partial {\\chi}} + a\\left({\\tau}, {\\chi}\\right) \\frac{\\partial\\,r}{\\partial {\\chi}}^{2} + 2 \\, a\\left({\\tau}, {\\chi}\\right) r\\left({\\tau}, {\\chi}\\right) \\frac{\\partial^2\\,r}{\\partial {\\chi} ^ 2}}{a\\left({\\tau}, {\\chi}\\right)^{3} r\\left({\\tau}, {\\chi}\\right)^{2}} \\\\ E_{ \\, {\\tau} \\, {\\chi} }^{ \\phantom{\\, {\\tau}}\\phantom{\\, {\\chi}} } & = & -\\frac{2 \\, {\\left(a\\left({\\tau}, {\\chi}\\right) \\frac{\\partial^2\\,r}{\\partial {\\tau}\\partial {\\chi}} - \\frac{\\partial\\,a}{\\partial {\\tau}} \\frac{\\partial\\,r}{\\partial {\\chi}}\\right)}}{a\\left({\\tau}, {\\chi}\\right) r\\left({\\tau}, {\\chi}\\right)} \\\\ E_{ \\, {\\chi} \\, {\\tau} }^{ \\phantom{\\, {\\chi}}\\phantom{\\, {\\tau}} } & = & -\\frac{2 \\, {\\left(a\\left({\\tau}, {\\chi}\\right) \\frac{\\partial^2\\,r}{\\partial {\\tau}\\partial {\\chi}} - \\frac{\\partial\\,a}{\\partial {\\tau}} \\frac{\\partial\\,r}{\\partial {\\chi}}\\right)}}{a\\left({\\tau}, {\\chi}\\right) r\\left({\\tau}, {\\chi}\\right)} \\\\ E_{ \\, {\\chi} \\, {\\chi} }^{ \\phantom{\\, {\\chi}}\\phantom{\\, {\\chi}} } & = & -\\frac{a\\left({\\tau}, {\\chi}\\right)^{2} \\left(\\frac{\\partial\\,r}{\\partial {\\tau}}\\right)^{2} + 2 \\, a\\left({\\tau}, {\\chi}\\right)^{2} r\\left({\\tau}, {\\chi}\\right) \\frac{\\partial^2\\,r}{\\partial {\\tau} ^ 2} + a\\left({\\tau}, {\\chi}\\right)^{2} - \\left(\\frac{\\partial\\,r}{\\partial {\\chi}}\\right)^{2}}{r\\left({\\tau}, {\\chi}\\right)^{2}} \\\\ E_{ \\, {\\theta} \\, {\\theta} }^{ \\phantom{\\, {\\theta}}\\phantom{\\, {\\theta}} } & = & -\\frac{a\\left({\\tau}, {\\chi}\\right)^{2} r\\left({\\tau}, {\\chi}\\right)^{2} \\frac{\\partial^2\\,a}{\\partial {\\tau} ^ 2} + a\\left({\\tau}, {\\chi}\\right)^{2} r\\left({\\tau}, {\\chi}\\right) \\frac{\\partial\\,a}{\\partial {\\tau}} \\frac{\\partial\\,r}{\\partial {\\tau}} + a\\left({\\tau}, {\\chi}\\right)^{3} r\\left({\\tau}, {\\chi}\\right) \\frac{\\partial^2\\,r}{\\partial {\\tau} ^ 2} + r\\left({\\tau}, {\\chi}\\right) \\frac{\\partial\\,a}{\\partial {\\chi}} \\frac{\\partial\\,r}{\\partial {\\chi}} - a\\left({\\tau}, {\\chi}\\right) r\\left({\\tau}, {\\chi}\\right) \\frac{\\partial^2\\,r}{\\partial {\\chi} ^ 2}}{a\\left({\\tau}, {\\chi}\\right)^{3}} \\\\ E_{ \\, {\\phi} \\, {\\phi} }^{ \\phantom{\\, {\\phi}}\\phantom{\\, {\\phi}} } & = & -\\frac{{\\left(a\\left({\\tau}, {\\chi}\\right)^{2} r\\left({\\tau}, {\\chi}\\right)^{2} \\frac{\\partial^2\\,a}{\\partial {\\tau} ^ 2} + a\\left({\\tau}, {\\chi}\\right)^{2} r\\left({\\tau}, {\\chi}\\right) \\frac{\\partial\\,a}{\\partial {\\tau}} \\frac{\\partial\\,r}{\\partial {\\tau}} + a\\left({\\tau}, {\\chi}\\right)^{3} r\\left({\\tau}, {\\chi}\\right) \\frac{\\partial^2\\,r}{\\partial {\\tau} ^ 2} + r\\left({\\tau}, {\\chi}\\right) \\frac{\\partial\\,a}{\\partial {\\chi}} \\frac{\\partial\\,r}{\\partial {\\chi}} - a\\left({\\tau}, {\\chi}\\right) r\\left({\\tau}, {\\chi}\\right) \\frac{\\partial^2\\,r}{\\partial {\\chi} ^ 2}\\right)} \\sin\\left({\\theta}\\right)^{2}}{a\\left({\\tau}, {\\chi}\\right)^{3}} \\end{array}</script></html>"
      ],
      "text/plain": [
       "E_t,t = -(8*pi*a(t, x)^3*r(t, x)^2*rho(t, x) - 2*a(t, x)^2*r(t, x)*d(a)/dt*d(r)/dt - a(t, x)^3*d(r)/dt^2 - a(t, x)^3 - 2*r(t, x)*d(a)/dx*d(r)/dx + a(t, x)*d(r)/dx^2 + 2*a(t, x)*r(t, x)*d^2(r)/dx^2)/(a(t, x)^3*r(t, x)^2) \n",
       "E_t,x = -2*(a(t, x)*d^2(r)/dtdx - d(a)/dt*d(r)/dx)/(a(t, x)*r(t, x)) \n",
       "E_x,t = -2*(a(t, x)*d^2(r)/dtdx - d(a)/dt*d(r)/dx)/(a(t, x)*r(t, x)) \n",
       "E_x,x = -(a(t, x)^2*(d(r)/dt)^2 + 2*a(t, x)^2*r(t, x)*d^2(r)/dt^2 + a(t, x)^2 - (d(r)/dx)^2)/r(t, x)^2 \n",
       "E_th,th = -(a(t, x)^2*r(t, x)^2*d^2(a)/dt^2 + a(t, x)^2*r(t, x)*d(a)/dt*d(r)/dt + a(t, x)^3*r(t, x)*d^2(r)/dt^2 + r(t, x)*d(a)/dx*d(r)/dx - a(t, x)*r(t, x)*d^2(r)/dx^2)/a(t, x)^3 \n",
       "E_ph,ph = -(a(t, x)^2*r(t, x)^2*d^2(a)/dt^2 + a(t, x)^2*r(t, x)*d(a)/dt*d(r)/dt + a(t, x)^3*r(t, x)*d^2(r)/dt^2 + r(t, x)*d(a)/dx*d(r)/dx - a(t, x)*r(t, x)*d^2(r)/dx^2)*sin(th)^2/a(t, x)^3 "
      ]
     },
     "execution_count": 17,
     "metadata": {},
     "output_type": "execute_result"
    }
   ],
   "source": [
    "E.display_comp()"
   ]
  },
  {
   "cell_type": "code",
   "execution_count": 18,
   "metadata": {
    "collapsed": false
   },
   "outputs": [
    {
     "data": {
      "text/html": [
       "<html><script type=\"math/tex; mode=display\">\\newcommand{\\Bold}[1]{\\mathbf{#1}}-\\frac{2 \\, {\\left(a\\left({\\tau}, {\\chi}\\right) \\frac{\\partial^2\\,r}{\\partial {\\tau}\\partial {\\chi}} - \\frac{\\partial\\,a}{\\partial {\\tau}} \\frac{\\partial\\,r}{\\partial {\\chi}}\\right)}}{a\\left({\\tau}, {\\chi}\\right) r\\left({\\tau}, {\\chi}\\right)}</script></html>"
      ],
      "text/plain": [
       "-2*(a(t, x)*d^2(r)/dtdx - d(a)/dt*d(r)/dx)/(a(t, x)*r(t, x))"
      ]
     },
     "execution_count": 18,
     "metadata": {},
     "output_type": "execute_result"
    }
   ],
   "source": [
    "E[0,1]"
   ]
  },
  {
   "cell_type": "code",
   "execution_count": 29,
   "metadata": {
    "collapsed": false
   },
   "outputs": [
    {
     "data": {
      "text/html": [
       "<html><script type=\"math/tex; mode=display\">\\newcommand{\\Bold}[1]{\\mathbf{#1}}\\frac{a\\left({\\tau}, {\\chi}\\right) \\frac{\\partial^{2}}{\\partial {\\tau}\\partial {\\chi}}r\\left({\\tau}, {\\chi}\\right) - \\frac{\\partial}{\\partial {\\tau}}a\\left({\\tau}, {\\chi}\\right) \\frac{\\partial}{\\partial {\\chi}}r\\left({\\tau}, {\\chi}\\right)}{a\\left({\\tau}, {\\chi}\\right)^{2}}</script></html>"
      ],
      "text/plain": [
       "(a(t, x)*diff(r(t, x), t, x) - diff(a(t, x), t)*diff(r(t, x), x))/a(t, x)^2"
      ]
     },
     "execution_count": 29,
     "metadata": {},
     "output_type": "execute_result"
    }
   ],
   "source": [
    "eq = ( E[0,1]*r(t,x)/(-2*a(t,x)) ).expr()\n",
    "eq"
   ]
  },
  {
   "cell_type": "code",
   "execution_count": 30,
   "metadata": {
    "collapsed": false
   },
   "outputs": [
    {
     "data": {
      "text/html": [
       "<html><script type=\"math/tex; mode=display\">\\newcommand{\\Bold}[1]{\\mathbf{#1}}\\frac{\\frac{\\partial^{2}}{\\partial {\\tau}\\partial {\\chi}}r\\left({\\tau}, {\\chi}\\right)}{a\\left({\\tau}, {\\chi}\\right)} - \\frac{\\frac{\\partial}{\\partial {\\tau}}a\\left({\\tau}, {\\chi}\\right) \\frac{\\partial}{\\partial {\\chi}}r\\left({\\tau}, {\\chi}\\right)}{a\\left({\\tau}, {\\chi}\\right)^{2}}</script></html>"
      ],
      "text/plain": [
       "diff(r(t, x), t, x)/a(t, x) - diff(a(t, x), t)*diff(r(t, x), x)/a(t, x)^2"
      ]
     },
     "execution_count": 30,
     "metadata": {},
     "output_type": "execute_result"
    }
   ],
   "source": [
    "eq.expand()"
   ]
  },
  {
   "cell_type": "code",
   "execution_count": 24,
   "metadata": {
    "collapsed": false
   },
   "outputs": [
    {
     "data": {
      "text/html": [
       "<html><script type=\"math/tex; mode=display\">\\newcommand{\\Bold}[1]{\\mathbf{#1}}\\frac{\\frac{\\partial}{\\partial {\\chi}}r\\left({\\tau}, {\\chi}\\right)}{f\\left({\\chi}\\right)}</script></html>"
      ],
      "text/plain": [
       "diff(r(t, x), x)/f(x)"
      ]
     },
     "execution_count": 24,
     "metadata": {},
     "output_type": "execute_result"
    }
   ],
   "source": [
    "f = function('f')\n",
    "af(t,x) = diff(r(t,x),x) / f(x)\n",
    "af(t,x)"
   ]
  },
  {
   "cell_type": "code",
   "execution_count": 31,
   "metadata": {
    "collapsed": false
   },
   "outputs": [
    {
     "data": {
      "text/html": [
       "<html><script type=\"math/tex; mode=display\">\\newcommand{\\Bold}[1]{\\mathbf{#1}}0</script></html>"
      ],
      "text/plain": [
       "0"
      ]
     },
     "execution_count": 31,
     "metadata": {},
     "output_type": "execute_result"
    }
   ],
   "source": [
    "eq.substitute_function(a, af)"
   ]
  },
  {
   "cell_type": "code",
   "execution_count": 27,
   "metadata": {
    "collapsed": false
   },
   "outputs": [
    {
     "data": {
      "text/html": [
       "<html><script type=\"math/tex; mode=display\">\\newcommand{\\Bold}[1]{\\mathbf{#1}}-\\frac{a\\left({\\tau}, {\\chi}\\right)^{2} \\left(\\frac{\\partial\\,r}{\\partial {\\tau}}\\right)^{2} + 2 \\, a\\left({\\tau}, {\\chi}\\right)^{2} r\\left({\\tau}, {\\chi}\\right) \\frac{\\partial^2\\,r}{\\partial {\\tau} ^ 2} + a\\left({\\tau}, {\\chi}\\right)^{2} - \\left(\\frac{\\partial\\,r}{\\partial {\\chi}}\\right)^{2}}{r\\left({\\tau}, {\\chi}\\right)^{2}}</script></html>"
      ],
      "text/plain": [
       "-(a(t, x)^2*(d(r)/dt)^2 + 2*a(t, x)^2*r(t, x)*d^2(r)/dt^2 + a(t, x)^2 - (d(r)/dx)^2)/r(t, x)^2"
      ]
     },
     "execution_count": 27,
     "metadata": {},
     "output_type": "execute_result"
    }
   ],
   "source": [
    "E[1,1]"
   ]
  },
  {
   "cell_type": "code",
   "execution_count": 78,
   "metadata": {
    "collapsed": false
   },
   "outputs": [
    {
     "data": {
      "text/html": [
       "<html><script type=\"math/tex; mode=display\">\\newcommand{\\Bold}[1]{\\mathbf{#1}}a\\left({\\tau}, {\\chi}\\right)^{2} \\frac{\\partial}{\\partial {\\tau}}r\\left({\\tau}, {\\chi}\\right)^{2} + 2 \\, a\\left({\\tau}, {\\chi}\\right)^{2} r\\left({\\tau}, {\\chi}\\right) \\frac{\\partial^{2}}{(\\partial {\\tau})^{2}}r\\left({\\tau}, {\\chi}\\right) + a\\left({\\tau}, {\\chi}\\right)^{2} - \\frac{\\partial}{\\partial {\\chi}}r\\left({\\tau}, {\\chi}\\right)^{2} = 0</script></html>"
      ],
      "text/plain": [
       "a(t, x)^2*diff(r(t, x), t)^2 + 2*a(t, x)^2*r(t, x)*diff(r(t, x), t, t) + a(t, x)^2 - diff(r(t, x), x)^2 == 0"
      ]
     },
     "execution_count": 78,
     "metadata": {},
     "output_type": "execute_result"
    }
   ],
   "source": [
    "eq = (- E[1,1] * r(t,x)^2).expr() == 0\n",
    "eq"
   ]
  },
  {
   "cell_type": "code",
   "execution_count": 79,
   "metadata": {
    "collapsed": false
   },
   "outputs": [
    {
     "data": {
      "text/html": [
       "<html><script type=\"math/tex; mode=display\">\\newcommand{\\Bold}[1]{\\mathbf{#1}}\\frac{\\frac{\\partial}{\\partial {\\tau}}r\\left({\\tau}, {\\chi}\\right)^{2} \\frac{\\partial}{\\partial {\\chi}}r\\left({\\tau}, {\\chi}\\right)^{2}}{f\\left({\\chi}\\right)^{2}} + \\frac{2 \\, r\\left({\\tau}, {\\chi}\\right) \\frac{\\partial^{2}}{(\\partial {\\tau})^{2}}r\\left({\\tau}, {\\chi}\\right) \\frac{\\partial}{\\partial {\\chi}}r\\left({\\tau}, {\\chi}\\right)^{2}}{f\\left({\\chi}\\right)^{2}} - \\frac{\\partial}{\\partial {\\chi}}r\\left({\\tau}, {\\chi}\\right)^{2} + \\frac{\\frac{\\partial}{\\partial {\\chi}}r\\left({\\tau}, {\\chi}\\right)^{2}}{f\\left({\\chi}\\right)^{2}} = 0</script></html>"
      ],
      "text/plain": [
       "diff(r(t, x), t)^2*diff(r(t, x), x)^2/f(x)^2 + 2*r(t, x)*diff(r(t, x), t, t)*diff(r(t, x), x)^2/f(x)^2 - diff(r(t, x), x)^2 + diff(r(t, x), x)^2/f(x)^2 == 0"
      ]
     },
     "execution_count": 79,
     "metadata": {},
     "output_type": "execute_result"
    }
   ],
   "source": [
    "eq1 = eq.substitute_function(a, af)\n",
    "eq1"
   ]
  },
  {
   "cell_type": "code",
   "execution_count": 80,
   "metadata": {
    "collapsed": false
   },
   "outputs": [
    {
     "data": {
      "text/html": [
       "<html><script type=\"math/tex; mode=display\">\\newcommand{\\Bold}[1]{\\mathbf{#1}}-f\\left({\\chi}\\right)^{2} + \\frac{\\partial}{\\partial {\\tau}}r\\left({\\tau}, {\\chi}\\right)^{2} + 2 \\, r\\left({\\tau}, {\\chi}\\right) \\frac{\\partial^{2}}{(\\partial {\\tau})^{2}}r\\left({\\tau}, {\\chi}\\right) + 1 = 0</script></html>"
      ],
      "text/plain": [
       "-f(x)^2 + diff(r(t, x), t)^2 + 2*r(t, x)*diff(r(t, x), t, t) + 1 == 0"
      ]
     },
     "execution_count": 80,
     "metadata": {},
     "output_type": "execute_result"
    }
   ],
   "source": [
    "eq2 = (eq1 * f(x)^2 / diff(r(t,x), x)^2).simplify_full()\n",
    "eq2"
   ]
  },
  {
   "cell_type": "code",
   "execution_count": 63,
   "metadata": {
    "collapsed": false
   },
   "outputs": [
    {
     "data": {
      "text/html": [
       "<html><script type=\"math/tex; mode=display\">\\newcommand{\\Bold}[1]{\\mathbf{#1}}-f\\left({\\chi}\\right)^{2} \\frac{\\partial}{\\partial {\\tau}}r\\left({\\tau}, {\\chi}\\right) + \\frac{\\partial}{\\partial {\\tau}}r\\left({\\tau}, {\\chi}\\right)^{3} + 2 \\, r\\left({\\tau}, {\\chi}\\right) \\frac{\\partial}{\\partial {\\tau}}r\\left({\\tau}, {\\chi}\\right) \\frac{\\partial^{2}}{(\\partial {\\tau})^{2}}r\\left({\\tau}, {\\chi}\\right) + \\frac{\\partial}{\\partial {\\tau}}r\\left({\\tau}, {\\chi}\\right) = 0</script></html>"
      ],
      "text/plain": [
       "-f(x)^2*diff(r(t, x), t) + diff(r(t, x), t)^3 + 2*r(t, x)*diff(r(t, x), t)*diff(r(t, x), t, t) + diff(r(t, x), t) == 0"
      ]
     },
     "execution_count": 63,
     "metadata": {},
     "output_type": "execute_result"
    }
   ],
   "source": [
    "eq3 = (eq2 * diff(r(t,x),t)).simplify_full()\n",
    "eq3"
   ]
  },
  {
   "cell_type": "code",
   "execution_count": 64,
   "metadata": {
    "collapsed": false
   },
   "outputs": [
    {
     "data": {
      "text/html": [
       "<html><script type=\"math/tex; mode=display\">\\newcommand{\\Bold}[1]{\\mathbf{#1}}-{\\left(f\\left({\\chi}\\right)^{2} - \\frac{\\partial}{\\partial {\\tau}}r\\left({\\tau}, {\\chi}\\right)^{2} - 1\\right)} r\\left({\\tau}, {\\chi}\\right) - 2 \\, m\\left({\\chi}\\right) = 0</script></html>"
      ],
      "text/plain": [
       "-(f(x)^2 - diff(r(t, x), t)^2 - 1)*r(t, x) - 2*m(x) == 0"
      ]
     },
     "execution_count": 64,
     "metadata": {},
     "output_type": "execute_result"
    }
   ],
   "source": [
    "m = function('m')\n",
    "eq4 = (diff(r(t,x),t)^2 + 1 - f(x)^2) * r(t,x) - 2*m(x) == 0\n",
    "eq4"
   ]
  },
  {
   "cell_type": "code",
   "execution_count": 66,
   "metadata": {
    "collapsed": false
   },
   "outputs": [
    {
     "data": {
      "text/html": [
       "<html><script type=\"math/tex; mode=display\">\\newcommand{\\Bold}[1]{\\mathbf{#1}}\\mathrm{True}</script></html>"
      ],
      "text/plain": [
       "True"
      ]
     },
     "execution_count": 66,
     "metadata": {},
     "output_type": "execute_result"
    }
   ],
   "source": [
    "bool(eq3.lhs() == diff(eq4.lhs(), t))"
   ]
  },
  {
   "cell_type": "code",
   "execution_count": 48,
   "metadata": {
    "collapsed": false
   },
   "outputs": [
    {
     "data": {
      "text/html": [
       "<html><script type=\"math/tex; mode=display\">\\newcommand{\\Bold}[1]{\\mathbf{#1}}-\\sqrt{f\\left({\\chi}\\right)^{2} + \\frac{2 \\, m\\left({\\chi}\\right)}{r\\left({\\tau}, {\\chi}\\right)} - 1}</script></html>"
      ],
      "text/plain": [
       "-sqrt(f(x)^2 + 2*m(x)/r(t, x) - 1)"
      ]
     },
     "execution_count": 48,
     "metadata": {},
     "output_type": "execute_result"
    }
   ],
   "source": [
    "drdt = - sqrt( f(x)^2-1 + 2*m(x)/r(t,x) )\n",
    "drdt"
   ]
  },
  {
   "cell_type": "code",
   "execution_count": 49,
   "metadata": {
    "collapsed": false
   },
   "outputs": [
    {
     "data": {
      "text/html": [
       "<html><script type=\"math/tex; mode=display\">\\newcommand{\\Bold}[1]{\\mathbf{#1}}-\\frac{8 \\, \\pi a\\left({\\tau}, {\\chi}\\right)^{3} r\\left({\\tau}, {\\chi}\\right)^{2} \\rho\\left({\\tau}, {\\chi}\\right) - 2 \\, a\\left({\\tau}, {\\chi}\\right)^{2} r\\left({\\tau}, {\\chi}\\right) \\frac{\\partial\\,a}{\\partial {\\tau}} \\frac{\\partial\\,r}{\\partial {\\tau}} - a\\left({\\tau}, {\\chi}\\right)^{3} \\frac{\\partial\\,r}{\\partial {\\tau}}^{2} - a\\left({\\tau}, {\\chi}\\right)^{3} - 2 \\, r\\left({\\tau}, {\\chi}\\right) \\frac{\\partial\\,a}{\\partial {\\chi}} \\frac{\\partial\\,r}{\\partial {\\chi}} + a\\left({\\tau}, {\\chi}\\right) \\frac{\\partial\\,r}{\\partial {\\chi}}^{2} + 2 \\, a\\left({\\tau}, {\\chi}\\right) r\\left({\\tau}, {\\chi}\\right) \\frac{\\partial^2\\,r}{\\partial {\\chi} ^ 2}}{a\\left({\\tau}, {\\chi}\\right)^{3} r\\left({\\tau}, {\\chi}\\right)^{2}}</script></html>"
      ],
      "text/plain": [
       "-(8*pi*a(t, x)^3*r(t, x)^2*rho(t, x) - 2*a(t, x)^2*r(t, x)*d(a)/dt*d(r)/dt - a(t, x)^3*d(r)/dt^2 - a(t, x)^3 - 2*r(t, x)*d(a)/dx*d(r)/dx + a(t, x)*d(r)/dx^2 + 2*a(t, x)*r(t, x)*d^2(r)/dx^2)/(a(t, x)^3*r(t, x)^2)"
      ]
     },
     "execution_count": 49,
     "metadata": {},
     "output_type": "execute_result"
    }
   ],
   "source": [
    "E[0,0]"
   ]
  },
  {
   "cell_type": "code",
   "execution_count": 67,
   "metadata": {
    "collapsed": false
   },
   "outputs": [
    {
     "data": {
      "text/html": [
       "<html><script type=\"math/tex; mode=display\">\\newcommand{\\Bold}[1]{\\mathbf{#1}}8 \\, \\pi a\\left({\\tau}, {\\chi}\\right)^{3} r\\left({\\tau}, {\\chi}\\right)^{2} \\rho\\left({\\tau}, {\\chi}\\right) - 2 \\, a\\left({\\tau}, {\\chi}\\right)^{2} r\\left({\\tau}, {\\chi}\\right) \\frac{\\partial}{\\partial {\\tau}}a\\left({\\tau}, {\\chi}\\right) \\frac{\\partial}{\\partial {\\tau}}r\\left({\\tau}, {\\chi}\\right) - a\\left({\\tau}, {\\chi}\\right)^{3} \\frac{\\partial}{\\partial {\\tau}}r\\left({\\tau}, {\\chi}\\right)^{2} - a\\left({\\tau}, {\\chi}\\right)^{3} - 2 \\, r\\left({\\tau}, {\\chi}\\right) \\frac{\\partial}{\\partial {\\chi}}a\\left({\\tau}, {\\chi}\\right) \\frac{\\partial}{\\partial {\\chi}}r\\left({\\tau}, {\\chi}\\right) + a\\left({\\tau}, {\\chi}\\right) \\frac{\\partial}{\\partial {\\chi}}r\\left({\\tau}, {\\chi}\\right)^{2} + 2 \\, a\\left({\\tau}, {\\chi}\\right) r\\left({\\tau}, {\\chi}\\right) \\frac{\\partial^{2}}{(\\partial {\\chi})^{2}}r\\left({\\tau}, {\\chi}\\right) = 0</script></html>"
      ],
      "text/plain": [
       "8*pi*a(t, x)^3*r(t, x)^2*rho(t, x) - 2*a(t, x)^2*r(t, x)*diff(a(t, x), t)*diff(r(t, x), t) - a(t, x)^3*diff(r(t, x), t)^2 - a(t, x)^3 - 2*r(t, x)*diff(a(t, x), x)*diff(r(t, x), x) + a(t, x)*diff(r(t, x), x)^2 + 2*a(t, x)*r(t, x)*diff(r(t, x), x, x) == 0"
      ]
     },
     "execution_count": 67,
     "metadata": {},
     "output_type": "execute_result"
    }
   ],
   "source": [
    "eq = (- E[0,0] * a(t,x)^3 * r(t,x)^2).expr() == 0\n",
    "eq"
   ]
  },
  {
   "cell_type": "code",
   "execution_count": 68,
   "metadata": {
    "collapsed": false
   },
   "outputs": [
    {
     "data": {
      "text/html": [
       "<html><script type=\"math/tex; mode=display\">\\newcommand{\\Bold}[1]{\\mathbf{#1}}\\frac{8 \\, \\pi r\\left({\\tau}, {\\chi}\\right)^{2} \\rho\\left({\\tau}, {\\chi}\\right) \\frac{\\partial}{\\partial {\\chi}}r\\left({\\tau}, {\\chi}\\right)^{3}}{f\\left({\\chi}\\right)^{3}} + 2 \\, {\\left(\\frac{\\frac{\\partial}{\\partial {\\chi}}f\\left({\\chi}\\right) \\frac{\\partial}{\\partial {\\chi}}r\\left({\\tau}, {\\chi}\\right)}{f\\left({\\chi}\\right)^{2}} - \\frac{\\frac{\\partial^{2}}{(\\partial {\\chi})^{2}}r\\left({\\tau}, {\\chi}\\right)}{f\\left({\\chi}\\right)}\\right)} r\\left({\\tau}, {\\chi}\\right) \\frac{\\partial}{\\partial {\\chi}}r\\left({\\tau}, {\\chi}\\right) - \\frac{2 \\, r\\left({\\tau}, {\\chi}\\right) \\frac{\\partial}{\\partial {\\tau}}r\\left({\\tau}, {\\chi}\\right) \\frac{\\partial^{2}}{\\partial {\\tau}\\partial {\\chi}}r\\left({\\tau}, {\\chi}\\right) \\frac{\\partial}{\\partial {\\chi}}r\\left({\\tau}, {\\chi}\\right)^{2}}{f\\left({\\chi}\\right)^{3}} + \\frac{\\frac{\\partial}{\\partial {\\chi}}r\\left({\\tau}, {\\chi}\\right)^{3}}{f\\left({\\chi}\\right)} - \\frac{\\frac{\\partial}{\\partial {\\tau}}r\\left({\\tau}, {\\chi}\\right)^{2} \\frac{\\partial}{\\partial {\\chi}}r\\left({\\tau}, {\\chi}\\right)^{3}}{f\\left({\\chi}\\right)^{3}} + \\frac{2 \\, r\\left({\\tau}, {\\chi}\\right) \\frac{\\partial}{\\partial {\\chi}}r\\left({\\tau}, {\\chi}\\right) \\frac{\\partial^{2}}{(\\partial {\\chi})^{2}}r\\left({\\tau}, {\\chi}\\right)}{f\\left({\\chi}\\right)} - \\frac{\\frac{\\partial}{\\partial {\\chi}}r\\left({\\tau}, {\\chi}\\right)^{3}}{f\\left({\\chi}\\right)^{3}} = 0</script></html>"
      ],
      "text/plain": [
       "8*pi*r(t, x)^2*rho(t, x)*diff(r(t, x), x)^3/f(x)^3 + 2*(diff(f(x), x)*diff(r(t, x), x)/f(x)^2 - diff(r(t, x), x, x)/f(x))*r(t, x)*diff(r(t, x), x) - 2*r(t, x)*diff(r(t, x), t)*diff(r(t, x), t, x)*diff(r(t, x), x)^2/f(x)^3 + diff(r(t, x), x)^3/f(x) - diff(r(t, x), t)^2*diff(r(t, x), x)^3/f(x)^3 + 2*r(t, x)*diff(r(t, x), x)*diff(r(t, x), x, x)/f(x) - diff(r(t, x), x)^3/f(x)^3 == 0"
      ]
     },
     "execution_count": 68,
     "metadata": {},
     "output_type": "execute_result"
    }
   ],
   "source": [
    "eq1 = eq.substitute_function(a, af)\n",
    "eq1"
   ]
  },
  {
   "cell_type": "code",
   "execution_count": 69,
   "metadata": {
    "collapsed": false
   },
   "outputs": [
    {
     "data": {
      "text/html": [
       "<html><script type=\"math/tex; mode=display\">\\newcommand{\\Bold}[1]{\\mathbf{#1}}2 \\, f\\left({\\chi}\\right) r\\left({\\tau}, {\\chi}\\right) \\frac{\\partial}{\\partial {\\chi}}f\\left({\\chi}\\right) \\frac{\\partial}{\\partial {\\chi}}r\\left({\\tau}, {\\chi}\\right)^{2} - 2 \\, r\\left({\\tau}, {\\chi}\\right) \\frac{\\partial}{\\partial {\\tau}}r\\left({\\tau}, {\\chi}\\right) \\frac{\\partial^{2}}{\\partial {\\tau}\\partial {\\chi}}r\\left({\\tau}, {\\chi}\\right) \\frac{\\partial}{\\partial {\\chi}}r\\left({\\tau}, {\\chi}\\right)^{2} + f\\left({\\chi}\\right)^{2} \\frac{\\partial}{\\partial {\\chi}}r\\left({\\tau}, {\\chi}\\right)^{3} + {\\left(8 \\, \\pi r\\left({\\tau}, {\\chi}\\right)^{2} \\rho\\left({\\tau}, {\\chi}\\right) - \\frac{\\partial}{\\partial {\\tau}}r\\left({\\tau}, {\\chi}\\right)^{2} - 1\\right)} \\frac{\\partial}{\\partial {\\chi}}r\\left({\\tau}, {\\chi}\\right)^{3} = 0</script></html>"
      ],
      "text/plain": [
       "2*f(x)*r(t, x)*diff(f(x), x)*diff(r(t, x), x)^2 - 2*r(t, x)*diff(r(t, x), t)*diff(r(t, x), t, x)*diff(r(t, x), x)^2 + f(x)^2*diff(r(t, x), x)^3 + (8*pi*r(t, x)^2*rho(t, x) - diff(r(t, x), t)^2 - 1)*diff(r(t, x), x)^3 == 0"
      ]
     },
     "execution_count": 69,
     "metadata": {},
     "output_type": "execute_result"
    }
   ],
   "source": [
    "eq2 = (eq1 * f(x)^3).simplify_full()\n",
    "eq2"
   ]
  },
  {
   "cell_type": "code",
   "execution_count": 70,
   "metadata": {
    "collapsed": false
   },
   "outputs": [
    {
     "data": {
      "text/html": [
       "<html><script type=\"math/tex; mode=display\">\\newcommand{\\Bold}[1]{\\mathbf{#1}}8 \\, \\pi r\\left({\\tau}, {\\chi}\\right)^{2} \\rho\\left({\\tau}, {\\chi}\\right) \\frac{\\partial}{\\partial {\\chi}}r\\left({\\tau}, {\\chi}\\right)^{3} - 2 \\, \\frac{\\partial}{\\partial {\\chi}}m\\left({\\chi}\\right) \\frac{\\partial}{\\partial {\\chi}}r\\left({\\tau}, {\\chi}\\right)^{2} = 0</script></html>"
      ],
      "text/plain": [
       "8*pi*r(t, x)^2*rho(t, x)*diff(r(t, x), x)^3 - 2*diff(m(x), x)*diff(r(t, x), x)^2 == 0"
      ]
     },
     "execution_count": 70,
     "metadata": {},
     "output_type": "execute_result"
    }
   ],
   "source": [
    "eq3 = eq2.subs({diff(r(t,x),t): drdt, diff(r(t,x),t,x): diff(drdt, x)}).simplify_full()\n",
    "eq3"
   ]
  },
  {
   "cell_type": "code",
   "execution_count": 71,
   "metadata": {
    "collapsed": false
   },
   "outputs": [
    {
     "data": {
      "text/html": [
       "<html><script type=\"math/tex; mode=display\">\\newcommand{\\Bold}[1]{\\mathbf{#1}}4 \\, \\pi r\\left({\\tau}, {\\chi}\\right)^{2} \\rho\\left({\\tau}, {\\chi}\\right) \\frac{\\partial}{\\partial {\\chi}}r\\left({\\tau}, {\\chi}\\right) - \\frac{\\partial}{\\partial {\\chi}}m\\left({\\chi}\\right) = 0</script></html>"
      ],
      "text/plain": [
       "4*pi*r(t, x)^2*rho(t, x)*diff(r(t, x), x) - diff(m(x), x) == 0"
      ]
     },
     "execution_count": 71,
     "metadata": {},
     "output_type": "execute_result"
    }
   ],
   "source": [
    "eq4 = (eq3 / (2*diff(r(t,x),x)^2)).simplify_full()\n",
    "eq4"
   ]
  },
  {
   "cell_type": "code",
   "execution_count": 72,
   "metadata": {
    "collapsed": false
   },
   "outputs": [
    {
     "data": {
      "text/html": [
       "<html><script type=\"math/tex; mode=display\">\\newcommand{\\Bold}[1]{\\mathbf{#1}}\\mathrm{True}</script></html>"
      ],
      "text/plain": [
       "True"
      ]
     },
     "execution_count": 72,
     "metadata": {},
     "output_type": "execute_result"
    }
   ],
   "source": [
    "E[3,3] == E[2,2] * sin(th)^2"
   ]
  },
  {
   "cell_type": "code",
   "execution_count": 73,
   "metadata": {
    "collapsed": false
   },
   "outputs": [
    {
     "data": {
      "text/html": [
       "<html><script type=\"math/tex; mode=display\">\\newcommand{\\Bold}[1]{\\mathbf{#1}}-\\frac{a\\left({\\tau}, {\\chi}\\right)^{2} r\\left({\\tau}, {\\chi}\\right)^{2} \\frac{\\partial^2\\,a}{\\partial {\\tau} ^ 2} + a\\left({\\tau}, {\\chi}\\right)^{2} r\\left({\\tau}, {\\chi}\\right) \\frac{\\partial\\,a}{\\partial {\\tau}} \\frac{\\partial\\,r}{\\partial {\\tau}} + a\\left({\\tau}, {\\chi}\\right)^{3} r\\left({\\tau}, {\\chi}\\right) \\frac{\\partial^2\\,r}{\\partial {\\tau} ^ 2} + r\\left({\\tau}, {\\chi}\\right) \\frac{\\partial\\,a}{\\partial {\\chi}} \\frac{\\partial\\,r}{\\partial {\\chi}} - a\\left({\\tau}, {\\chi}\\right) r\\left({\\tau}, {\\chi}\\right) \\frac{\\partial^2\\,r}{\\partial {\\chi} ^ 2}}{a\\left({\\tau}, {\\chi}\\right)^{3}}</script></html>"
      ],
      "text/plain": [
       "-(a(t, x)^2*r(t, x)^2*d^2(a)/dt^2 + a(t, x)^2*r(t, x)*d(a)/dt*d(r)/dt + a(t, x)^3*r(t, x)*d^2(r)/dt^2 + r(t, x)*d(a)/dx*d(r)/dx - a(t, x)*r(t, x)*d^2(r)/dx^2)/a(t, x)^3"
      ]
     },
     "execution_count": 73,
     "metadata": {},
     "output_type": "execute_result"
    }
   ],
   "source": [
    "E[2,2]"
   ]
  },
  {
   "cell_type": "code",
   "execution_count": 82,
   "metadata": {
    "collapsed": false
   },
   "outputs": [
    {
     "data": {
      "text/html": [
       "<html><script type=\"math/tex; mode=display\">\\newcommand{\\Bold}[1]{\\mathbf{#1}}a\\left({\\tau}, {\\chi}\\right)^{2} r\\left({\\tau}, {\\chi}\\right)^{2} \\frac{\\partial^{2}}{(\\partial {\\tau})^{2}}a\\left({\\tau}, {\\chi}\\right) + a\\left({\\tau}, {\\chi}\\right)^{2} r\\left({\\tau}, {\\chi}\\right) \\frac{\\partial}{\\partial {\\tau}}a\\left({\\tau}, {\\chi}\\right) \\frac{\\partial}{\\partial {\\tau}}r\\left({\\tau}, {\\chi}\\right) + a\\left({\\tau}, {\\chi}\\right)^{3} r\\left({\\tau}, {\\chi}\\right) \\frac{\\partial^{2}}{(\\partial {\\tau})^{2}}r\\left({\\tau}, {\\chi}\\right) + r\\left({\\tau}, {\\chi}\\right) \\frac{\\partial}{\\partial {\\chi}}a\\left({\\tau}, {\\chi}\\right) \\frac{\\partial}{\\partial {\\chi}}r\\left({\\tau}, {\\chi}\\right) - a\\left({\\tau}, {\\chi}\\right) r\\left({\\tau}, {\\chi}\\right) \\frac{\\partial^{2}}{(\\partial {\\chi})^{2}}r\\left({\\tau}, {\\chi}\\right) = 0</script></html>"
      ],
      "text/plain": [
       "a(t, x)^2*r(t, x)^2*diff(a(t, x), t, t) + a(t, x)^2*r(t, x)*diff(a(t, x), t)*diff(r(t, x), t) + a(t, x)^3*r(t, x)*diff(r(t, x), t, t) + r(t, x)*diff(a(t, x), x)*diff(r(t, x), x) - a(t, x)*r(t, x)*diff(r(t, x), x, x) == 0"
      ]
     },
     "execution_count": 82,
     "metadata": {},
     "output_type": "execute_result"
    }
   ],
   "source": [
    "eq = (- E[2,2] * a(t,x)^3).expr() == 0\n",
    "eq"
   ]
  },
  {
   "cell_type": "code",
   "execution_count": 83,
   "metadata": {
    "collapsed": false
   },
   "outputs": [
    {
     "data": {
      "text/html": [
       "<html><script type=\"math/tex; mode=display\">\\newcommand{\\Bold}[1]{\\mathbf{#1}}-\\frac{f\\left({\\chi}\\right) r\\left({\\tau}, {\\chi}\\right) \\frac{\\partial}{\\partial {\\chi}}f\\left({\\chi}\\right) \\frac{\\partial}{\\partial {\\chi}}r\\left({\\tau}, {\\chi}\\right)^{2} - r\\left({\\tau}, {\\chi}\\right) \\frac{\\partial^{2}}{(\\partial {\\tau})^{2}}r\\left({\\tau}, {\\chi}\\right) \\frac{\\partial}{\\partial {\\chi}}r\\left({\\tau}, {\\chi}\\right)^{3} - {\\left(r\\left({\\tau}, {\\chi}\\right)^{2} \\frac{\\partial^{3}}{(\\partial {\\tau})^{2}\\partial {\\chi}}r\\left({\\tau}, {\\chi}\\right) + r\\left({\\tau}, {\\chi}\\right) \\frac{\\partial}{\\partial {\\tau}}r\\left({\\tau}, {\\chi}\\right) \\frac{\\partial^{2}}{\\partial {\\tau}\\partial {\\chi}}r\\left({\\tau}, {\\chi}\\right)\\right)} \\frac{\\partial}{\\partial {\\chi}}r\\left({\\tau}, {\\chi}\\right)^{2}}{f\\left({\\chi}\\right)^{3}} = 0</script></html>"
      ],
      "text/plain": [
       "-(f(x)*r(t, x)*diff(f(x), x)*diff(r(t, x), x)^2 - r(t, x)*diff(r(t, x), t, t)*diff(r(t, x), x)^3 - (r(t, x)^2*diff(r(t, x), t, t, x) + r(t, x)*diff(r(t, x), t)*diff(r(t, x), t, x))*diff(r(t, x), x)^2)/f(x)^3 == 0"
      ]
     },
     "execution_count": 83,
     "metadata": {},
     "output_type": "execute_result"
    }
   ],
   "source": [
    "eq1 = eq.substitute_function(a, af).simplify_full()\n",
    "eq1"
   ]
  },
  {
   "cell_type": "code",
   "execution_count": 84,
   "metadata": {
    "collapsed": false
   },
   "outputs": [
    {
     "data": {
      "text/html": [
       "<html><script type=\"math/tex; mode=display\">\\newcommand{\\Bold}[1]{\\mathbf{#1}}-f\\left({\\chi}\\right) r\\left({\\tau}, {\\chi}\\right) \\frac{\\partial}{\\partial {\\chi}}f\\left({\\chi}\\right) \\frac{\\partial}{\\partial {\\chi}}r\\left({\\tau}, {\\chi}\\right)^{2} + r\\left({\\tau}, {\\chi}\\right) \\frac{\\partial^{2}}{(\\partial {\\tau})^{2}}r\\left({\\tau}, {\\chi}\\right) \\frac{\\partial}{\\partial {\\chi}}r\\left({\\tau}, {\\chi}\\right)^{3} + {\\left(r\\left({\\tau}, {\\chi}\\right)^{2} \\frac{\\partial^{3}}{(\\partial {\\tau})^{2}\\partial {\\chi}}r\\left({\\tau}, {\\chi}\\right) + r\\left({\\tau}, {\\chi}\\right) \\frac{\\partial}{\\partial {\\tau}}r\\left({\\tau}, {\\chi}\\right) \\frac{\\partial^{2}}{\\partial {\\tau}\\partial {\\chi}}r\\left({\\tau}, {\\chi}\\right)\\right)} \\frac{\\partial}{\\partial {\\chi}}r\\left({\\tau}, {\\chi}\\right)^{2} = 0</script></html>"
      ],
      "text/plain": [
       "-f(x)*r(t, x)*diff(f(x), x)*diff(r(t, x), x)^2 + r(t, x)*diff(r(t, x), t, t)*diff(r(t, x), x)^3 + (r(t, x)^2*diff(r(t, x), t, t, x) + r(t, x)*diff(r(t, x), t)*diff(r(t, x), t, x))*diff(r(t, x), x)^2 == 0"
      ]
     },
     "execution_count": 84,
     "metadata": {},
     "output_type": "execute_result"
    }
   ],
   "source": [
    "eq2 = (eq1 * f(x)^3).simplify_full()\n",
    "eq2"
   ]
  },
  {
   "cell_type": "code",
   "execution_count": 96,
   "metadata": {
    "collapsed": false
   },
   "outputs": [
    {
     "data": {
      "text/html": [
       "<html><script type=\"math/tex; mode=display\">\\newcommand{\\Bold}[1]{\\mathbf{#1}}0 = 0</script></html>"
      ],
      "text/plain": [
       "0 == 0"
      ]
     },
     "execution_count": 96,
     "metadata": {},
     "output_type": "execute_result"
    }
   ],
   "source": [
    "eq3 = eq2.subs({diff(r(t,x),t,t,x): diff(drdt,t,x), diff(r(t,x),t,t): diff(drdt,t)}).simplify_full()\n",
    "eq4 = eq3.subs({diff(r(t,x),t): drdt, diff(r(t,x),t,x): diff(drdt,x)}).simplify_full()\n",
    "eq4"
   ]
  },
  {
   "cell_type": "code",
   "execution_count": null,
   "metadata": {
    "collapsed": true
   },
   "outputs": [],
   "source": []
  }
 ],
 "metadata": {
  "kernelspec": {
   "display_name": "SageMath 7.5.beta3",
   "language": "",
   "name": "sagemath"
  },
  "language_info": {
   "codemirror_mode": {
    "name": "ipython",
    "version": 2
   },
   "file_extension": ".py",
   "mimetype": "text/x-python",
   "name": "python",
   "nbconvert_exporter": "python",
   "pygments_lexer": "ipython2",
   "version": "2.7.10"
  }
 },
 "nbformat": 4,
 "nbformat_minor": 0
}
