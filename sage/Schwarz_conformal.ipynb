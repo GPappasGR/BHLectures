{
 "cells": [
  {
   "cell_type": "markdown",
   "metadata": {
    "deletable": true,
    "editable": true
   },
   "source": [
    "#  Carter-Penrose diagram of Schwarzschild spacetime\n",
    "\n",
    "This Jupyter/SageMath worksheet is relative to the lectures\n",
    "[Geometry and physics of black holes](http://luth.obspm.fr/~luthier/gourgoulhon/bh16/)\n",
    "  \n",
    "These computations are based on [SageManifolds](http://sagemanifolds.obspm.fr) (version 1.0, as included in SageMath 7.5 and higher versions)\n",
    "\n",
    "Click [here](https://raw.githubusercontent.com/egourgoulhon/BHLectures/master/sage/Schwarz_conformal.ipynb) to download the worksheet file (ipynb format). To run it, you must start SageMath with the Jupyter notebook, with the command `sage -n jupyter`\n",
    "\n",
    "*NB:* a version of SageMath at least equal to 7.5 is required to run this worksheet: "
   ]
  },
  {
   "cell_type": "code",
   "execution_count": 1,
   "metadata": {
    "collapsed": false,
    "deletable": true,
    "editable": true
   },
   "outputs": [
    {
     "data": {
      "text/plain": [
       "'SageMath version 8.0.beta6, Release Date: 2017-05-12'"
      ]
     },
     "execution_count": 1,
     "metadata": {},
     "output_type": "execute_result"
    }
   ],
   "source": [
    "version()"
   ]
  },
  {
   "cell_type": "markdown",
   "metadata": {
    "deletable": true,
    "editable": true
   },
   "source": [
    "First we set up the notebook to display mathematical objects using LaTeX formatting:"
   ]
  },
  {
   "cell_type": "code",
   "execution_count": 2,
   "metadata": {
    "collapsed": true,
    "deletable": true,
    "editable": true
   },
   "outputs": [],
   "source": [
    "%display latex"
   ]
  },
  {
   "cell_type": "markdown",
   "metadata": {},
   "source": [
    "To speed up computations, we ask for running them in parallel on 8 threads:"
   ]
  },
  {
   "cell_type": "code",
   "execution_count": 3,
   "metadata": {
    "collapsed": true
   },
   "outputs": [],
   "source": [
    "Parallelism().set(nproc=8)"
   ]
  },
  {
   "cell_type": "markdown",
   "metadata": {
    "deletable": true,
    "editable": true
   },
   "source": [
    "## Spacetime\n",
    "\n",
    "We declare the spacetime manifold $M$:"
   ]
  },
  {
   "cell_type": "code",
   "execution_count": 4,
   "metadata": {
    "collapsed": false,
    "deletable": true,
    "editable": true
   },
   "outputs": [
    {
     "name": "stdout",
     "output_type": "stream",
     "text": [
      "4-dimensional differentiable manifold M\n"
     ]
    }
   ],
   "source": [
    "M = Manifold(4, 'M')\n",
    "print(M)"
   ]
  },
  {
   "cell_type": "markdown",
   "metadata": {
    "deletable": true,
    "editable": true
   },
   "source": [
    "## The Schwarzschild-Droste domain\n",
    "\n",
    "The domain of Schwarzschild-Droste coordinates is $M_{\\rm SD} = M_{\\rm I} \\cup M_{\\rm II}$:"
   ]
  },
  {
   "cell_type": "code",
   "execution_count": 5,
   "metadata": {
    "collapsed": false,
    "deletable": true,
    "editable": true
   },
   "outputs": [],
   "source": [
    "M_SD = M.open_subset('M_SD', latex_name=r'M_{\\rm SD}')\n",
    "M_I = M_SD.open_subset('M_I', latex_name=r'M_{\\rm I}')\n",
    "M_II = M_SD.open_subset('M_II', latex_name=r'M_{\\rm II}')\n",
    "M_SD.declare_union(M_I, M_II)"
   ]
  },
  {
   "cell_type": "markdown",
   "metadata": {
    "deletable": true,
    "editable": true
   },
   "source": [
    "The Schwarzschild-Droste coordinates $(t,r,\\theta,\\phi)$:"
   ]
  },
  {
   "cell_type": "code",
   "execution_count": 6,
   "metadata": {
    "collapsed": false,
    "deletable": true,
    "editable": true
   },
   "outputs": [
    {
     "data": {
      "text/html": [
       "<html><script type=\"math/tex; mode=display\">\\newcommand{\\Bold}[1]{\\mathbf{#1}}\\left(M_{\\rm SD},(t, r, {\\theta}, {\\phi})\\right)</script></html>"
      ],
      "text/plain": [
       "Chart (M_SD, (t, r, th, ph))"
      ]
     },
     "execution_count": 6,
     "metadata": {},
     "output_type": "execute_result"
    }
   ],
   "source": [
    "X_SD.<t,r,th,ph> = M_SD.chart(r't r:(0,+oo) th:(0,pi):\\theta ph:(0,2*pi):\\phi')\n",
    "m = var('m', domain='real') ; assume(m>=0)\n",
    "X_SD.add_restrictions(r!=2*m)\n",
    "X_SD"
   ]
  },
  {
   "cell_type": "code",
   "execution_count": 7,
   "metadata": {
    "collapsed": false,
    "deletable": true,
    "editable": true
   },
   "outputs": [
    {
     "data": {
      "text/html": [
       "<html><script type=\"math/tex; mode=display\">\\newcommand{\\Bold}[1]{\\mathbf{#1}}\\left(M_{\\rm I},(t, r, {\\theta}, {\\phi})\\right)</script></html>"
      ],
      "text/plain": [
       "Chart (M_I, (t, r, th, ph))"
      ]
     },
     "execution_count": 7,
     "metadata": {},
     "output_type": "execute_result"
    }
   ],
   "source": [
    "X_SD_I = X_SD.restrict(M_I, r>2*m) ; X_SD_I "
   ]
  },
  {
   "cell_type": "code",
   "execution_count": 8,
   "metadata": {
    "collapsed": false,
    "deletable": true,
    "editable": true
   },
   "outputs": [
    {
     "data": {
      "text/html": [
       "<html><script type=\"math/tex; mode=display\">\\newcommand{\\Bold}[1]{\\mathbf{#1}}\\left(M_{\\rm II},(t, r, {\\theta}, {\\phi})\\right)</script></html>"
      ],
      "text/plain": [
       "Chart (M_II, (t, r, th, ph))"
      ]
     },
     "execution_count": 8,
     "metadata": {},
     "output_type": "execute_result"
    }
   ],
   "source": [
    "X_SD_II = X_SD.restrict(M_II, r<2*m) ; X_SD_II"
   ]
  },
  {
   "cell_type": "code",
   "execution_count": 9,
   "metadata": {
    "collapsed": false,
    "deletable": true,
    "editable": true
   },
   "outputs": [
    {
     "data": {
      "text/html": [
       "<html><script type=\"math/tex; mode=display\">\\newcommand{\\Bold}[1]{\\mathbf{#1}}\\left(M_{\\rm SD},(t, r, {\\theta}, {\\phi})\\right)</script></html>"
      ],
      "text/plain": [
       "Chart (M_SD, (t, r, th, ph))"
      ]
     },
     "execution_count": 9,
     "metadata": {},
     "output_type": "execute_result"
    }
   ],
   "source": [
    "M.default_chart()"
   ]
  },
  {
   "cell_type": "code",
   "execution_count": 10,
   "metadata": {
    "collapsed": false,
    "deletable": true,
    "editable": true
   },
   "outputs": [
    {
     "data": {
      "text/html": [
       "<html><script type=\"math/tex; mode=display\">\\newcommand{\\Bold}[1]{\\mathbf{#1}}\\left[\\left(M_{\\rm SD},(t, r, {\\theta}, {\\phi})\\right), \\left(M_{\\rm I},(t, r, {\\theta}, {\\phi})\\right), \\left(M_{\\rm II},(t, r, {\\theta}, {\\phi})\\right)\\right]</script></html>"
      ],
      "text/plain": [
       "[Chart (M_SD, (t, r, th, ph)),\n",
       " Chart (M_I, (t, r, th, ph)),\n",
       " Chart (M_II, (t, r, th, ph))]"
      ]
     },
     "execution_count": 10,
     "metadata": {},
     "output_type": "execute_result"
    }
   ],
   "source": [
    "M.atlas()"
   ]
  },
  {
   "cell_type": "markdown",
   "metadata": {
    "collapsed": true,
    "deletable": true,
    "editable": true
   },
   "source": [
    "## Kruskal-Szekeres coordinates"
   ]
  },
  {
   "cell_type": "code",
   "execution_count": 11,
   "metadata": {
    "collapsed": false,
    "deletable": true,
    "editable": true
   },
   "outputs": [
    {
     "data": {
      "text/html": [
       "<html><script type=\"math/tex; mode=display\">\\newcommand{\\Bold}[1]{\\mathbf{#1}}\\left(M,(T, X, {\\theta}, {\\phi})\\right)</script></html>"
      ],
      "text/plain": [
       "Chart (M, (T, X, th, ph))"
      ]
     },
     "execution_count": 11,
     "metadata": {},
     "output_type": "execute_result"
    }
   ],
   "source": [
    "X_KS.<T,X,th,ph> = M.chart(r'T X th:(0,pi):\\theta ph:(0,2*pi):\\phi')\n",
    "X_KS.add_restrictions(T^2 < 1 + X^2)\n",
    "X_KS"
   ]
  },
  {
   "cell_type": "code",
   "execution_count": 12,
   "metadata": {
    "collapsed": false,
    "deletable": true,
    "editable": true
   },
   "outputs": [
    {
     "data": {
      "text/html": [
       "<html><script type=\"math/tex; mode=display\">\\newcommand{\\Bold}[1]{\\mathbf{#1}}\\left(M_{\\rm I},(T, X, {\\theta}, {\\phi})\\right)</script></html>"
      ],
      "text/plain": [
       "Chart (M_I, (T, X, th, ph))"
      ]
     },
     "execution_count": 12,
     "metadata": {},
     "output_type": "execute_result"
    }
   ],
   "source": [
    "X_KS_I = X_KS.restrict(M_I, [X>0, T<X, T>-X]) ; X_KS_I "
   ]
  },
  {
   "cell_type": "code",
   "execution_count": 13,
   "metadata": {
    "collapsed": false,
    "deletable": true,
    "editable": true
   },
   "outputs": [
    {
     "data": {
      "text/html": [
       "<html><script type=\"math/tex; mode=display\">\\newcommand{\\Bold}[1]{\\mathbf{#1}}\\left(M_{\\rm II},(T, X, {\\theta}, {\\phi})\\right)</script></html>"
      ],
      "text/plain": [
       "Chart (M_II, (T, X, th, ph))"
      ]
     },
     "execution_count": 13,
     "metadata": {},
     "output_type": "execute_result"
    }
   ],
   "source": [
    "X_KS_II = X_KS.restrict(M_II, [T>0, T>abs(X)]) ; X_KS_II"
   ]
  },
  {
   "cell_type": "code",
   "execution_count": 14,
   "metadata": {
    "collapsed": false,
    "deletable": true,
    "editable": true
   },
   "outputs": [
    {
     "data": {
      "text/html": [
       "<html><script type=\"math/tex; mode=display\">\\newcommand{\\Bold}[1]{\\mathbf{#1}}\\left\\{\\begin{array}{lcl} T & = & \\sqrt{\\frac{r}{2 \\, m} - 1} e^{\\left(\\frac{r}{4 \\, m}\\right)} \\sinh\\left(\\frac{t}{4 \\, m}\\right) \\\\ X & = & \\sqrt{\\frac{r}{2 \\, m} - 1} \\cosh\\left(\\frac{t}{4 \\, m}\\right) e^{\\left(\\frac{r}{4 \\, m}\\right)} \\\\ {\\theta} & = & {\\theta} \\\\ {\\phi} & = & {\\phi} \\end{array}\\right.</script></html>"
      ],
      "text/plain": [
       "T = sqrt(1/2*r/m - 1)*e^(1/4*r/m)*sinh(1/4*t/m)\n",
       "X = sqrt(1/2*r/m - 1)*cosh(1/4*t/m)*e^(1/4*r/m)\n",
       "th = th\n",
       "ph = ph"
      ]
     },
     "execution_count": 14,
     "metadata": {},
     "output_type": "execute_result"
    }
   ],
   "source": [
    "SD_I_to_KS = X_SD_I.transition_map(X_KS_I, [sqrt(r/(2*m)-1)*exp(r/(4*m))*sinh(t/(4*m)), \n",
    "                                            sqrt(r/(2*m)-1)*exp(r/(4*m))*cosh(t/(4*m)), \n",
    "                                            th, ph])\n",
    "SD_I_to_KS.display()"
   ]
  },
  {
   "cell_type": "code",
   "execution_count": 15,
   "metadata": {
    "collapsed": false,
    "deletable": true,
    "editable": true
   },
   "outputs": [
    {
     "data": {
      "text/html": [
       "<html><script type=\"math/tex; mode=display\">\\newcommand{\\Bold}[1]{\\mathbf{#1}}\\left\\{\\begin{array}{lcl} T & = & \\sqrt{-\\frac{r}{2 \\, m} + 1} \\cosh\\left(\\frac{t}{4 \\, m}\\right) e^{\\left(\\frac{r}{4 \\, m}\\right)} \\\\ X & = & \\sqrt{-\\frac{r}{2 \\, m} + 1} e^{\\left(\\frac{r}{4 \\, m}\\right)} \\sinh\\left(\\frac{t}{4 \\, m}\\right) \\\\ {\\theta} & = & {\\theta} \\\\ {\\phi} & = & {\\phi} \\end{array}\\right.</script></html>"
      ],
      "text/plain": [
       "T = sqrt(-1/2*r/m + 1)*cosh(1/4*t/m)*e^(1/4*r/m)\n",
       "X = sqrt(-1/2*r/m + 1)*e^(1/4*r/m)*sinh(1/4*t/m)\n",
       "th = th\n",
       "ph = ph"
      ]
     },
     "execution_count": 15,
     "metadata": {},
     "output_type": "execute_result"
    }
   ],
   "source": [
    "SD_II_to_KS = X_SD_II.transition_map(X_KS_II, [sqrt(1-r/(2*m))*exp(r/(4*m))*cosh(t/(4*m)), \n",
    "                                               sqrt(1-r/(2*m))*exp(r/(4*m))*sinh(t/(4*m)), \n",
    "                                               th, ph])\n",
    "SD_II_to_KS.display()"
   ]
  },
  {
   "cell_type": "markdown",
   "metadata": {
    "deletable": true,
    "editable": true
   },
   "source": [
    "### Plot of Schwarzschild-Droste grid on $M_{\\rm I}$ in terms of KS coordinates"
   ]
  },
  {
   "cell_type": "code",
   "execution_count": 16,
   "metadata": {
    "collapsed": false,
    "deletable": true,
    "editable": true
   },
   "outputs": [],
   "source": [
    "graph = X_SD_I.plot(X_KS, ambient_coords=(X,T), fixed_coords={th:pi/2,ph:pi}, \n",
    "                    ranges={t:(-10,10), r:(2.001,5)}, steps={t:1, r:0.5}, \n",
    "                    style={t:'--', r:'-'}, color='blue', parameters={m:1})"
   ]
  },
  {
   "cell_type": "markdown",
   "metadata": {
    "deletable": true,
    "editable": true
   },
   "source": [
    "Adding the Schwarzschild horizon to the plot:"
   ]
  },
  {
   "cell_type": "code",
   "execution_count": 17,
   "metadata": {
    "collapsed": false,
    "deletable": true,
    "editable": true
   },
   "outputs": [],
   "source": [
    "hor = line([(0,0), (4,4)], color='black', thickness=2) \\\n",
    "      + text(r'$\\mathscr{H}$', (3, 2.7), fontsize=20, color='black')"
   ]
  },
  {
   "cell_type": "code",
   "execution_count": 18,
   "metadata": {
    "collapsed": false,
    "deletable": true,
    "editable": true
   },
   "outputs": [
    {
     "data": {
      "image/png": "[encoded data removed]",
      "text/plain": [
       "Graphics object consisting of 30 graphics primitives"
      ]
     },
     "metadata": {},
     "output_type": "display_data"
    }
   ],
   "source": [
    "hor2 = line([(0,0), (4,4)], color='black', thickness=2) \\\n",
    "      + text(r'$\\mathscr{H}$', (2.95, 3.2), fontsize=20, color='black')\n",
    "region_labels = text(r'$\\mathscr{M}_{\\rm I}$', (2.4, 0.4), fontsize=20, color='blue') \n",
    "graph2 = graph + hor2 + region_labels\n",
    "show(graph2, xmin=-3, xmax=3, ymin=-3, ymax=3)"
   ]
  },
  {
   "cell_type": "markdown",
   "metadata": {
    "deletable": true,
    "editable": true
   },
   "source": [
    "Adding the curvature singularity $r=0$ to the plot:"
   ]
  },
  {
   "cell_type": "code",
   "execution_count": 19,
   "metadata": {
    "collapsed": false,
    "deletable": true,
    "editable": true
   },
   "outputs": [],
   "source": [
    "sing = X_SD_II.plot(X_KS, fixed_coords={r:0, th:pi/2, ph:pi}, ambient_coords=(X,T), \n",
    "                    color='brown', thickness=4, style='--', parameters={m:1}) \\\n",
    "       + text(r'$r=0$', (2.5, 3), rotation=45, fontsize=16, color='brown')"
   ]
  },
  {
   "cell_type": "code",
   "execution_count": 20,
   "metadata": {
    "collapsed": false,
    "deletable": true,
    "editable": true
   },
   "outputs": [
    {
     "data": {
      "image/png": "[encoded data removed]",
      "text/plain": [
       "Graphics object consisting of 58 graphics primitives"
      ]
     },
     "metadata": {},
     "output_type": "display_data"
    }
   ],
   "source": [
    "graph += X_SD_II.plot(X_KS, ambient_coords=(X,T), fixed_coords={th:pi/2,ph:pi}, \n",
    "                      ranges={t:(-10,10), r:(0.001,1.999)}, steps={t:1, r:0.5}, \n",
    "                      style={t:'--', r:'-'}, color='steelblue', parameters={m:1})\n",
    "region_labels = text(r'$\\mathscr{M}_{\\rm I}$', (2.4, 0.4), fontsize=20, color='blue') + \\\n",
    "                text(r'$\\mathscr{M}_{\\rm II}$', (0, 0.5), fontsize=20, color='steelblue') \n",
    "graph += hor + sing + region_labels\n",
    "show(graph, xmin=-3, xmax=3, ymin=-3, ymax=3)"
   ]
  },
  {
   "cell_type": "markdown",
   "metadata": {
    "deletable": true,
    "editable": true
   },
   "source": [
    "## Extension to $M_{\\rm III}$ and $M_{\\rm IV}$"
   ]
  },
  {
   "cell_type": "code",
   "execution_count": 21,
   "metadata": {
    "collapsed": false,
    "deletable": true,
    "editable": true
   },
   "outputs": [
    {
     "data": {
      "text/html": [
       "<html><script type=\"math/tex; mode=display\">\\newcommand{\\Bold}[1]{\\mathbf{#1}}\\left(M_{\\rm III},(T, X, {\\theta}, {\\phi})\\right)</script></html>"
      ],
      "text/plain": [
       "Chart (M_III, (T, X, th, ph))"
      ]
     },
     "execution_count": 21,
     "metadata": {},
     "output_type": "execute_result"
    }
   ],
   "source": [
    "M_III = M.open_subset('M_III', latex_name=r'M_{\\rm III}', coord_def={X_KS: [X<0, X<T, T<-X]})\n",
    "X_KS_III = X_KS.restrict(M_III) ; X_KS_III"
   ]
  },
  {
   "cell_type": "code",
   "execution_count": 22,
   "metadata": {
    "collapsed": false,
    "deletable": true,
    "editable": true
   },
   "outputs": [
    {
     "data": {
      "text/html": [
       "<html><script type=\"math/tex; mode=display\">\\newcommand{\\Bold}[1]{\\mathbf{#1}}\\left(M_{\\rm IV},(T, X, {\\theta}, {\\phi})\\right)</script></html>"
      ],
      "text/plain": [
       "Chart (M_IV, (T, X, th, ph))"
      ]
     },
     "execution_count": 22,
     "metadata": {},
     "output_type": "execute_result"
    }
   ],
   "source": [
    "M_IV = M.open_subset('M_IV', latex_name=r'M_{\\rm IV}', coord_def={X_KS: [T<0, T<-abs(X)]})\n",
    "X_KS_IV = X_KS.restrict(M_IV) ; X_KS_IV"
   ]
  },
  {
   "cell_type": "markdown",
   "metadata": {
    "deletable": true,
    "editable": true
   },
   "source": [
    "Schwarzschild-Droste coordinates in $M_{\\rm III}$ and $M_{\\rm IV}$:"
   ]
  },
  {
   "cell_type": "code",
   "execution_count": 23,
   "metadata": {
    "collapsed": false,
    "deletable": true,
    "editable": true
   },
   "outputs": [
    {
     "data": {
      "text/html": [
       "<html><script type=\"math/tex; mode=display\">\\newcommand{\\Bold}[1]{\\mathbf{#1}}\\left(M_{\\rm III},(t, r, {\\theta}, {\\phi})\\right)</script></html>"
      ],
      "text/plain": [
       "Chart (M_III, (t, r, th, ph))"
      ]
     },
     "execution_count": 23,
     "metadata": {},
     "output_type": "execute_result"
    }
   ],
   "source": [
    "X_SD_III.<t,r,th,ph> = M_III.chart(r't r:(2*m,+oo) th:(0,pi):\\theta ph:(0,2*pi):\\phi')\n",
    "X_SD_III"
   ]
  },
  {
   "cell_type": "code",
   "execution_count": 24,
   "metadata": {
    "collapsed": false,
    "deletable": true,
    "editable": true
   },
   "outputs": [
    {
     "data": {
      "text/html": [
       "<html><script type=\"math/tex; mode=display\">\\newcommand{\\Bold}[1]{\\mathbf{#1}}\\left\\{\\begin{array}{lcl} T & = & -\\sqrt{\\frac{r}{2 \\, m} - 1} e^{\\left(\\frac{r}{4 \\, m}\\right)} \\sinh\\left(\\frac{t}{4 \\, m}\\right) \\\\ X & = & -\\sqrt{\\frac{r}{2 \\, m} - 1} \\cosh\\left(\\frac{t}{4 \\, m}\\right) e^{\\left(\\frac{r}{4 \\, m}\\right)} \\\\ {\\theta} & = & {\\theta} \\\\ {\\phi} & = & {\\phi} \\end{array}\\right.</script></html>"
      ],
      "text/plain": [
       "T = -sqrt(1/2*r/m - 1)*e^(1/4*r/m)*sinh(1/4*t/m)\n",
       "X = -sqrt(1/2*r/m - 1)*cosh(1/4*t/m)*e^(1/4*r/m)\n",
       "th = th\n",
       "ph = ph"
      ]
     },
     "execution_count": 24,
     "metadata": {},
     "output_type": "execute_result"
    }
   ],
   "source": [
    "SD_III_to_KS = X_SD_III.transition_map(X_KS_III, [-sqrt(r/(2*m)-1)*exp(r/(4*m))*sinh(t/(4*m)), \n",
    "                                                  - sqrt(r/(2*m)-1)*exp(r/(4*m))*cosh(t/(4*m)), \n",
    "                                                  th, ph])\n",
    "SD_III_to_KS.display()"
   ]
  },
  {
   "cell_type": "code",
   "execution_count": 25,
   "metadata": {
    "collapsed": false,
    "deletable": true,
    "editable": true
   },
   "outputs": [
    {
     "data": {
      "text/html": [
       "<html><script type=\"math/tex; mode=display\">\\newcommand{\\Bold}[1]{\\mathbf{#1}}\\left(M_{\\rm IV},(t, r, {\\theta}, {\\phi})\\right)</script></html>"
      ],
      "text/plain": [
       "Chart (M_IV, (t, r, th, ph))"
      ]
     },
     "execution_count": 25,
     "metadata": {},
     "output_type": "execute_result"
    }
   ],
   "source": [
    "X_SD_IV.<t,r,th,ph> = M_IV.chart(r't r:(0,2*m) th:(0,pi):\\theta ph:(0,2*pi):\\phi')\n",
    "X_SD_IV"
   ]
  },
  {
   "cell_type": "code",
   "execution_count": 26,
   "metadata": {
    "collapsed": false,
    "deletable": true,
    "editable": true
   },
   "outputs": [
    {
     "data": {
      "text/html": [
       "<html><script type=\"math/tex; mode=display\">\\newcommand{\\Bold}[1]{\\mathbf{#1}}\\left\\{\\begin{array}{lcl} T & = & -\\sqrt{-\\frac{r}{2 \\, m} + 1} \\cosh\\left(\\frac{t}{4 \\, m}\\right) e^{\\left(\\frac{r}{4 \\, m}\\right)} \\\\ X & = & -\\sqrt{-\\frac{r}{2 \\, m} + 1} e^{\\left(\\frac{r}{4 \\, m}\\right)} \\sinh\\left(\\frac{t}{4 \\, m}\\right) \\\\ {\\theta} & = & {\\theta} \\\\ {\\phi} & = & {\\phi} \\end{array}\\right.</script></html>"
      ],
      "text/plain": [
       "T = -sqrt(-1/2*r/m + 1)*cosh(1/4*t/m)*e^(1/4*r/m)\n",
       "X = -sqrt(-1/2*r/m + 1)*e^(1/4*r/m)*sinh(1/4*t/m)\n",
       "th = th\n",
       "ph = ph"
      ]
     },
     "execution_count": 26,
     "metadata": {},
     "output_type": "execute_result"
    }
   ],
   "source": [
    "SD_IV_to_KS = X_SD_IV.transition_map(X_KS_IV, [-sqrt(1-r/(2*m))*exp(r/(4*m))*cosh(t/(4*m)), \n",
    "                                               -sqrt(1-r/(2*m))*exp(r/(4*m))*sinh(t/(4*m)), \n",
    "                                                th, ph])\n",
    "SD_IV_to_KS.display()"
   ]
  },
  {
   "cell_type": "markdown",
   "metadata": {
    "collapsed": true,
    "deletable": true,
    "editable": true
   },
   "source": [
    "## Frolov-Novikov coordinates\n",
    "\n",
    "The coordinates $(\\tilde T, \\tilde X, \\theta, \\varphi)$ associated with the conformal compactification of the Schwarzschild spacetime are"
   ]
  },
  {
   "cell_type": "code",
   "execution_count": 27,
   "metadata": {
    "collapsed": false,
    "deletable": true,
    "editable": true
   },
   "outputs": [
    {
     "data": {
      "text/html": [
       "<html><script type=\"math/tex; mode=display\">\\newcommand{\\Bold}[1]{\\mathbf{#1}}\\left(M,({\\tilde{T}}, {\\tilde{X}}, {\\theta}, {\\varphi})\\right)</script></html>"
      ],
      "text/plain": [
       "Chart (M, (T1, X1, th, ph))"
      ]
     },
     "execution_count": 27,
     "metadata": {},
     "output_type": "execute_result"
    }
   ],
   "source": [
    "X_C.<T1,X1,th,ph> = M.chart(r'T1:(-pi,pi):\\tilde{T} X1:(-pi,pi):\\tilde{X} th:(0,pi):\\theta ph:(0,2*pi):\\varphi')\n",
    "X_C.add_restrictions([abs(T1-X1)<pi, abs(T1+X1)<pi, \n",
    "                      sinh(tan((T1-X1)/2))*sinh(tan((T1+X1)/2))<1])\n",
    "X_C"
   ]
  },
  {
   "cell_type": "markdown",
   "metadata": {
    "deletable": true,
    "editable": true
   },
   "source": [
    "The chart of compactified coordinates plotted in terms of itself:"
   ]
  },
  {
   "cell_type": "code",
   "execution_count": 28,
   "metadata": {
    "collapsed": false,
    "deletable": true,
    "editable": true
   },
   "outputs": [
    {
     "data": {
      "image/png": "[encoded data removed]",
      "text/plain": [
       "Graphics object consisting of 158 graphics primitives"
      ]
     },
     "execution_count": 28,
     "metadata": {},
     "output_type": "execute_result"
    }
   ],
   "source": [
    "X_C.plot(X_C, ambient_coords=(X1,T1), number_values=100)"
   ]
  },
  {
   "cell_type": "markdown",
   "metadata": {
    "deletable": true,
    "editable": true
   },
   "source": [
    "The transition map from Kruskal-Szekeres coordinates to the compactified ones:"
   ]
  },
  {
   "cell_type": "code",
   "execution_count": null,
   "metadata": {
    "collapsed": false,
    "deletable": true,
    "editable": true
   },
   "outputs": [
    {
     "name": "stdout",
     "output_type": "stream",
     "text": [
      "Change of coordinates from Chart (M, (T, X, th, ph)) to Chart (M, (T1, X1, th, ph))\n"
     ]
    },
    {
     "data": {
      "text/html": [
       "<html><script type=\"math/tex; mode=display\">\\newcommand{\\Bold}[1]{\\mathbf{#1}}\\left\\{\\begin{array}{lcl} {\\tilde{T}} & = & \\arctan\\left({\\rm arcsinh}\\left(T + X\\right)\\right) + \\arctan\\left({\\rm arcsinh}\\left(T - X\\right)\\right) \\\\ {\\tilde{X}} & = & \\arctan\\left({\\rm arcsinh}\\left(T + X\\right)\\right) - \\arctan\\left({\\rm arcsinh}\\left(T - X\\right)\\right) \\\\ {\\theta} & = & {\\theta} \\\\ {\\varphi} & = & {\\varphi} \\end{array}\\right.</script></html>"
      ],
      "text/plain": [
       "T1 = arctan(arcsinh(T + X)) + arctan(arcsinh(T - X))\n",
       "X1 = arctan(arcsinh(T + X)) - arctan(arcsinh(T - X))\n",
       "th = th\n",
       "ph = ph"
      ]
     },
     "execution_count": 29,
     "metadata": {},
     "output_type": "execute_result"
    }
   ],
   "source": [
    "KS_to_C = X_KS.transition_map(X_C, [atan(asinh(T+X))+atan(asinh(T-X)),\n",
    "                                    atan(asinh(T+X))-atan(asinh(T-X)), \n",
    "                                    th, ph])\n",
    "print(KS_to_C)\n",
    "KS_to_C.display()"
   ]
  },
  {
   "cell_type": "markdown",
   "metadata": {
    "deletable": true,
    "editable": true
   },
   "source": [
    "### Transition map between the Schwarzschild-Droste chart and the chart of compactified coordinates\n",
    "\n",
    "The transition map is obtained by composition of previously defined ones:"
   ]
  },
  {
   "cell_type": "code",
   "execution_count": null,
   "metadata": {
    "collapsed": false,
    "deletable": true,
    "editable": true
   },
   "outputs": [],
   "source": [
    "SD_I_to_C = KS_to_C.restrict(M_I) * SD_I_to_KS\n",
    "print(SD_I_to_C)\n",
    "SD_I_to_C.display()"
   ]
  },
  {
   "cell_type": "code",
   "execution_count": null,
   "metadata": {
    "collapsed": false,
    "deletable": true,
    "editable": true
   },
   "outputs": [],
   "source": [
    "SD_II_to_C = KS_to_C.restrict(M_II) * SD_II_to_KS\n",
    "print(SD_II_to_C)\n",
    "SD_II_to_C.display()"
   ]
  },
  {
   "cell_type": "code",
   "execution_count": null,
   "metadata": {
    "collapsed": false,
    "deletable": true,
    "editable": true
   },
   "outputs": [],
   "source": [
    "SD_III_to_C = KS_to_C.restrict(M_III) * SD_III_to_KS\n",
    "print(SD_III_to_C)\n",
    "SD_III_to_C.display()"
   ]
  },
  {
   "cell_type": "code",
   "execution_count": null,
   "metadata": {
    "collapsed": false,
    "deletable": true,
    "editable": true
   },
   "outputs": [],
   "source": [
    "SD_IV_to_C = KS_to_C.restrict(M_IV) * SD_IV_to_KS\n",
    "print(SD_IV_to_C)\n",
    "SD_IV_to_C.display()"
   ]
  },
  {
   "cell_type": "markdown",
   "metadata": {
    "deletable": true,
    "editable": true
   },
   "source": [
    "##  Carter-Penrose diagram\n",
    "\n",
    "The diagram is obtained by plotting the curves of constant Schwarzschild-Droste coordinates with respect to the compactified chart."
   ]
  },
  {
   "cell_type": "code",
   "execution_count": null,
   "metadata": {
    "collapsed": false,
    "deletable": true,
    "editable": true
   },
   "outputs": [],
   "source": [
    "r_tab = [2.01*m, 2.1*m, 2.5*m, 4*m, 8*m, 12*m, 20*m, 100*m]\n",
    "curves_t = dict()\n",
    "for r0 in r_tab:\n",
    "    curves_t[r0] = M.curve({X_SD_I: [t, r0, pi/2, pi]}, (t,-oo,+oo))\n",
    "    curves_t[r0].coord_expr(X_C.restrict(M_I))"
   ]
  },
  {
   "cell_type": "code",
   "execution_count": null,
   "metadata": {
    "collapsed": false,
    "deletable": true,
    "editable": true,
    "scrolled": true
   },
   "outputs": [],
   "source": [
    "graph_t = Graphics()\n",
    "for r0 in r_tab:\n",
    "    graph_t += curves_t[r0].plot(X_C, ambient_coords=(X1,T1), prange=(-150, -10), \n",
    "                                 parameters={m:1}, plot_points=100, color='blue', style='--')\n",
    "    graph_t += curves_t[r0].plot(X_C, ambient_coords=(X1,T1), prange=(-10, 10), \n",
    "                                 parameters={m:1}, plot_points=100, color='blue', style='--')\n",
    "    graph_t += curves_t[r0].plot(X_C, ambient_coords=(X1,T1), prange=(10, 150), \n",
    "                                 parameters={m:1}, plot_points=100, color='blue', style='--')"
   ]
  },
  {
   "cell_type": "code",
   "execution_count": null,
   "metadata": {
    "collapsed": false,
    "deletable": true,
    "editable": true
   },
   "outputs": [],
   "source": [
    "t_tab = [-50*m, -20*m, -10*m, -5*m, -2*m, 0, 2*m, 5*m, 10*m, 20*m, 50*m]\n",
    "curves_r = dict()\n",
    "for t0 in t_tab:\n",
    "    curves_r[t0] = M.curve({X_SD_I: [t0, r, pi/2, pi]}, (r, 2*m, +oo))\n",
    "    curves_r[t0].coord_expr(X_C.restrict(M_I))"
   ]
  },
  {
   "cell_type": "code",
   "execution_count": null,
   "metadata": {
    "collapsed": true,
    "deletable": true,
    "editable": true
   },
   "outputs": [],
   "source": [
    "graph_r = Graphics()\n",
    "for t0 in t_tab:\n",
    "    graph_r += curves_r[t0].plot(X_C, ambient_coords=(X1,T1), prange=(2.0001, 4), \n",
    "                                 parameters={m:1}, plot_points=100, color='blue')    \n",
    "    graph_r += curves_r[t0].plot(X_C, ambient_coords=(X1,T1), prange=(4, 1000), \n",
    "                                 parameters={m:1}, plot_points=100, color='blue')"
   ]
  },
  {
   "cell_type": "code",
   "execution_count": null,
   "metadata": {
    "collapsed": true,
    "deletable": true,
    "editable": true
   },
   "outputs": [],
   "source": [
    "bifhor = line([(-pi/2,-pi/2), (pi/2,pi/2)], color='black', thickness=3) + \\\n",
    "         line([(-pi/2,pi/2), (pi/2,-pi/2)], color='black', thickness=3) + \\\n",
    "         text(r'$\\mathscr{H}$', (1, 1.2), fontsize=20, color='black')"
   ]
  },
  {
   "cell_type": "code",
   "execution_count": null,
   "metadata": {
    "collapsed": false,
    "deletable": true,
    "editable": true
   },
   "outputs": [],
   "source": [
    "sing1 = X_SD_II.plot(X_C, fixed_coords={r:0, th:pi/2, ph:pi}, ambient_coords=(X1,T1),\n",
    "                    max_range=200, number_values=30, color='brown', thickness=3, \n",
    "                    style='--', parameters={m:1}) + \\\n",
    "        text(r'$r=0$', (0.4, 1.55), fontsize=16, color='brown')\n",
    "sing2 = X_SD_IV.plot(X_C, fixed_coords={r:0, th:pi/2, ph:pi}, ambient_coords=(X1,T1),\n",
    "                    max_range=200, number_values=30, color='brown', thickness=3, \n",
    "                    style='--', parameters={m:1}) + \\\n",
    "        text(r\"$r'=0$\", (0.4, -1.55), fontsize=16, color='brown')\n",
    "sing = sing1 + sing2"
   ]
  },
  {
   "cell_type": "code",
   "execution_count": null,
   "metadata": {
    "collapsed": true,
    "deletable": true,
    "editable": true
   },
   "outputs": [],
   "source": [
    "scri = line([(pi,0), (pi/2,pi/2)], color='green', thickness=3) + \\\n",
    "       text(r\"$\\mathscr{I}^+$\", (2.6, 0.9), fontsize=20, color='green') + \\\n",
    "       line([(pi/2, -pi/2), (pi,0)], color='green', thickness=3) + \\\n",
    "       text(r\"$\\mathscr{I}^-$\", (2.55, -0.9), fontsize=20, color='green') + \\\n",
    "       line([(-pi,0), (-pi/2,pi/2)], color='green', thickness=3) + \\\n",
    "       text(r\"${\\mathscr{I}'}^+$\", (-2.55, 0.9), fontsize=20, color='green') + \\\n",
    "       line([(-pi/2, -pi/2), (-pi,0)], color='green', thickness=3) + \\\n",
    "       text(r\"${\\mathscr{I}'}^-$\", (-2.6, -0.9), fontsize=20, color='green')"
   ]
  },
  {
   "cell_type": "code",
   "execution_count": null,
   "metadata": {
    "collapsed": true,
    "deletable": true,
    "editable": true
   },
   "outputs": [],
   "source": [
    "region_labels = text(r'$\\mathscr{M}_{\\rm I}$', (2, 0.4), fontsize=20, color='blue', \n",
    "                     background_color='white') + \\\n",
    "                text(r'$\\mathscr{M}_{\\rm II}$', (0.4, 1), fontsize=20, color='steelblue',\n",
    "                     background_color='white') + \\\n",
    "                text(r'$\\mathscr{M}_{\\rm III}$', (-2, 0.4), fontsize=20, color='chocolate',\n",
    "                     background_color='white') + \\\n",
    "                text(r'$\\mathscr{M}_{\\rm IV}$', (0.4, -1), fontsize=20, color='gold',\n",
    "                     background_color='white')"
   ]
  },
  {
   "cell_type": "code",
   "execution_count": null,
   "metadata": {
    "collapsed": false,
    "deletable": true,
    "editable": true
   },
   "outputs": [],
   "source": [
    "graph = graph_t + graph_r\n",
    "show(graph + bifhor + sing + scri, aspect_ratio=1)"
   ]
  },
  {
   "cell_type": "code",
   "execution_count": null,
   "metadata": {
    "collapsed": false,
    "deletable": true,
    "editable": true
   },
   "outputs": [],
   "source": [
    "r_tab = [0.1*m, 0.5*m, m, 1.25*m, 1.5*m, 1.7*m, 1.9*m, 1.98*m]\n",
    "curves_t = dict()\n",
    "for r0 in r_tab:\n",
    "    curves_t[r0] = M.curve({X_SD_II: [t, r0, pi/2, pi]}, (t,-oo,+oo))\n",
    "    curves_t[r0].coord_expr(X_C.restrict(M_II))"
   ]
  },
  {
   "cell_type": "code",
   "execution_count": null,
   "metadata": {
    "collapsed": true,
    "deletable": true,
    "editable": true
   },
   "outputs": [],
   "source": [
    "graph_t = Graphics()\n",
    "for r0 in r_tab:\n",
    "    graph_t += curves_t[r0].plot(X_C, ambient_coords=(X1,T1), prange=(-150, -2), \n",
    "                                 parameters={m:1}, plot_points=50, color='steelblue', style='--')\n",
    "    graph_t += curves_t[r0].plot(X_C, ambient_coords=(X1,T1), prange=(-2, 2), \n",
    "                                 parameters={m:1}, plot_points=50, color='steelblue', style='--')\n",
    "    graph_t += curves_t[r0].plot(X_C, ambient_coords=(X1,T1), prange=(2, 150), \n",
    "                                 parameters={m:1}, plot_points=50, color='steelblue', style='--')"
   ]
  },
  {
   "cell_type": "code",
   "execution_count": null,
   "metadata": {
    "collapsed": false,
    "deletable": true,
    "editable": true
   },
   "outputs": [],
   "source": [
    "t_tab = [-20*m, -10*m, -5*m, -2*m, 0, 2*m, 5*m, 10*m, 20*m]\n",
    "curves_r = dict()\n",
    "for t0 in t_tab:\n",
    "    curves_r[t0] = M.curve({X_SD_II: [t0, r, pi/2, pi]}, (r, 0, 2*m))\n",
    "    curves_r[t0].coord_expr(X_C.restrict(M_II))"
   ]
  },
  {
   "cell_type": "code",
   "execution_count": null,
   "metadata": {
    "collapsed": true,
    "deletable": true,
    "editable": true
   },
   "outputs": [],
   "source": [
    "graph_r = Graphics()\n",
    "for t0 in t_tab:\n",
    "    graph_r += curves_r[t0].plot(X_C, ambient_coords=(X1,T1), prange=(0.001, 1.9999), \n",
    "                                 parameters={m:1}, plot_points=100, color='steelblue')    "
   ]
  },
  {
   "cell_type": "code",
   "execution_count": null,
   "metadata": {
    "collapsed": false,
    "deletable": true,
    "editable": true
   },
   "outputs": [],
   "source": [
    "graph += graph_t + graph_r\n",
    "show(graph + bifhor + sing + scri + region_labels, aspect_ratio=1)"
   ]
  },
  {
   "cell_type": "code",
   "execution_count": null,
   "metadata": {
    "collapsed": true,
    "deletable": true,
    "editable": true
   },
   "outputs": [],
   "source": [
    "r_tab = [2.01*m, 2.1*m, 2.5*m, 4*m, 8*m, 12*m, 20*m, 100*m]\n",
    "curves_t = dict()\n",
    "for r0 in r_tab:\n",
    "    curves_t[r0] = M.curve({X_SD_III: [t, r0, pi/2, pi]}, (t,-oo,+oo))\n",
    "    curves_t[r0].coord_expr(X_C.restrict(M_III))"
   ]
  },
  {
   "cell_type": "code",
   "execution_count": null,
   "metadata": {
    "collapsed": true,
    "deletable": true,
    "editable": true
   },
   "outputs": [],
   "source": [
    "graph_t = Graphics()\n",
    "for r0 in r_tab:\n",
    "    graph_t += curves_t[r0].plot(X_C, ambient_coords=(X1,T1), prange=(-150, -10), \n",
    "                                 parameters={m:1}, plot_points=100, color='chocolate', style='--')\n",
    "    graph_t += curves_t[r0].plot(X_C, ambient_coords=(X1,T1), prange=(-10, 10), \n",
    "                                 parameters={m:1}, plot_points=100, color='chocolate', style='--')\n",
    "    graph_t += curves_t[r0].plot(X_C, ambient_coords=(X1,T1), prange=(10, 150), \n",
    "                                 parameters={m:1}, plot_points=100, color='chocolate', style='--')"
   ]
  },
  {
   "cell_type": "code",
   "execution_count": null,
   "metadata": {
    "collapsed": true,
    "deletable": true,
    "editable": true
   },
   "outputs": [],
   "source": [
    "t_tab = [-50*m, -20*m, -10*m, -5*m, -2*m, 0, 2*m, 5*m, 10*m, 20*m, 50*m]\n",
    "curves_r = dict()\n",
    "for t0 in t_tab:\n",
    "    curves_r[t0] = M.curve({X_SD_III: [t0, r, pi/2, pi]}, (r, 2*m, +oo))\n",
    "    curves_r[t0].coord_expr(X_C.restrict(M_III))"
   ]
  },
  {
   "cell_type": "code",
   "execution_count": null,
   "metadata": {
    "collapsed": true,
    "deletable": true,
    "editable": true
   },
   "outputs": [],
   "source": [
    "graph_r = Graphics()\n",
    "for t0 in t_tab:\n",
    "    graph_r += curves_r[t0].plot(X_C, ambient_coords=(X1,T1), prange=(2.0001, 4), \n",
    "                                 parameters={m:1}, plot_points=100, color='chocolate')    \n",
    "    graph_r += curves_r[t0].plot(X_C, ambient_coords=(X1,T1), prange=(4, 1000), \n",
    "                                 parameters={m:1}, plot_points=100, color='chocolate')"
   ]
  },
  {
   "cell_type": "code",
   "execution_count": null,
   "metadata": {
    "collapsed": false,
    "deletable": true,
    "editable": true
   },
   "outputs": [],
   "source": [
    "graph += graph_t + graph_r\n",
    "show(graph + bifhor + sing + scri + region_labels, aspect_ratio=1)"
   ]
  },
  {
   "cell_type": "code",
   "execution_count": null,
   "metadata": {
    "collapsed": true,
    "deletable": true,
    "editable": true
   },
   "outputs": [],
   "source": [
    "r_tab = [0.1*m, 0.5*m, m, 1.25*m, 1.5*m, 1.7*m, 1.9*m, 1.98*m]\n",
    "curves_t = dict()\n",
    "for r0 in r_tab:\n",
    "    curves_t[r0] = M.curve({X_SD_IV: [t, r0, pi/2, pi]}, (t,-oo,+oo))\n",
    "    curves_t[r0].coord_expr(X_C.restrict(M_IV))"
   ]
  },
  {
   "cell_type": "code",
   "execution_count": null,
   "metadata": {
    "collapsed": true,
    "deletable": true,
    "editable": true
   },
   "outputs": [],
   "source": [
    "graph_t = Graphics()\n",
    "for r0 in r_tab:\n",
    "    graph_t += curves_t[r0].plot(X_C, ambient_coords=(X1,T1), prange=(-150, -2), \n",
    "                                 parameters={m:1}, plot_points=50, color='gold', style='--')\n",
    "    graph_t += curves_t[r0].plot(X_C, ambient_coords=(X1,T1), prange=(-2, 2), \n",
    "                                 parameters={m:1}, plot_points=50, color='gold', style='--')\n",
    "    graph_t += curves_t[r0].plot(X_C, ambient_coords=(X1,T1), prange=(2, 150), \n",
    "                                 parameters={m:1}, plot_points=50, color='gold', style='--')"
   ]
  },
  {
   "cell_type": "code",
   "execution_count": null,
   "metadata": {
    "collapsed": true,
    "deletable": true,
    "editable": true
   },
   "outputs": [],
   "source": [
    "t_tab = [-20*m, -10*m, -5*m, -2*m, 0, 2*m, 5*m, 10*m, 20*m]\n",
    "curves_r = dict()\n",
    "for t0 in t_tab:\n",
    "    curves_r[t0] = M.curve({X_SD_IV: [t0, r, pi/2, pi]}, (r, 0, 2*m))\n",
    "    curves_r[t0].coord_expr(X_C.restrict(M_IV))"
   ]
  },
  {
   "cell_type": "code",
   "execution_count": null,
   "metadata": {
    "collapsed": true,
    "deletable": true,
    "editable": true
   },
   "outputs": [],
   "source": [
    "graph_r = Graphics()\n",
    "for t0 in t_tab:\n",
    "    graph_r += curves_r[t0].plot(X_C, ambient_coords=(X1,T1), prange=(0.001, 1.9999), \n",
    "                                 parameters={m:1}, plot_points=100, color='gold')    "
   ]
  },
  {
   "cell_type": "code",
   "execution_count": null,
   "metadata": {
    "collapsed": false,
    "deletable": true,
    "editable": true
   },
   "outputs": [],
   "source": [
    "graph += graph_t + graph_r\n",
    "graph += bifhor + sing + scri + region_labels\n",
    "show(graph, aspect_ratio=1)"
   ]
  },
  {
   "cell_type": "code",
   "execution_count": null,
   "metadata": {
    "collapsed": true,
    "deletable": true,
    "editable": true
   },
   "outputs": [],
   "source": [
    "graph.save('max_carter-penrose-FN.pdf', aspect_ratio=1)"
   ]
  }
 ],
 "metadata": {
  "kernelspec": {
   "display_name": "SageMath 8.0.beta6",
   "language": "",
   "name": "sagemath"
  },
  "language_info": {
   "codemirror_mode": {
    "name": "ipython",
    "version": 2
   },
   "file_extension": ".py",
   "mimetype": "text/x-python",
   "name": "python",
   "nbconvert_exporter": "python",
   "pygments_lexer": "ipython2",
   "version": "2.7.13"
  },
  "widgets": {
   "state": {},
   "version": "1.1.2"
  }
 },
 "nbformat": 4,
 "nbformat_minor": 0
}
