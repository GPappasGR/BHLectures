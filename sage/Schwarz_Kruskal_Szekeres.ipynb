{
 "cells": [
  {
   "cell_type": "markdown",
   "metadata": {},
   "source": [
    "# Kruskal-Szekeres coordinates in Schwarzschild spacetime\n",
    "\n",
    "This Jupyter/SageMath worksheet is relative to the lectures\n",
    "[Geometry and physics of black holes](http://luth.obspm.fr/~luthier/gourgoulhon/bh16/)\n",
    "  \n",
    "These computations are based on [SageManifolds](http://sagemanifolds.obspm.fr) (v0.9)\n",
    "\n",
    "Click [here](https://raw.githubusercontent.com/egourgoulhon/BHLectures/master/sage/Schwarz_Kruskal_Szekeres.ipynb) to download the worksheet file (ipynb format). To run it, you must start SageMath with the Jupyter notebook, with the command `sage -n jupyter`"
   ]
  },
  {
   "cell_type": "markdown",
   "metadata": {},
   "source": [
    "First we set up the notebook to display mathematical objects using LaTeX formatting:"
   ]
  },
  {
   "cell_type": "code",
   "execution_count": 1,
   "metadata": {
    "collapsed": true
   },
   "outputs": [],
   "source": [
    "%display latex"
   ]
  },
  {
   "cell_type": "markdown",
   "metadata": {},
   "source": [
    "## Spacetime\n",
    "\n",
    "We declare the spacetime manifold $M$:"
   ]
  },
  {
   "cell_type": "code",
   "execution_count": 2,
   "metadata": {
    "collapsed": false
   },
   "outputs": [
    {
     "name": "stdout",
     "output_type": "stream",
     "text": [
      "4-dimensional differentiable manifold M\n"
     ]
    }
   ],
   "source": [
    "M = Manifold(4, 'M')\n",
    "print(M)"
   ]
  },
  {
   "cell_type": "markdown",
   "metadata": {},
   "source": [
    "## The ingoing Eddington-Finkelstein domain\n",
    "\n",
    "The domain of ingoing Eddington-Finkelstein coordinates $(\\tilde t, r, \\theta, \\phi)$:"
   ]
  },
  {
   "cell_type": "code",
   "execution_count": 3,
   "metadata": {
    "collapsed": false
   },
   "outputs": [],
   "source": [
    "M_EF = M.open_subset('M_EF', latex_name=r'M_{\\rm EF}')"
   ]
  },
  {
   "cell_type": "markdown",
   "metadata": {},
   "source": [
    "## The Schwarzschild-Droste domain\n",
    "\n",
    "The domain of Schwarzschild-Droste coordinates is $M_{\\rm SD} = M_{\\rm I} \\cup M_{\\rm II}$:"
   ]
  },
  {
   "cell_type": "code",
   "execution_count": 4,
   "metadata": {
    "collapsed": false
   },
   "outputs": [],
   "source": [
    "M_SD = M_EF.open_subset('M_SD', latex_name=r'M_{\\rm SD}')\n",
    "M_I = M_SD.open_subset('M_I', latex_name=r'M_{\\rm I}')\n",
    "M_II = M_SD.open_subset('M_II', latex_name=r'M_{\\rm II}')\n",
    "M_SD.declare_union(M_I, M_II)"
   ]
  },
  {
   "cell_type": "markdown",
   "metadata": {},
   "source": [
    "The Schwarzschild-Droste coordinates $(t,r,\\theta,\\phi)$:"
   ]
  },
  {
   "cell_type": "code",
   "execution_count": 5,
   "metadata": {
    "collapsed": false
   },
   "outputs": [
    {
     "data": {
      "text/html": [
       "<html><script type=\"math/tex; mode=display\">\\newcommand{\\Bold}[1]{\\mathbf{#1}}\\left(M_{\\rm SD},(t, r, {\\theta}, {\\phi})\\right)</script></html>"
      ],
      "text/plain": [
       "Chart (M_SD, (t, r, th, ph))"
      ]
     },
     "execution_count": 5,
     "metadata": {},
     "output_type": "execute_result"
    }
   ],
   "source": [
    "X_SD.<t,r,th,ph> = M_SD.chart(r't r:(0,+oo) th:(0,pi):\\theta ph:(0,2*pi):\\phi')\n",
    "m = var('m') ; assume(m>=0)\n",
    "X_SD.add_restrictions(r!=2*m)\n",
    "X_SD"
   ]
  },
  {
   "cell_type": "code",
   "execution_count": 6,
   "metadata": {
    "collapsed": false
   },
   "outputs": [
    {
     "data": {
      "text/html": [
       "<html><script type=\"math/tex; mode=display\">\\newcommand{\\Bold}[1]{\\mathbf{#1}}\\left(M_{\\rm I},(t, r, {\\theta}, {\\phi})\\right)</script></html>"
      ],
      "text/plain": [
       "Chart (M_I, (t, r, th, ph))"
      ]
     },
     "execution_count": 6,
     "metadata": {},
     "output_type": "execute_result"
    }
   ],
   "source": [
    "X_SD_I = X_SD.restrict(M_I, r>2*m) ; X_SD_I "
   ]
  },
  {
   "cell_type": "code",
   "execution_count": 7,
   "metadata": {
    "collapsed": false
   },
   "outputs": [
    {
     "data": {
      "text/html": [
       "<html><script type=\"math/tex; mode=display\">\\newcommand{\\Bold}[1]{\\mathbf{#1}}\\left(M_{\\rm II},(t, r, {\\theta}, {\\phi})\\right)</script></html>"
      ],
      "text/plain": [
       "Chart (M_II, (t, r, th, ph))"
      ]
     },
     "execution_count": 7,
     "metadata": {},
     "output_type": "execute_result"
    }
   ],
   "source": [
    "X_SD_II = X_SD.restrict(M_II, r<2*m) ; X_SD_II"
   ]
  },
  {
   "cell_type": "code",
   "execution_count": 8,
   "metadata": {
    "collapsed": false
   },
   "outputs": [
    {
     "data": {
      "text/html": [
       "<html><script type=\"math/tex; mode=display\">\\newcommand{\\Bold}[1]{\\mathbf{#1}}\\left(M_{\\rm SD},(t, r, {\\theta}, {\\phi})\\right)</script></html>"
      ],
      "text/plain": [
       "Chart (M_SD, (t, r, th, ph))"
      ]
     },
     "execution_count": 8,
     "metadata": {},
     "output_type": "execute_result"
    }
   ],
   "source": [
    "M.default_chart()"
   ]
  },
  {
   "cell_type": "markdown",
   "metadata": {},
   "source": [
    "## Eddington-Finkelstein coordinates\n",
    "\n",
    "The ingoing Eddington-Finkelstein chart:"
   ]
  },
  {
   "cell_type": "code",
   "execution_count": 9,
   "metadata": {
    "collapsed": false
   },
   "outputs": [
    {
     "data": {
      "text/html": [
       "<html><script type=\"math/tex; mode=display\">\\newcommand{\\Bold}[1]{\\mathbf{#1}}\\left(M_{\\rm EF},({\\tilde{t}}, r, {\\theta}, {\\phi})\\right)</script></html>"
      ],
      "text/plain": [
       "Chart (M_EF, (te, r, th, ph))"
      ]
     },
     "execution_count": 9,
     "metadata": {},
     "output_type": "execute_result"
    }
   ],
   "source": [
    "X_EF.<te,r,th,ph> = M_EF.chart(r'te:\\tilde{t} r:(0,+oo) th:(0,pi):\\theta ph:(0,2*pi):\\phi') \n",
    "X_EF"
   ]
  },
  {
   "cell_type": "code",
   "execution_count": 10,
   "metadata": {
    "collapsed": false
   },
   "outputs": [
    {
     "data": {
      "text/html": [
       "<html><script type=\"math/tex; mode=display\">\\newcommand{\\Bold}[1]{\\mathbf{#1}}\\left\\{\\begin{array}{lcl} {\\tilde{t}} & = & 2 \\, m \\log\\left({\\left| \\frac{r}{2 \\, m} - 1 \\right|}\\right) + t \\\\ r & = & r \\\\ {\\theta} & = & {\\theta} \\\\ {\\phi} & = & {\\phi} \\end{array}\\right.</script></html>"
      ],
      "text/plain": [
       "te = 2*m*log(abs(1/2*r/m - 1)) + t\n",
       "r = r\n",
       "th = th\n",
       "ph = ph"
      ]
     },
     "execution_count": 10,
     "metadata": {},
     "output_type": "execute_result"
    }
   ],
   "source": [
    "SD_to_EF = X_SD.transition_map(X_EF, [t+2*m*ln(abs(r/(2*m)-1)), r, th, ph])\n",
    "SD_to_EF.display()"
   ]
  },
  {
   "cell_type": "code",
   "execution_count": 11,
   "metadata": {
    "collapsed": false
   },
   "outputs": [
    {
     "data": {
      "text/html": [
       "<html><script type=\"math/tex; mode=display\">\\newcommand{\\Bold}[1]{\\mathbf{#1}}\\left\\{\\begin{array}{lcl} t & = & 2 \\, m \\log\\left(2\\right) + 2 \\, m \\log\\left(m\\right) - 2 \\, m \\log\\left({\\left| -2 \\, m + r \\right|}\\right) + {\\tilde{t}} \\\\ r & = & r \\\\ {\\theta} & = & {\\theta} \\\\ {\\phi} & = & {\\phi} \\end{array}\\right.</script></html>"
      ],
      "text/plain": [
       "t = 2*m*log(2) + 2*m*log(m) - 2*m*log(abs(-2*m + r)) + te\n",
       "r = r\n",
       "th = th\n",
       "ph = ph"
      ]
     },
     "execution_count": 11,
     "metadata": {},
     "output_type": "execute_result"
    }
   ],
   "source": [
    "SD_to_EF.inverse().display()"
   ]
  },
  {
   "cell_type": "code",
   "execution_count": 12,
   "metadata": {
    "collapsed": false
   },
   "outputs": [
    {
     "data": {
      "text/html": [
       "<html><script type=\"math/tex; mode=display\">\\newcommand{\\Bold}[1]{\\mathbf{#1}}\\left(M_{\\rm I},({\\tilde{t}}, r, {\\theta}, {\\phi})\\right)</script></html>"
      ],
      "text/plain": [
       "Chart (M_I, (te, r, th, ph))"
      ]
     },
     "execution_count": 12,
     "metadata": {},
     "output_type": "execute_result"
    }
   ],
   "source": [
    "X_EF_I = X_EF.restrict(M_I, r>2*m) ; X_EF_I "
   ]
  },
  {
   "cell_type": "code",
   "execution_count": 13,
   "metadata": {
    "collapsed": false
   },
   "outputs": [
    {
     "data": {
      "text/html": [
       "<html><script type=\"math/tex; mode=display\">\\newcommand{\\Bold}[1]{\\mathbf{#1}}\\left(M_{\\rm II},({\\tilde{t}}, r, {\\theta}, {\\phi})\\right)</script></html>"
      ],
      "text/plain": [
       "Chart (M_II, (te, r, th, ph))"
      ]
     },
     "execution_count": 13,
     "metadata": {},
     "output_type": "execute_result"
    }
   ],
   "source": [
    "X_EF_II = X_EF.restrict(M_II, r<2*m) ; X_EF_II "
   ]
  },
  {
   "cell_type": "code",
   "execution_count": 14,
   "metadata": {
    "collapsed": false
   },
   "outputs": [
    {
     "data": {
      "text/html": [
       "<html><script type=\"math/tex; mode=display\">\\newcommand{\\Bold}[1]{\\mathbf{#1}}\\left[\\left(M_{\\rm SD},(t, r, {\\theta}, {\\phi})\\right), \\left(M_{\\rm I},(t, r, {\\theta}, {\\phi})\\right), \\left(M_{\\rm II},(t, r, {\\theta}, {\\phi})\\right), \\left(M_{\\rm EF},({\\tilde{t}}, r, {\\theta}, {\\phi})\\right), \\left(M_{\\rm SD},({\\tilde{t}}, r, {\\theta}, {\\phi})\\right), \\left(M_{\\rm I},({\\tilde{t}}, r, {\\theta}, {\\phi})\\right), \\left(M_{\\rm II},({\\tilde{t}}, r, {\\theta}, {\\phi})\\right)\\right]</script></html>"
      ],
      "text/plain": [
       "[Chart (M_SD, (t, r, th, ph)),\n",
       " Chart (M_I, (t, r, th, ph)),\n",
       " Chart (M_II, (t, r, th, ph)),\n",
       " Chart (M_EF, (te, r, th, ph)),\n",
       " Chart (M_SD, (te, r, th, ph)),\n",
       " Chart (M_I, (te, r, th, ph)),\n",
       " Chart (M_II, (te, r, th, ph))]"
      ]
     },
     "execution_count": 14,
     "metadata": {},
     "output_type": "execute_result"
    }
   ],
   "source": [
    "M.atlas()"
   ]
  },
  {
   "cell_type": "code",
   "execution_count": null,
   "metadata": {
    "collapsed": false
   },
   "outputs": [],
   "source": []
  },
  {
   "cell_type": "markdown",
   "metadata": {
    "collapsed": true
   },
   "source": [
    "## Kruskal-Szekeres coordinates"
   ]
  },
  {
   "cell_type": "code",
   "execution_count": 15,
   "metadata": {
    "collapsed": false
   },
   "outputs": [
    {
     "data": {
      "text/html": [
       "<html><script type=\"math/tex; mode=display\">\\newcommand{\\Bold}[1]{\\mathbf{#1}}\\left(M,(T, X, {\\theta}, {\\phi})\\right)</script></html>"
      ],
      "text/plain": [
       "Chart (M, (T, X, th, ph))"
      ]
     },
     "execution_count": 15,
     "metadata": {},
     "output_type": "execute_result"
    }
   ],
   "source": [
    "X_KS.<T,X,th,ph> = M.chart(r'T X th:(0,pi):\\theta ph:(0,2*pi):\\phi')\n",
    "X_KS.add_restrictions(T^2 < 1 + X^2)\n",
    "X_KS"
   ]
  },
  {
   "cell_type": "code",
   "execution_count": 19,
   "metadata": {
    "collapsed": false
   },
   "outputs": [
    {
     "data": {
      "text/html": [
       "<html><script type=\"math/tex; mode=display\">\\newcommand{\\Bold}[1]{\\mathbf{#1}}\\left(M_{\\rm I},(T, X, {\\theta}, {\\phi})\\right)</script></html>"
      ],
      "text/plain": [
       "Chart (M_I, (T, X, th, ph))"
      ]
     },
     "execution_count": 19,
     "metadata": {},
     "output_type": "execute_result"
    }
   ],
   "source": [
    "X_KS_I = X_KS.restrict(M_I, [X>0, T<X, T>-X]) ; X_KS_I "
   ]
  },
  {
   "cell_type": "code",
   "execution_count": 20,
   "metadata": {
    "collapsed": false
   },
   "outputs": [
    {
     "data": {
      "text/html": [
       "<html><script type=\"math/tex; mode=display\">\\newcommand{\\Bold}[1]{\\mathbf{#1}}\\left(M_{\\rm II},(T, X, {\\theta}, {\\phi})\\right)</script></html>"
      ],
      "text/plain": [
       "Chart (M_II, (T, X, th, ph))"
      ]
     },
     "execution_count": 20,
     "metadata": {},
     "output_type": "execute_result"
    }
   ],
   "source": [
    "X_KS_II = X_KS.restrict(M_II, [T<sqrt(1+X^2), T>abs(X)]) ; X_KS_II"
   ]
  },
  {
   "cell_type": "code",
   "execution_count": 21,
   "metadata": {
    "collapsed": false
   },
   "outputs": [
    {
     "data": {
      "text/html": [
       "<html><script type=\"math/tex; mode=display\">\\newcommand{\\Bold}[1]{\\mathbf{#1}}\\left(M_{\\rm EF},(T, X, {\\theta}, {\\phi})\\right)</script></html>"
      ],
      "text/plain": [
       "Chart (M_EF, (T, X, th, ph))"
      ]
     },
     "execution_count": 21,
     "metadata": {},
     "output_type": "execute_result"
    }
   ],
   "source": [
    "X_KS_EF = X_KS.restrict(M_EF, [-X<T, T<sqrt(1+X^2)]) ; X_KS_EF"
   ]
  },
  {
   "cell_type": "code",
   "execution_count": 24,
   "metadata": {
    "collapsed": false
   },
   "outputs": [
    {
     "data": {
      "text/html": [
       "<html><script type=\"math/tex; mode=display\">\\newcommand{\\Bold}[1]{\\mathbf{#1}}\\left\\{\\begin{array}{lcl} T & = & \\sqrt{\\frac{r}{2 \\, m} - 1} e^{\\left(\\frac{r}{4 \\, m}\\right)} \\sinh\\left(\\frac{t}{4 \\, m}\\right) \\\\ X & = & \\sqrt{\\frac{r}{2 \\, m} - 1} \\cosh\\left(\\frac{t}{4 \\, m}\\right) e^{\\left(\\frac{r}{4 \\, m}\\right)} \\\\ {\\theta} & = & {\\theta} \\\\ {\\phi} & = & {\\phi} \\end{array}\\right.</script></html>"
      ],
      "text/plain": [
       "T = sqrt(1/2*r/m - 1)*e^(1/4*r/m)*sinh(1/4*t/m)\n",
       "X = sqrt(1/2*r/m - 1)*cosh(1/4*t/m)*e^(1/4*r/m)\n",
       "th = th\n",
       "ph = ph"
      ]
     },
     "execution_count": 24,
     "metadata": {},
     "output_type": "execute_result"
    }
   ],
   "source": [
    "SD_I_to_KS = X_SD_I.transition_map(X_KS_I, [sqrt(r/(2*m)-1)*exp(r/(4*m))*sinh(t/(4*m)), \n",
    "                                            sqrt(r/(2*m)-1)*exp(r/(4*m))*cosh(t/(4*m)), \n",
    "                                            th, ph])\n",
    "SD_I_to_KS.display()"
   ]
  },
  {
   "cell_type": "code",
   "execution_count": 26,
   "metadata": {
    "collapsed": false
   },
   "outputs": [
    {
     "data": {
      "text/html": [
       "<html><script type=\"math/tex; mode=display\">\\newcommand{\\Bold}[1]{\\mathbf{#1}}\\left\\{\\begin{array}{lcl} T & = & \\sqrt{-\\frac{r}{2 \\, m} + 1} \\cosh\\left(\\frac{t}{4 \\, m}\\right) e^{\\left(\\frac{r}{4 \\, m}\\right)} \\\\ X & = & \\sqrt{-\\frac{r}{2 \\, m} + 1} e^{\\left(\\frac{r}{4 \\, m}\\right)} \\sinh\\left(\\frac{t}{4 \\, m}\\right) \\\\ {\\theta} & = & {\\theta} \\\\ {\\phi} & = & {\\phi} \\end{array}\\right.</script></html>"
      ],
      "text/plain": [
       "T = sqrt(-1/2*r/m + 1)*cosh(1/4*t/m)*e^(1/4*r/m)\n",
       "X = sqrt(-1/2*r/m + 1)*e^(1/4*r/m)*sinh(1/4*t/m)\n",
       "th = th\n",
       "ph = ph"
      ]
     },
     "execution_count": 26,
     "metadata": {},
     "output_type": "execute_result"
    }
   ],
   "source": [
    "SD_II_to_KS = X_SD_II.transition_map(X_KS_II, [sqrt(1-r/(2*m))*exp(r/(4*m))*cosh(t/(4*m)), \n",
    "                                               sqrt(1-r/(2*m))*exp(r/(4*m))*sinh(t/(4*m)), \n",
    "                                               th, ph])\n",
    "SD_II_to_KS.display()"
   ]
  },
  {
   "cell_type": "code",
   "execution_count": 28,
   "metadata": {
    "collapsed": false
   },
   "outputs": [
    {
     "data": {
      "text/html": [
       "<html><script type=\"math/tex; mode=display\">\\newcommand{\\Bold}[1]{\\mathbf{#1}}\\left\\{\\begin{array}{lcl} T & = & -\\frac{1}{4} \\, {\\left(\\frac{r e^{\\left(-\\frac{{\\tilde{t}}}{4 \\, m}\\right)}}{m} - 4 \\, \\cosh\\left(\\frac{{\\tilde{t}}}{4 \\, m}\\right)\\right)} e^{\\left(\\frac{r}{4 \\, m}\\right)} \\\\ X & = & \\frac{1}{4} \\, {\\left(\\frac{r e^{\\left(-\\frac{{\\tilde{t}}}{4 \\, m}\\right)}}{m} + 4 \\, \\sinh\\left(\\frac{{\\tilde{t}}}{4 \\, m}\\right)\\right)} e^{\\left(\\frac{r}{4 \\, m}\\right)} \\\\ {\\theta} & = & {\\theta} \\\\ {\\phi} & = & {\\phi} \\end{array}\\right.</script></html>"
      ],
      "text/plain": [
       "T = -1/4*(r*e^(-1/4*te/m)/m - 4*cosh(1/4*te/m))*e^(1/4*r/m)\n",
       "X = 1/4*(r*e^(-1/4*te/m)/m + 4*sinh(1/4*te/m))*e^(1/4*r/m)\n",
       "th = th\n",
       "ph = ph"
      ]
     },
     "execution_count": 28,
     "metadata": {},
     "output_type": "execute_result"
    }
   ],
   "source": [
    "EF_to_KS = X_EF.transition_map(X_KS_EF, [exp(r/(4*m))*(cosh(te/(4*m))-r/(4*m)*exp(-te/(4*m))), \n",
    "                                         exp(r/(4*m))*(sinh(te/(4*m))+r/(4*m)*exp(-te/(4*m))), \n",
    "                                         th, ph])\n",
    "EF_to_KS.display()"
   ]
  },
  {
   "cell_type": "code",
   "execution_count": 48,
   "metadata": {
    "collapsed": false
   },
   "outputs": [
    {
     "data": {
      "image/png": "[encoded data removed]",
      "text/plain": [
       "Graphics object consisting of 40 graphics primitives"
      ]
     },
     "metadata": {},
     "output_type": "display_data"
    }
   ],
   "source": [
    "graph = X_EF.plot(X_KS, ambient_coords=(X,T), fixed_coords={th:pi/2,ph:0}, \n",
    "                  ranges={te:(-16,12), r:(0.0001,5)}, nb_values={te:24, r:16}, \n",
    "                  style={te:'--', r:'-'}, parameters={m:1})\n",
    "show(graph, xmin=-3, xmax=3, ymin=-3, ymax=3)"
   ]
  },
  {
   "cell_type": "code",
   "execution_count": null,
   "metadata": {
    "collapsed": true
   },
   "outputs": [],
   "source": []
  },
  {
   "cell_type": "markdown",
   "metadata": {},
   "source": [
    "## Radial null geodesics\n",
    "\n",
    "The outgoing family:"
   ]
  },
  {
   "cell_type": "code",
   "execution_count": 49,
   "metadata": {
    "collapsed": false
   },
   "outputs": [
    {
     "data": {
      "text/html": [
       "<html><script type=\"math/tex; mode=display\">\\newcommand{\\Bold}[1]{\\mathbf{#1}}\\begin{array}{llcl} & \\left( 0 , +\\infty \\right) & \\longrightarrow & M \\\\ & r & \\longmapsto & \\left({\\tilde{t}}, r, {\\theta}, {\\phi}\\right) = \\left(4 \\, m \\log\\left({\\left| \\frac{r}{2 \\, m} - 1 \\right|}\\right) + r + u, r, \\frac{1}{2} \\, \\pi, \\pi\\right) \\\\ & r & \\longmapsto & \\left(T, X, {\\theta}, {\\phi}\\right) = \\left(\\frac{{\\left(2 \\, {\\left| -2 \\, m + r \\right|} \\cosh\\left(-\\frac{4 \\, m \\log\\left(2\\right) + 4 \\, m \\log\\left(m\\right) - 4 \\, m \\log\\left({\\left| -2 \\, m + r \\right|}\\right) - r - u}{4 \\, m}\\right) e^{\\left(\\frac{r}{4 \\, m} + \\frac{u}{4 \\, m}\\right)} - r\\right)} e^{\\left(-\\frac{u}{4 \\, m}\\right)}}{2 \\, {\\left| -2 \\, m + r \\right|}}, \\frac{{\\left(2 \\, {\\left| -2 \\, m + r \\right|} e^{\\left(\\frac{r}{4 \\, m} + \\frac{u}{4 \\, m}\\right)} \\sinh\\left(-\\frac{4 \\, m \\log\\left(2\\right) + 4 \\, m \\log\\left(m\\right) - 4 \\, m \\log\\left({\\left| -2 \\, m + r \\right|}\\right) - r - u}{4 \\, m}\\right) + r\\right)} e^{\\left(-\\frac{u}{4 \\, m}\\right)}}{2 \\, {\\left| -2 \\, m + r \\right|}}, \\frac{1}{2} \\, \\pi, \\pi\\right) \\end{array}</script></html>"
      ],
      "text/plain": [
       "(0, +Infinity) --> M\n",
       "   r |--> (te, r, th, ph) = (4*m*log(abs(1/2*r/m - 1)) + r + u, r, 1/2*pi, pi)\n",
       "   r |--> (T, X, th, ph) = (1/2*(2*abs(-2*m + r)*cosh(-1/4*(4*m*log(2) + 4*m*log(m) - 4*m*log(abs(-2*m + r)) - r - u)/m)*e^(1/4*r/m + 1/4*u/m) - r)*e^(-1/4*u/m)/abs(-2*m + r), 1/2*(2*abs(-2*m + r)*e^(1/4*r/m + 1/4*u/m)*sinh(-1/4*(4*m*log(2) + 4*m*log(m) - 4*m*log(abs(-2*m + r)) - r - u)/m) + r)*e^(-1/4*u/m)/abs(-2*m + r), 1/2*pi, pi)"
      ]
     },
     "execution_count": 49,
     "metadata": {},
     "output_type": "execute_result"
    }
   ],
   "source": [
    "var('u')\n",
    "outgeod = M.curve({X_EF: [r + 4*m*ln(abs(r/(2*m)-1)) + u, r, pi/2, pi]}, (r, 0, +Infinity))\n",
    "outgeod.display()"
   ]
  },
  {
   "cell_type": "markdown",
   "metadata": {},
   "source": [
    "The ingoing family:"
   ]
  },
  {
   "cell_type": "code",
   "execution_count": 50,
   "metadata": {
    "collapsed": false
   },
   "outputs": [
    {
     "data": {
      "text/html": [
       "<html><script type=\"math/tex; mode=display\">\\newcommand{\\Bold}[1]{\\mathbf{#1}}\\begin{array}{llcl} & \\left( 0 , +\\infty \\right) & \\longrightarrow & M \\\\ & r & \\longmapsto & \\left({\\tilde{t}}, r, {\\theta}, {\\phi}\\right) = \\left(-r + v, r, \\frac{1}{2} \\, \\pi, \\pi\\right) \\\\ & r & \\longmapsto & \\left(T, X, {\\theta}, {\\phi}\\right) = \\left(\\frac{{\\left(4 \\, m \\cosh\\left(-\\frac{r - v}{4 \\, m}\\right) e^{\\left(\\frac{r}{4 \\, m} + \\frac{v}{4 \\, m}\\right)} - r e^{\\left(\\frac{r}{2 \\, m}\\right)}\\right)} e^{\\left(-\\frac{v}{4 \\, m}\\right)}}{4 \\, m}, \\frac{{\\left(4 \\, m e^{\\left(\\frac{r}{4 \\, m} + \\frac{v}{4 \\, m}\\right)} \\sinh\\left(-\\frac{r - v}{4 \\, m}\\right) + r e^{\\left(\\frac{r}{2 \\, m}\\right)}\\right)} e^{\\left(-\\frac{v}{4 \\, m}\\right)}}{4 \\, m}, \\frac{1}{2} \\, \\pi, \\pi\\right) \\end{array}</script></html>"
      ],
      "text/plain": [
       "(0, +Infinity) --> M\n",
       "   r |--> (te, r, th, ph) = (-r + v, r, 1/2*pi, pi)\n",
       "   r |--> (T, X, th, ph) = (1/4*(4*m*cosh(-1/4*(r - v)/m)*e^(1/4*r/m + 1/4*v/m) - r*e^(1/2*r/m))*e^(-1/4*v/m)/m, 1/4*(4*m*e^(1/4*r/m + 1/4*v/m)*sinh(-1/4*(r - v)/m) + r*e^(1/2*r/m))*e^(-1/4*v/m)/m, 1/2*pi, pi)"
      ]
     },
     "execution_count": 50,
     "metadata": {},
     "output_type": "execute_result"
    }
   ],
   "source": [
    "var('v')\n",
    "ingeod = M.curve({X_EF: [-r + v, r, pi/2, pi]}, (r, 0, +Infinity))\n",
    "ingeod.display()"
   ]
  },
  {
   "cell_type": "code",
   "execution_count": null,
   "metadata": {
    "collapsed": true
   },
   "outputs": [],
   "source": []
  }
 ],
 "metadata": {
  "kernelspec": {
   "display_name": "SageMath 7.2.rc1",
   "language": "",
   "name": "sagemath"
  },
  "language_info": {
   "codemirror_mode": {
    "name": "ipython",
    "version": 2
   },
   "file_extension": ".py",
   "mimetype": "text/x-python",
   "name": "python",
   "nbconvert_exporter": "python",
   "pygments_lexer": "ipython2",
   "version": "2.7.10"
  },
  "widgets": {
   "state": {},
   "version": "1.1.2"
  }
 },
 "nbformat": 4,
 "nbformat_minor": 0
}
